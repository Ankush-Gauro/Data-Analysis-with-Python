{
 "cells": [
  {
   "cell_type": "markdown",
   "id": "19fd0551",
   "metadata": {},
   "source": [
    "Importing Libraries"
   ]
  },
  {
   "cell_type": "code",
   "execution_count": 2,
   "id": "559614bd",
   "metadata": {},
   "outputs": [],
   "source": [
    "# for mathematical operations\n",
    "import numpy as np \n",
    "\n",
    "# for dataframe operations\n",
    "import pandas as pd \n",
    "\n",
    "# for data visualizations\n",
    "import matplotlib.pyplot as plt\n",
    "import seaborn as sns\n",
    "\n",
    "# lets select  a background style\n",
    "plt.style.use('fivethirtyeight')\n",
    "plt.rcParams['figure.figsize'] = (16, 7)\n",
    "\n",
    "\n",
    "\n",
    "# for interactivity\n",
    "import ipywidgets as widgets\n",
    "from ipywidgets import interact\n",
    "from ipywidgets import interact_manual"
   ]
  },
  {
   "cell_type": "markdown",
   "id": "118a6696",
   "metadata": {},
   "source": [
    "Reading Data"
   ]
  },
  {
   "cell_type": "code",
   "execution_count": 3,
   "id": "1a53c0f3",
   "metadata": {},
   "outputs": [
    {
     "data": {
      "text/html": [
       "<div>\n",
       "<style scoped>\n",
       "    .dataframe tbody tr th:only-of-type {\n",
       "        vertical-align: middle;\n",
       "    }\n",
       "\n",
       "    .dataframe tbody tr th {\n",
       "        vertical-align: top;\n",
       "    }\n",
       "\n",
       "    .dataframe thead th {\n",
       "        text-align: right;\n",
       "    }\n",
       "</style>\n",
       "<table border=\"1\" class=\"dataframe\">\n",
       "  <thead>\n",
       "    <tr style=\"text-align: right;\">\n",
       "      <th></th>\n",
       "      <th>SNo</th>\n",
       "      <th>Date</th>\n",
       "      <th>StartupName</th>\n",
       "      <th>IndustryVertical</th>\n",
       "      <th>SubVertical</th>\n",
       "      <th>City</th>\n",
       "      <th>InvestorsName</th>\n",
       "      <th>InvestmentType</th>\n",
       "      <th>AmountInUSD</th>\n",
       "      <th>Remarks</th>\n",
       "    </tr>\n",
       "  </thead>\n",
       "  <tbody>\n",
       "    <tr>\n",
       "      <th>0</th>\n",
       "      <td>1</td>\n",
       "      <td>09/01/2020</td>\n",
       "      <td>BYJU’S</td>\n",
       "      <td>E-Tech</td>\n",
       "      <td>E-learning</td>\n",
       "      <td>Bengaluru</td>\n",
       "      <td>Tiger Global Management</td>\n",
       "      <td>Private Equity Round</td>\n",
       "      <td>20,00,00,000</td>\n",
       "      <td>nan</td>\n",
       "    </tr>\n",
       "    <tr>\n",
       "      <th>1</th>\n",
       "      <td>2</td>\n",
       "      <td>13/01/2020</td>\n",
       "      <td>Shuttl</td>\n",
       "      <td>Transportation</td>\n",
       "      <td>App based shuttle service</td>\n",
       "      <td>Gurgaon</td>\n",
       "      <td>Susquehanna Growth Equity</td>\n",
       "      <td>Series C</td>\n",
       "      <td>80,48,394</td>\n",
       "      <td>nan</td>\n",
       "    </tr>\n",
       "    <tr>\n",
       "      <th>2</th>\n",
       "      <td>3</td>\n",
       "      <td>09/01/2020</td>\n",
       "      <td>Mamaearth</td>\n",
       "      <td>E-commerce</td>\n",
       "      <td>Retailer of baby and toddler products</td>\n",
       "      <td>Bengaluru</td>\n",
       "      <td>Sequoia Capital India</td>\n",
       "      <td>Series B</td>\n",
       "      <td>1,83,58,860</td>\n",
       "      <td>nan</td>\n",
       "    </tr>\n",
       "    <tr>\n",
       "      <th>3</th>\n",
       "      <td>4</td>\n",
       "      <td>02/01/2020</td>\n",
       "      <td>https://www.wealthbucket.in/</td>\n",
       "      <td>FinTech</td>\n",
       "      <td>Online Investment</td>\n",
       "      <td>New Delhi</td>\n",
       "      <td>Vinod Khatumal</td>\n",
       "      <td>Pre-series A</td>\n",
       "      <td>30,00,000</td>\n",
       "      <td>nan</td>\n",
       "    </tr>\n",
       "    <tr>\n",
       "      <th>4</th>\n",
       "      <td>5</td>\n",
       "      <td>02/01/2020</td>\n",
       "      <td>Fashor</td>\n",
       "      <td>Fashion and Apparel</td>\n",
       "      <td>Embroiled Clothes For Women</td>\n",
       "      <td>Mumbai</td>\n",
       "      <td>Sprout Venture Partners</td>\n",
       "      <td>Seed Round</td>\n",
       "      <td>18,00,000</td>\n",
       "      <td>nan</td>\n",
       "    </tr>\n",
       "  </tbody>\n",
       "</table>\n",
       "</div>"
      ],
      "text/plain": [
       "   SNo        Date                   StartupName     IndustryVertical  \\\n",
       "0    1  09/01/2020                        BYJU’S               E-Tech   \n",
       "1    2  13/01/2020                        Shuttl       Transportation   \n",
       "2    3  09/01/2020                     Mamaearth           E-commerce   \n",
       "3    4  02/01/2020  https://www.wealthbucket.in/              FinTech   \n",
       "4    5  02/01/2020                        Fashor  Fashion and Apparel   \n",
       "\n",
       "                             SubVertical       City  \\\n",
       "0                             E-learning  Bengaluru   \n",
       "1              App based shuttle service    Gurgaon   \n",
       "2  Retailer of baby and toddler products  Bengaluru   \n",
       "3                      Online Investment  New Delhi   \n",
       "4            Embroiled Clothes For Women     Mumbai   \n",
       "\n",
       "               InvestorsName        InvestmentType   AmountInUSD Remarks  \n",
       "0    Tiger Global Management  Private Equity Round  20,00,00,000     nan  \n",
       "1  Susquehanna Growth Equity              Series C     80,48,394     nan  \n",
       "2      Sequoia Capital India              Series B   1,83,58,860     nan  \n",
       "3             Vinod Khatumal          Pre-series A     30,00,000     nan  \n",
       "4    Sprout Venture Partners            Seed Round     18,00,000     nan  "
      ]
     },
     "execution_count": 3,
     "metadata": {},
     "output_type": "execute_result"
    }
   ],
   "source": [
    "# lets import the data\n",
    "data = pd.read_csv(\"startup_funding.csv\")\n",
    "\n",
    "# changing the names of the columns inside the data\n",
    "data.columns = [\"SNo\", \"Date\", \"StartupName\", \"IndustryVertical\", \"SubVertical\",\n",
    "                        \"City\", \"InvestorsName\", \"InvestmentType\", \"AmountInUSD\", \"Remarks\"]\n",
    "\n",
    "# lets clean the strings\n",
    "def clean_string(x):\n",
    "    return str(x).replace(\"\\\\xc2\\\\xa0\",\"\").replace(\"\\\\\\\\xc2\\\\\\\\xa0\", \"\")\n",
    "\n",
    "# lets apply the function to clean the data\n",
    "for col in [\"StartupName\", \"IndustryVertical\", \"SubVertical\", \"City\", \n",
    "            \"InvestorsName\", \"InvestmentType\", \"AmountInUSD\", \"Remarks\"]:\n",
    "    data[col] = data[col].apply(lambda x: clean_string(x))\n",
    "    \n",
    "# lets check the head of the data\n",
    "data.head()"
   ]
  },
  {
   "cell_type": "code",
   "execution_count": 4,
   "id": "3d9ac4df",
   "metadata": {},
   "outputs": [
    {
     "data": {
      "text/plain": [
       "Index(['SNo', 'Date', 'StartupName', 'IndustryVertical', 'SubVertical', 'City',\n",
       "       'InvestorsName', 'InvestmentType', 'AmountInUSD', 'Remarks'],\n",
       "      dtype='object')"
      ]
     },
     "execution_count": 4,
     "metadata": {},
     "output_type": "execute_result"
    }
   ],
   "source": [
    "# lets check the column names of the data\n",
    "data.columns"
   ]
  },
  {
   "cell_type": "code",
   "execution_count": 5,
   "id": "bd6e1a8b",
   "metadata": {},
   "outputs": [
    {
     "name": "stdout",
     "output_type": "stream",
     "text": [
      "Size of data (3044, 10)\n"
     ]
    }
   ],
   "source": [
    "# lets check the shape of the data\n",
    "print(\"Size of data\", data.shape)"
   ]
  },
  {
   "cell_type": "markdown",
   "id": "add5812c",
   "metadata": {},
   "source": [
    "Data Cleaning"
   ]
  },
  {
   "cell_type": "code",
   "execution_count": 6,
   "id": "f14c661e",
   "metadata": {},
   "outputs": [
    {
     "data": {
      "text/html": [
       "<div>\n",
       "<style scoped>\n",
       "    .dataframe tbody tr th:only-of-type {\n",
       "        vertical-align: middle;\n",
       "    }\n",
       "\n",
       "    .dataframe tbody tr th {\n",
       "        vertical-align: top;\n",
       "    }\n",
       "\n",
       "    .dataframe thead th {\n",
       "        text-align: right;\n",
       "    }\n",
       "</style>\n",
       "<table border=\"1\" class=\"dataframe\">\n",
       "  <thead>\n",
       "    <tr style=\"text-align: right;\">\n",
       "      <th></th>\n",
       "      <th>Total</th>\n",
       "      <th>Percent %</th>\n",
       "    </tr>\n",
       "  </thead>\n",
       "  <tbody>\n",
       "    <tr>\n",
       "      <th>SNo</th>\n",
       "      <td>0</td>\n",
       "      <td>0.0</td>\n",
       "    </tr>\n",
       "    <tr>\n",
       "      <th>Date</th>\n",
       "      <td>0</td>\n",
       "      <td>0.0</td>\n",
       "    </tr>\n",
       "    <tr>\n",
       "      <th>StartupName</th>\n",
       "      <td>0</td>\n",
       "      <td>0.0</td>\n",
       "    </tr>\n",
       "    <tr>\n",
       "      <th>IndustryVertical</th>\n",
       "      <td>0</td>\n",
       "      <td>0.0</td>\n",
       "    </tr>\n",
       "    <tr>\n",
       "      <th>SubVertical</th>\n",
       "      <td>0</td>\n",
       "      <td>0.0</td>\n",
       "    </tr>\n",
       "    <tr>\n",
       "      <th>City</th>\n",
       "      <td>0</td>\n",
       "      <td>0.0</td>\n",
       "    </tr>\n",
       "    <tr>\n",
       "      <th>InvestorsName</th>\n",
       "      <td>0</td>\n",
       "      <td>0.0</td>\n",
       "    </tr>\n",
       "    <tr>\n",
       "      <th>InvestmentType</th>\n",
       "      <td>0</td>\n",
       "      <td>0.0</td>\n",
       "    </tr>\n",
       "    <tr>\n",
       "      <th>AmountInUSD</th>\n",
       "      <td>0</td>\n",
       "      <td>0.0</td>\n",
       "    </tr>\n",
       "    <tr>\n",
       "      <th>Remarks</th>\n",
       "      <td>0</td>\n",
       "      <td>0.0</td>\n",
       "    </tr>\n",
       "  </tbody>\n",
       "</table>\n",
       "</div>"
      ],
      "text/plain": [
       "                  Total  Percent %\n",
       "SNo                   0        0.0\n",
       "Date                  0        0.0\n",
       "StartupName           0        0.0\n",
       "IndustryVertical      0        0.0\n",
       "SubVertical           0        0.0\n",
       "City                  0        0.0\n",
       "InvestorsName         0        0.0\n",
       "InvestmentType        0        0.0\n",
       "AmountInUSD           0        0.0\n",
       "Remarks               0        0.0"
      ]
     },
     "execution_count": 6,
     "metadata": {},
     "output_type": "execute_result"
    }
   ],
   "source": [
    "# missing data \n",
    "\n",
    "# lets import warnings module\n",
    "import warnings\n",
    "warnings.filterwarnings('ignore')\n",
    "\n",
    "# lets calculate the total missing values in the data\n",
    "total = data.isnull().sum().sort_values(ascending = False)\n",
    "\n",
    "# lets calculate the percentage of missing values in the data\n",
    "percent = ((data.isnull().sum()/data.isnull().count())*100).sort_values(ascending = False)\n",
    "\n",
    "# lets store the above two values in a dataset called missing data\n",
    "missing_data = pd.concat([total, percent], axis=1, keys=['Total', 'Percent %'])\n",
    "\n",
    "# lets check the head of the data\n",
    "missing_data"
   ]
  },
  {
   "cell_type": "code",
   "execution_count": 7,
   "id": "015257a5",
   "metadata": {},
   "outputs": [
    {
     "data": {
      "text/plain": [
       "Remarks\n",
       "nan                                  2625\n",
       "Series A                              177\n",
       "Series B                               64\n",
       "Pre-Series A                           37\n",
       "Series C                               28\n",
       "                                     ... \n",
       "pre Series-A                            1\n",
       "QPrize Contest Winners                  1\n",
       "pre series A                            1\n",
       "pre-series A                            1\n",
       "Strategic Funding, Minority stake       1\n",
       "Name: count, Length: 70, dtype: int64"
      ]
     },
     "execution_count": 7,
     "metadata": {},
     "output_type": "execute_result"
    }
   ],
   "source": [
    "# lets check the values in the Remarks column\n",
    "data['Remarks'].value_counts()"
   ]
  },
  {
   "cell_type": "code",
   "execution_count": 8,
   "id": "a6ca4a5f",
   "metadata": {},
   "outputs": [
    {
     "data": {
      "text/plain": [
       "Index(['SNo', 'Date', 'StartupName', 'IndustryVertical', 'SubVertical', 'City',\n",
       "       'InvestorsName', 'InvestmentType', 'AmountInUSD'],\n",
       "      dtype='object')"
      ]
     },
     "execution_count": 8,
     "metadata": {},
     "output_type": "execute_result"
    }
   ],
   "source": [
    "# lets remove Remarks column, as it contains a lot of nans, and high cardinal column\n",
    "\n",
    "data = data.drop(['Remarks'], axis = 1)\n",
    "\n",
    "# lets check the column names after removing the Remarks Column, as it having \n",
    "data.columns"
   ]
  },
  {
   "cell_type": "code",
   "execution_count": 9,
   "id": "63bd3117",
   "metadata": {},
   "outputs": [
    {
     "data": {
      "image/png": "[encoded data removed]",
      "text/plain": [
       "<Figure size 1500x300 with 1 Axes>"
      ]
     },
     "metadata": {},
     "output_type": "display_data"
    }
   ],
   "source": [
    "# lets convert the amount column into numerical, so that we can analyze the values inside it\n",
    "\n",
    "# function to clean the AmounInUsd Column\n",
    "def clean_amount(x):\n",
    "    x = ''.join([c for c in str(x) if c in ['0', '1', '2', '3', '4', '5', '6', '7', '8', '9']])\n",
    "    x = str(x).replace(\",\",\"\").replace(\"+\",\"\")\n",
    "    x = str(x).lower().replace(\"undisclosed\",\"\")\n",
    "    x = str(x).lower().replace(\"n/a\",\"\")\n",
    "    if x == '':\n",
    "        x = '-999'\n",
    "    return x\n",
    "\n",
    "# lets apply the function on the column\n",
    "data[\"AmountInUSD\"] = data[\"AmountInUSD\"].apply(lambda x: float(clean_amount(x)))\n",
    "\n",
    "# lets check the head of the column after cleaning it\n",
    "plt.rcParams['figure.figsize'] = (15, 3)\n",
    "data['AmountInUSD'].plot(kind = 'line', color = 'black')\n",
    "plt.title('Distribution of Amount', fontsize = 15)\n",
    "plt.show()"
   ]
  },
  {
   "cell_type": "code",
   "execution_count": 10,
   "id": "979d134b",
   "metadata": {},
   "outputs": [],
   "source": [
    "## Cleaning the dates\n",
    "\n",
    "data['Date'][data['Date']=='12/05.2015'] = '12/05/2015'\n",
    "data['Date'][data['Date']=='13/04.2015'] = '13/04/2015'\n",
    "data['Date'][data['Date']=='15/01.2015'] = '15/01/2015'\n",
    "data['Date'][data['Date']=='22/01//2015'] = '22/01/2015'\n",
    "data['Date'][data['Date']=='05/072018'] = '05/07/2018'\n",
    "data['Date'][data['Date']=='01/07/015'] = '01/07/2015'\n",
    "data['Date'][data['Date']=='\\\\\\\\xc2\\\\\\\\xa010/7/2015'] = '10/07/2015'"
   ]
  },
  {
   "cell_type": "code",
   "execution_count": 11,
   "id": "40a159ca",
   "metadata": {},
   "outputs": [
    {
     "name": "stdout",
     "output_type": "stream",
     "text": [
      "Number of funding per month in decreasing order(Top 10)\n",
      " yearmonth\n",
      "201601    104\n",
      "201602    100\n",
      "201507     98\n",
      "201606     98\n",
      "201508     98\n",
      "201510     93\n",
      "201511     92\n",
      "201512     89\n",
      "201509     88\n",
      "201608     87\n",
      "Name: count, dtype: int64\n"
     ]
    },
    {
     "ename": "TypeError",
     "evalue": "barplot() takes from 0 to 1 positional arguments but 2 positional arguments (and 1 keyword-only argument) were given",
     "output_type": "error",
     "traceback": [
      "\u001b[1;31m---------------------------------------------------------------------------\u001b[0m",
      "\u001b[1;31mTypeError\u001b[0m                                 Traceback (most recent call last)",
      "Cell \u001b[1;32mIn[11], line 14\u001b[0m\n\u001b[0;32m     12\u001b[0m \u001b[38;5;66;03m# lets plot the data\u001b[39;00m\n\u001b[0;32m     13\u001b[0m plt\u001b[38;5;241m.\u001b[39mrcParams[\u001b[38;5;124m'\u001b[39m\u001b[38;5;124mfigure.figsize\u001b[39m\u001b[38;5;124m'\u001b[39m] \u001b[38;5;241m=\u001b[39m (\u001b[38;5;241m15\u001b[39m, \u001b[38;5;241m7\u001b[39m)\n\u001b[1;32m---> 14\u001b[0m sns\u001b[38;5;241m.\u001b[39mbarplot(year_month\u001b[38;5;241m.\u001b[39mindex, year_month\u001b[38;5;241m.\u001b[39mvalues, palette \u001b[38;5;241m=\u001b[39m \u001b[38;5;124m'\u001b[39m\u001b[38;5;124mcopper\u001b[39m\u001b[38;5;124m'\u001b[39m)\n\u001b[0;32m     15\u001b[0m plt\u001b[38;5;241m.\u001b[39mxticks(rotation \u001b[38;5;241m=\u001b[39m \u001b[38;5;241m90\u001b[39m)\n\u001b[0;32m     16\u001b[0m plt\u001b[38;5;241m.\u001b[39mxlabel(\u001b[38;5;124m'\u001b[39m\u001b[38;5;124mYear-Month of transaction\u001b[39m\u001b[38;5;124m'\u001b[39m, fontsize\u001b[38;5;241m=\u001b[39m\u001b[38;5;241m12\u001b[39m)\n",
      "\u001b[1;31mTypeError\u001b[0m: barplot() takes from 0 to 1 positional arguments but 2 positional arguments (and 1 keyword-only argument) were given"
     ]
    }
   ],
   "source": [
    "# some of the date formats are written wrongly so we have to clean them thoroughly so that we can analyze these values\n",
    "\n",
    "# converting them into a Datetime object\n",
    "data[\"yearmonth\"] = (pd.to_datetime(data['Date'],\n",
    "         format='%d/%m/%Y').dt.year*100)+(pd.to_datetime(data['Date'],format='%d/%m/%Y').dt.month)\n",
    "\n",
    "\n",
    "temp = data['yearmonth'].value_counts().sort_values(ascending = False).head(10)\n",
    "print(\"Number of funding per month in decreasing order(Top 10)\\n\",temp)\n",
    "year_month = data['yearmonth'].value_counts()\n",
    "\n",
    "# lets plot the data\n",
    "plt.rcParams['figure.figsize'] = (15, 7)\n",
    "sns.barplot(year_month.index, year_month.values, palette = 'copper')\n",
    "plt.xticks(rotation = 90)\n",
    "plt.xlabel('Year-Month of transaction', fontsize=12)\n",
    "plt.ylabel('Number of fundings made', fontsize=12)\n",
    "plt.title(\"Year-Month Distribution\", fontsize=16)\n",
    "plt.show()"
   ]
  },
  {
   "cell_type": "code",
   "execution_count": 12,
   "id": "02328c65",
   "metadata": {},
   "outputs": [
    {
     "name": "stdout",
     "output_type": "stream",
     "text": [
      "Maximum funding to a Startups is :  3900000000.0\n"
     ]
    }
   ],
   "source": [
    "# lets check the Maximum funding of a startup\n",
    "print(\"Maximum funding to a Startups is : \", data[\"AmountInUSD\"].dropna().sort_values().max())"
   ]
  },
  {
   "cell_type": "code",
   "execution_count": null,
   "id": "804e1d8e",
   "metadata": {},
   "outputs": [
    {
     "data": {
      "application/vnd.jupyter.widget-view+json": {
       "model_id": "c2c608a83308444eb028648b4d1f4714",
       "version_major": 2,
       "version_minor": 0
      },
      "text/plain": [
       "interactive(children=(Text(value='AmountInUSD', description='column'), IntSlider(value=500000000, description=…"
      ]
     },
     "metadata": {},
     "output_type": "display_data"
    }
   ],
   "source": [
    "# lets check the startups with more than 50crore+ funding\n",
    "\n",
    "@interact\n",
    "def check(column = 'AmountInUSD', x = 500000000): # 50 crore funding of startups\n",
    "    return data[data[column] > x].sort_values(by = 'AmountInUSD', ascending = False)"
   ]
  },
  {
   "cell_type": "code",
   "execution_count": 14,
   "id": "06759e3c",
   "metadata": {},
   "outputs": [
    {
     "data": {
      "text/html": [
       "<div>\n",
       "<style scoped>\n",
       "    .dataframe tbody tr th:only-of-type {\n",
       "        vertical-align: middle;\n",
       "    }\n",
       "\n",
       "    .dataframe tbody tr th {\n",
       "        vertical-align: top;\n",
       "    }\n",
       "\n",
       "    .dataframe thead th {\n",
       "        text-align: right;\n",
       "    }\n",
       "</style>\n",
       "<table border=\"1\" class=\"dataframe\">\n",
       "  <thead>\n",
       "    <tr style=\"text-align: right;\">\n",
       "      <th></th>\n",
       "      <th>SNo</th>\n",
       "      <th>Date</th>\n",
       "      <th>StartupName</th>\n",
       "      <th>IndustryVertical</th>\n",
       "      <th>SubVertical</th>\n",
       "      <th>City</th>\n",
       "      <th>InvestorsName</th>\n",
       "      <th>InvestmentType</th>\n",
       "      <th>AmountInUSD</th>\n",
       "      <th>yearmonth</th>\n",
       "    </tr>\n",
       "  </thead>\n",
       "  <tbody>\n",
       "    <tr>\n",
       "      <th>31</th>\n",
       "      <td>32</td>\n",
       "      <td>25/11/2019</td>\n",
       "      <td>Paytm</td>\n",
       "      <td>FinTech</td>\n",
       "      <td>Mobile Wallet</td>\n",
       "      <td>Noida</td>\n",
       "      <td>Vijay Shekhar Sharma</td>\n",
       "      <td>Funding Round</td>\n",
       "      <td>1.000000e+09</td>\n",
       "      <td>201911</td>\n",
       "    </tr>\n",
       "    <tr>\n",
       "      <th>251</th>\n",
       "      <td>252</td>\n",
       "      <td>26/06/2018</td>\n",
       "      <td>Paytm</td>\n",
       "      <td>Technology</td>\n",
       "      <td>Digital Payment Platform</td>\n",
       "      <td>Noida</td>\n",
       "      <td>One 97 Communications</td>\n",
       "      <td>Private Equity</td>\n",
       "      <td>8.950000e+06</td>\n",
       "      <td>201806</td>\n",
       "    </tr>\n",
       "    <tr>\n",
       "      <th>830</th>\n",
       "      <td>831</td>\n",
       "      <td>18/05/2017</td>\n",
       "      <td>Paytm</td>\n",
       "      <td>ECommerce</td>\n",
       "      <td>Mobile Wallet &amp; ECommerce platform</td>\n",
       "      <td>Bangalore</td>\n",
       "      <td>SoftBank Group</td>\n",
       "      <td>Private Equity</td>\n",
       "      <td>1.400000e+09</td>\n",
       "      <td>201705</td>\n",
       "    </tr>\n",
       "    <tr>\n",
       "      <th>1493</th>\n",
       "      <td>1494</td>\n",
       "      <td>30/08/2016</td>\n",
       "      <td>Paytm</td>\n",
       "      <td>eCommerce</td>\n",
       "      <td>Mobile Wallet &amp; ECommerce platform</td>\n",
       "      <td>Bangalore</td>\n",
       "      <td>MediaTek Inc.</td>\n",
       "      <td>Private Equity</td>\n",
       "      <td>6.000000e+07</td>\n",
       "      <td>201608</td>\n",
       "    </tr>\n",
       "    <tr>\n",
       "      <th>2459</th>\n",
       "      <td>2460</td>\n",
       "      <td>29/09/2015</td>\n",
       "      <td>Paytm</td>\n",
       "      <td>E-Commerce &amp; M-Commerce platform</td>\n",
       "      <td>nan</td>\n",
       "      <td>New Delhi</td>\n",
       "      <td>Alibaba Group, Ant Financial</td>\n",
       "      <td>Private Equity</td>\n",
       "      <td>6.800000e+08</td>\n",
       "      <td>201509</td>\n",
       "    </tr>\n",
       "    <tr>\n",
       "      <th>2890</th>\n",
       "      <td>2891</td>\n",
       "      <td>13/03/2015</td>\n",
       "      <td>Paytm</td>\n",
       "      <td>nan</td>\n",
       "      <td>nan</td>\n",
       "      <td>nan</td>\n",
       "      <td>Ratan Tata</td>\n",
       "      <td>Private Equity</td>\n",
       "      <td>-9.990000e+02</td>\n",
       "      <td>201503</td>\n",
       "    </tr>\n",
       "    <tr>\n",
       "      <th>2948</th>\n",
       "      <td>2949</td>\n",
       "      <td>05/02/2015</td>\n",
       "      <td>Paytm</td>\n",
       "      <td>nan</td>\n",
       "      <td>nan</td>\n",
       "      <td>nan</td>\n",
       "      <td>Ant Financial Services (Alipay)</td>\n",
       "      <td>Private Equity</td>\n",
       "      <td>-9.990000e+02</td>\n",
       "      <td>201502</td>\n",
       "    </tr>\n",
       "  </tbody>\n",
       "</table>\n",
       "</div>"
      ],
      "text/plain": [
       "       SNo        Date StartupName                  IndustryVertical  \\\n",
       "31      32  25/11/2019       Paytm                           FinTech   \n",
       "251    252  26/06/2018       Paytm                        Technology   \n",
       "830    831  18/05/2017       Paytm                         ECommerce   \n",
       "1493  1494  30/08/2016       Paytm                         eCommerce   \n",
       "2459  2460  29/09/2015       Paytm  E-Commerce & M-Commerce platform   \n",
       "2890  2891  13/03/2015       Paytm                               nan   \n",
       "2948  2949  05/02/2015       Paytm                               nan   \n",
       "\n",
       "                             SubVertical       City  \\\n",
       "31                         Mobile Wallet      Noida   \n",
       "251             Digital Payment Platform      Noida   \n",
       "830   Mobile Wallet & ECommerce platform  Bangalore   \n",
       "1493  Mobile Wallet & ECommerce platform  Bangalore   \n",
       "2459                                 nan  New Delhi   \n",
       "2890                                 nan        nan   \n",
       "2948                                 nan        nan   \n",
       "\n",
       "                        InvestorsName  InvestmentType   AmountInUSD  yearmonth  \n",
       "31               Vijay Shekhar Sharma   Funding Round  1.000000e+09     201911  \n",
       "251             One 97 Communications  Private Equity  8.950000e+06     201806  \n",
       "830                    SoftBank Group  Private Equity  1.400000e+09     201705  \n",
       "1493                    MediaTek Inc.  Private Equity  6.000000e+07     201608  \n",
       "2459     Alibaba Group, Ant Financial  Private Equity  6.800000e+08     201509  \n",
       "2890                       Ratan Tata  Private Equity -9.990000e+02     201503  \n",
       "2948  Ant Financial Services (Alipay)  Private Equity -9.990000e+02     201502  "
      ]
     },
     "execution_count": 14,
     "metadata": {},
     "output_type": "execute_result"
    }
   ],
   "source": [
    "# lets check out different ventures of Paytm\n",
    "data[data.StartupName == 'Paytm']"
   ]
  },
  {
   "cell_type": "code",
   "execution_count": 15,
   "id": "cf80a217",
   "metadata": {},
   "outputs": [
    {
     "data": {
      "text/html": [
       "<div>\n",
       "<style scoped>\n",
       "    .dataframe tbody tr th:only-of-type {\n",
       "        vertical-align: middle;\n",
       "    }\n",
       "\n",
       "    .dataframe tbody tr th {\n",
       "        vertical-align: top;\n",
       "    }\n",
       "\n",
       "    .dataframe thead th {\n",
       "        text-align: right;\n",
       "    }\n",
       "</style>\n",
       "<table border=\"1\" class=\"dataframe\">\n",
       "  <thead>\n",
       "    <tr style=\"text-align: right;\">\n",
       "      <th></th>\n",
       "      <th>SNo</th>\n",
       "      <th>Date</th>\n",
       "      <th>StartupName</th>\n",
       "      <th>IndustryVertical</th>\n",
       "      <th>SubVertical</th>\n",
       "      <th>City</th>\n",
       "      <th>InvestorsName</th>\n",
       "      <th>InvestmentType</th>\n",
       "      <th>AmountInUSD</th>\n",
       "      <th>yearmonth</th>\n",
       "    </tr>\n",
       "  </thead>\n",
       "  <tbody>\n",
       "    <tr>\n",
       "      <th>651</th>\n",
       "      <td>652</td>\n",
       "      <td>11/08/2017</td>\n",
       "      <td>Flipkart</td>\n",
       "      <td>eCommerce</td>\n",
       "      <td>Online Marketplace</td>\n",
       "      <td>Bangalore</td>\n",
       "      <td>Softbank</td>\n",
       "      <td>Private Equity</td>\n",
       "      <td>2.500000e+09</td>\n",
       "      <td>201708</td>\n",
       "    </tr>\n",
       "    <tr>\n",
       "      <th>773</th>\n",
       "      <td>774</td>\n",
       "      <td>26/06/2017</td>\n",
       "      <td>Flipkart</td>\n",
       "      <td>eCommerce</td>\n",
       "      <td>Online marketplace</td>\n",
       "      <td>Bangalore</td>\n",
       "      <td>Naspers</td>\n",
       "      <td>Private Equity</td>\n",
       "      <td>7.100000e+07</td>\n",
       "      <td>201706</td>\n",
       "    </tr>\n",
       "    <tr>\n",
       "      <th>966</th>\n",
       "      <td>967</td>\n",
       "      <td>21/03/2017</td>\n",
       "      <td>Flipkart</td>\n",
       "      <td>eCommerce</td>\n",
       "      <td>ECommerce Marketplace</td>\n",
       "      <td>Bangalore</td>\n",
       "      <td>Microsoft, eBay, Tencent Holdings</td>\n",
       "      <td>Private Equity</td>\n",
       "      <td>1.400000e+09</td>\n",
       "      <td>201703</td>\n",
       "    </tr>\n",
       "    <tr>\n",
       "      <th>1032</th>\n",
       "      <td>1033</td>\n",
       "      <td>20/02/2017</td>\n",
       "      <td>Flipkart</td>\n",
       "      <td>eCommerce</td>\n",
       "      <td>Online Marketplace</td>\n",
       "      <td>Bangalore</td>\n",
       "      <td>Bennett, Coleman and Co. Ltd (BCCL)</td>\n",
       "      <td>Private Equity</td>\n",
       "      <td>3.870000e+07</td>\n",
       "      <td>201702</td>\n",
       "    </tr>\n",
       "    <tr>\n",
       "      <th>2689</th>\n",
       "      <td>2690</td>\n",
       "      <td>04/06/2015</td>\n",
       "      <td>Flipkart</td>\n",
       "      <td>eCommerce platform</td>\n",
       "      <td>nan</td>\n",
       "      <td>Bangalore</td>\n",
       "      <td>Morgan Stanley</td>\n",
       "      <td>Private Equity</td>\n",
       "      <td>5.000000e+07</td>\n",
       "      <td>201506</td>\n",
       "    </tr>\n",
       "  </tbody>\n",
       "</table>\n",
       "</div>"
      ],
      "text/plain": [
       "       SNo        Date StartupName    IndustryVertical            SubVertical  \\\n",
       "651    652  11/08/2017    Flipkart           eCommerce     Online Marketplace   \n",
       "773    774  26/06/2017    Flipkart           eCommerce     Online marketplace   \n",
       "966    967  21/03/2017    Flipkart           eCommerce  ECommerce Marketplace   \n",
       "1032  1033  20/02/2017    Flipkart           eCommerce     Online Marketplace   \n",
       "2689  2690  04/06/2015    Flipkart  eCommerce platform                    nan   \n",
       "\n",
       "           City                        InvestorsName  InvestmentType  \\\n",
       "651   Bangalore                             Softbank  Private Equity   \n",
       "773   Bangalore                              Naspers  Private Equity   \n",
       "966   Bangalore    Microsoft, eBay, Tencent Holdings  Private Equity   \n",
       "1032  Bangalore  Bennett, Coleman and Co. Ltd (BCCL)  Private Equity   \n",
       "2689  Bangalore                       Morgan Stanley  Private Equity   \n",
       "\n",
       "       AmountInUSD  yearmonth  \n",
       "651   2.500000e+09     201708  \n",
       "773   7.100000e+07     201706  \n",
       "966   1.400000e+09     201703  \n",
       "1032  3.870000e+07     201702  \n",
       "2689  5.000000e+07     201506  "
      ]
     },
     "execution_count": 15,
     "metadata": {},
     "output_type": "execute_result"
    }
   ],
   "source": [
    "# lets check out different ventures of Flipkart\n",
    "data[data.StartupName == 'Flipkart']"
   ]
  },
  {
   "cell_type": "code",
   "execution_count": 16,
   "id": "0d9542ba",
   "metadata": {},
   "outputs": [
    {
     "name": "stdout",
     "output_type": "stream",
     "text": [
      "Minimum funding to a Startups is :  -999.0\n"
     ]
    }
   ],
   "source": [
    "# lets check the minimum funding in a startup\n",
    "print(\"Minimum funding to a Startups is : \", data[\"AmountInUSD\"].dropna().sort_values().min())"
   ]
  },
  {
   "cell_type": "code",
   "execution_count": 17,
   "id": "27fca15a",
   "metadata": {},
   "outputs": [
    {
     "data": {
      "text/html": [
       "<div>\n",
       "<style scoped>\n",
       "    .dataframe tbody tr th:only-of-type {\n",
       "        vertical-align: middle;\n",
       "    }\n",
       "\n",
       "    .dataframe tbody tr th {\n",
       "        vertical-align: top;\n",
       "    }\n",
       "\n",
       "    .dataframe thead th {\n",
       "        text-align: right;\n",
       "    }\n",
       "</style>\n",
       "<table border=\"1\" class=\"dataframe\">\n",
       "  <thead>\n",
       "    <tr style=\"text-align: right;\">\n",
       "      <th></th>\n",
       "      <th>AmountInUSD</th>\n",
       "      <th>StartupName</th>\n",
       "    </tr>\n",
       "  </thead>\n",
       "  <tbody>\n",
       "    <tr>\n",
       "      <th>2125</th>\n",
       "      <td>-999.0</td>\n",
       "      <td>Splitkart</td>\n",
       "    </tr>\n",
       "    <tr>\n",
       "      <th>1464</th>\n",
       "      <td>-999.0</td>\n",
       "      <td>TAC Security</td>\n",
       "    </tr>\n",
       "    <tr>\n",
       "      <th>708</th>\n",
       "      <td>-999.0</td>\n",
       "      <td>FableStreet</td>\n",
       "    </tr>\n",
       "    <tr>\n",
       "      <th>709</th>\n",
       "      <td>-999.0</td>\n",
       "      <td>Monsoon Fintech</td>\n",
       "    </tr>\n",
       "    <tr>\n",
       "      <th>710</th>\n",
       "      <td>-999.0</td>\n",
       "      <td>MonkeyBox</td>\n",
       "    </tr>\n",
       "  </tbody>\n",
       "</table>\n",
       "</div>"
      ],
      "text/plain": [
       "      AmountInUSD      StartupName\n",
       "2125       -999.0        Splitkart\n",
       "1464       -999.0     TAC Security\n",
       "708        -999.0      FableStreet\n",
       "709        -999.0  Monsoon Fintech\n",
       "710        -999.0        MonkeyBox"
      ]
     },
     "execution_count": 17,
     "metadata": {},
     "output_type": "execute_result"
    }
   ],
   "source": [
    "# lets check the startups with least funding\n",
    "data[['AmountInUSD','StartupName']].sort_values(by = 'AmountInUSD', ascending = True).head(5)"
   ]
  },
  {
   "cell_type": "code",
   "execution_count": 18,
   "id": "1df49cb1",
   "metadata": {},
   "outputs": [
    {
     "data": {
      "text/plain": [
       "(971, 10)"
      ]
     },
     "execution_count": 18,
     "metadata": {},
     "output_type": "execute_result"
    }
   ],
   "source": [
    "data[data['AmountInUSD'] == -999.0].shape"
   ]
  },
  {
   "cell_type": "code",
   "execution_count": 19,
   "id": "35b363c8",
   "metadata": {},
   "outputs": [
    {
     "name": "stdout",
     "output_type": "stream",
     "text": [
      "On Average indian startups got funding of :  13270058.261169514\n"
     ]
    }
   ],
   "source": [
    "# Average Funding\n",
    "print(\"On Average indian startups got funding of : \", data[\"AmountInUSD\"].dropna().sort_values().mean())"
   ]
  },
  {
   "cell_type": "code",
   "execution_count": 20,
   "id": "0435a410",
   "metadata": {},
   "outputs": [
    {
     "name": "stdout",
     "output_type": "stream",
     "text": [
      "Total startups funded :  2457\n",
      "StartupName\n",
      "Ola Cabs     8\n",
      "Swiggy       8\n",
      "Paytm        7\n",
      "UrbanClap    6\n",
      "NoBroker     6\n",
      "Medinfi      6\n",
      "Nykaa        6\n",
      "Meesho       6\n",
      "Jugnoo       5\n",
      "Grofers      5\n",
      "Name: count, dtype: int64\n"
     ]
    },
    {
     "data": {
      "image/png": "[encoded data removed]",
      "text/plain": [
       "<Figure size 1200x1500 with 1 Axes>"
      ]
     },
     "metadata": {},
     "output_type": "display_data"
    }
   ],
   "source": [
    "# lets check the no. of funding each startsup got\n",
    "\n",
    "print(\"Total startups funded : \", len(data[\"StartupName\"].unique()))\n",
    "print(data[\"StartupName\"].value_counts().head(10))\n",
    "startupname = data['StartupName'].value_counts().head(20)\n",
    "\n",
    "# lets plot the data\n",
    "plt.rcParams['figure.figsize'] = (12, 15)\n",
    "sns.barplot(y = startupname.index, x = startupname.values, alpha=0.9, palette = 'Dark2')\n",
    "plt.xticks(rotation='vertical')\n",
    "plt.xlabel('Startup Name', fontsize=12)\n",
    "plt.ylabel('Number of fundings made', fontsize=12)\n",
    "plt.title(\"Number of fundings Startups Have\", fontsize=16)\n",
    "plt.show()"
   ]
  },
  {
   "cell_type": "code",
   "execution_count": 21,
   "id": "a6e73781",
   "metadata": {},
   "outputs": [
    {
     "name": "stdout",
     "output_type": "stream",
     "text": [
      "IndustryVertical\n",
      "Consumer Internet      941\n",
      "Technology             478\n",
      "eCommerce              186\n",
      "Consumer Technology    172\n",
      "Healthcare              70\n",
      "Finance                 62\n",
      "ECommerce               61\n",
      "Logistics               32\n",
      "E-Commerce              29\n",
      "Education               24\n",
      "Name: count, dtype: int64\n"
     ]
    },
    {
     "ename": "TypeError",
     "evalue": "barplot() takes from 0 to 1 positional arguments but 2 positional arguments (and 1 keyword-only argument) were given",
     "output_type": "error",
     "traceback": [
      "\u001b[1;31m---------------------------------------------------------------------------\u001b[0m",
      "\u001b[1;31mTypeError\u001b[0m                                 Traceback (most recent call last)",
      "Cell \u001b[1;32mIn[21], line 11\u001b[0m\n\u001b[0;32m      9\u001b[0m \u001b[38;5;66;03m# lets plot the data\u001b[39;00m\n\u001b[0;32m     10\u001b[0m plt\u001b[38;5;241m.\u001b[39mrcParams[\u001b[38;5;124m'\u001b[39m\u001b[38;5;124mfigure.figsize\u001b[39m\u001b[38;5;124m'\u001b[39m] \u001b[38;5;241m=\u001b[39m (\u001b[38;5;241m15\u001b[39m, \u001b[38;5;241m5\u001b[39m)\n\u001b[1;32m---> 11\u001b[0m sns\u001b[38;5;241m.\u001b[39mbarplot(industry\u001b[38;5;241m.\u001b[39mindex, industry\u001b[38;5;241m.\u001b[39mvalues, palette \u001b[38;5;241m=\u001b[39m \u001b[38;5;124m'\u001b[39m\u001b[38;5;124mautumn\u001b[39m\u001b[38;5;124m'\u001b[39m)\n\u001b[0;32m     12\u001b[0m plt\u001b[38;5;241m.\u001b[39mxticks(rotation\u001b[38;5;241m=\u001b[39m\u001b[38;5;124m'\u001b[39m\u001b[38;5;124mvertical\u001b[39m\u001b[38;5;124m'\u001b[39m)\n\u001b[0;32m     13\u001b[0m plt\u001b[38;5;241m.\u001b[39mxlabel(\u001b[38;5;124m'\u001b[39m\u001b[38;5;124mIndustry vertical of startups\u001b[39m\u001b[38;5;124m'\u001b[39m, fontsize\u001b[38;5;241m=\u001b[39m\u001b[38;5;241m12\u001b[39m)\n",
      "\u001b[1;31mTypeError\u001b[0m: barplot() takes from 0 to 1 positional arguments but 2 positional arguments (and 1 keyword-only argument) were given"
     ]
    }
   ],
   "source": [
    "# lets analyze the Industry of the Startups\n",
    "\n",
    "# data cleaning\n",
    "data['IndustryVertical'] = data['IndustryVertical'].replace('nan', 'Consumer Technology')\n",
    "\n",
    "industry = data['IndustryVertical'].value_counts().head(10)\n",
    "print(industry)\n",
    "\n",
    "# lets plot the data\n",
    "plt.rcParams['figure.figsize'] = (15, 5)\n",
    "sns.barplot(industry.index, industry.values, palette = 'autumn')\n",
    "plt.xticks(rotation='vertical')\n",
    "plt.xlabel('Industry vertical of startups', fontsize=12)\n",
    "plt.ylabel('Number of fundings made', fontsize=12)\n",
    "plt.title(\"Industry vertical of startups with number of funding\", fontsize=16)\n",
    "plt.show()"
   ]
  },
  {
   "cell_type": "code",
   "execution_count": 22,
   "id": "daf9bb6a",
   "metadata": {},
   "outputs": [
    {
     "name": "stdout",
     "output_type": "stream",
     "text": [
      "SubVertical\n",
      "Online Lending Platform                          11\n",
      "Online Pharmacy                                  10\n",
      "Food Delivery Platform                            8\n",
      "Online Learning Platform                          5\n",
      "Online Education Platform                         5\n",
      "Online Lending                                    5\n",
      "Online lending platform                           5\n",
      "Education                                         5\n",
      "Online Food Delivery                              4\n",
      "Non-Banking Financial Company                     4\n",
      "Online Gifting platform                           3\n",
      "B2B Marketplace                                   3\n",
      "Online learning platform                          3\n",
      "Online platform for Higher Education Services     3\n",
      "Online Payment Gateway                            3\n",
      "Online Furniture Store                            3\n",
      "Online Insurance Aggregator                       3\n",
      "Online Insurance Platform                         3\n",
      "Agri-tech                                         3\n",
      "SaaS                                              3\n",
      "Name: count, dtype: int64\n"
     ]
    },
    {
     "ename": "TypeError",
     "evalue": "lineplot() takes from 0 to 1 positional arguments but 2 positional arguments (and 1 keyword-only argument) were given",
     "output_type": "error",
     "traceback": [
      "\u001b[1;31m---------------------------------------------------------------------------\u001b[0m",
      "\u001b[1;31mTypeError\u001b[0m                                 Traceback (most recent call last)",
      "Cell \u001b[1;32mIn[22], line 7\u001b[0m\n\u001b[0;32m      4\u001b[0m \u001b[38;5;28mprint\u001b[39m(industry)\n\u001b[0;32m      6\u001b[0m \u001b[38;5;66;03m# lets plot the data\u001b[39;00m\n\u001b[1;32m----> 7\u001b[0m sns\u001b[38;5;241m.\u001b[39mlineplot(industry\u001b[38;5;241m.\u001b[39mindex, industry\u001b[38;5;241m.\u001b[39mvalues, palette \u001b[38;5;241m=\u001b[39m \u001b[38;5;124m'\u001b[39m\u001b[38;5;124mwinter\u001b[39m\u001b[38;5;124m'\u001b[39m)\n\u001b[0;32m      8\u001b[0m plt\u001b[38;5;241m.\u001b[39mxticks(rotation\u001b[38;5;241m=\u001b[39m\u001b[38;5;124m'\u001b[39m\u001b[38;5;124mvertical\u001b[39m\u001b[38;5;124m'\u001b[39m)\n\u001b[0;32m      9\u001b[0m plt\u001b[38;5;241m.\u001b[39mxlabel(\u001b[38;5;124m'\u001b[39m\u001b[38;5;124mSubvertical of startups\u001b[39m\u001b[38;5;124m'\u001b[39m, fontsize\u001b[38;5;241m=\u001b[39m\u001b[38;5;241m12\u001b[39m)\n",
      "\u001b[1;31mTypeError\u001b[0m: lineplot() takes from 0 to 1 positional arguments but 2 positional arguments (and 1 keyword-only argument) were given"
     ]
    }
   ],
   "source": [
    "# lets analyze the sub vertical industries\n",
    "\n",
    "industry = data['SubVertical'].value_counts()[1:].head(20)\n",
    "print(industry)\n",
    "\n",
    "# lets plot the data\n",
    "sns.lineplot(industry.index, industry.values, palette = 'winter')\n",
    "plt.xticks(rotation='vertical')\n",
    "plt.xlabel('Subvertical of startups', fontsize=12)\n",
    "plt.ylabel('Number of fundings made', fontsize=12)\n",
    "plt.title(\"Subvertical of startups with number of funding\", fontsize=16)\n",
    "plt.show()"
   ]
  },
  {
   "cell_type": "code",
   "execution_count": 23,
   "id": "a4682f16",
   "metadata": {},
   "outputs": [
    {
     "name": "stdout",
     "output_type": "stream",
     "text": [
      "City\n",
      "Bangalore    1022\n",
      "Mumbai        568\n",
      "New Delhi     424\n",
      "Gurgaon       291\n",
      "Pune          105\n",
      "Hyderabad      99\n",
      "Chennai        97\n",
      "Noida          93\n",
      "Gurugram       50\n",
      "Ahmedabad      38\n",
      "Name: count, dtype: int64\n"
     ]
    },
    {
     "ename": "TypeError",
     "evalue": "barplot() takes from 0 to 1 positional arguments but 2 positional arguments (and 1 keyword-only argument) were given",
     "output_type": "error",
     "traceback": [
      "\u001b[1;31m---------------------------------------------------------------------------\u001b[0m",
      "\u001b[1;31mTypeError\u001b[0m                                 Traceback (most recent call last)",
      "Cell \u001b[1;32mIn[23], line 10\u001b[0m\n\u001b[0;32m      7\u001b[0m \u001b[38;5;28mprint\u001b[39m(city)\n\u001b[0;32m      9\u001b[0m \u001b[38;5;66;03m# lets plot the data\u001b[39;00m\n\u001b[1;32m---> 10\u001b[0m sns\u001b[38;5;241m.\u001b[39mbarplot(city\u001b[38;5;241m.\u001b[39mindex, city\u001b[38;5;241m.\u001b[39mvalues, palette \u001b[38;5;241m=\u001b[39m \u001b[38;5;124m'\u001b[39m\u001b[38;5;124mWistia\u001b[39m\u001b[38;5;124m'\u001b[39m)\n\u001b[0;32m     11\u001b[0m plt\u001b[38;5;241m.\u001b[39mxticks(rotation\u001b[38;5;241m=\u001b[39m\u001b[38;5;124m'\u001b[39m\u001b[38;5;124mvertical\u001b[39m\u001b[38;5;124m'\u001b[39m)\n\u001b[0;32m     12\u001b[0m plt\u001b[38;5;241m.\u001b[39mxlabel(\u001b[38;5;124m'\u001b[39m\u001b[38;5;124mcity location of startups\u001b[39m\u001b[38;5;124m'\u001b[39m, fontsize\u001b[38;5;241m=\u001b[39m\u001b[38;5;241m12\u001b[39m)\n",
      "\u001b[1;31mTypeError\u001b[0m: barplot() takes from 0 to 1 positional arguments but 2 positional arguments (and 1 keyword-only argument) were given"
     ]
    }
   ],
   "source": [
    "# analyzing the effect of Cities on a Startup\n",
    "\n",
    "# lets clean the data for better analysis\n",
    "data['City'] = data['City'].replace(('Bengaluru', 'nan'),('Bangalore', 'Bangalore'))\n",
    "\n",
    "city = data['City'].value_counts().head(10)\n",
    "print(city)\n",
    "\n",
    "# lets plot the data\n",
    "sns.barplot(city.index, city.values, palette = 'Wistia')\n",
    "plt.xticks(rotation='vertical')\n",
    "plt.xlabel('city location of startups', fontsize=12)\n",
    "plt.ylabel('Number of fundings made', fontsize=12)\n",
    "plt.title(\"city location of startups with number of funding\", fontsize=16)\n",
    "plt.show()"
   ]
  },
  {
   "cell_type": "code",
   "execution_count": 24,
   "id": "86674166",
   "metadata": {},
   "outputs": [
    {
     "ename": "ModuleNotFoundError",
     "evalue": "No module named 'wordcloud'",
     "output_type": "error",
     "traceback": [
      "\u001b[1;31m---------------------------------------------------------------------------\u001b[0m",
      "\u001b[1;31mModuleNotFoundError\u001b[0m                       Traceback (most recent call last)",
      "Cell \u001b[1;32mIn[24], line 1\u001b[0m\n\u001b[1;32m----> 1\u001b[0m \u001b[38;5;28;01mfrom\u001b[39;00m \u001b[38;5;21;01mwordcloud\u001b[39;00m \u001b[38;5;28;01mimport\u001b[39;00m WordCloud\n\u001b[0;32m      3\u001b[0m names \u001b[38;5;241m=\u001b[39m data[\u001b[38;5;124m\"\u001b[39m\u001b[38;5;124mInvestorsName\u001b[39m\u001b[38;5;124m\"\u001b[39m][\u001b[38;5;241m~\u001b[39mpd\u001b[38;5;241m.\u001b[39misnull(data[\u001b[38;5;124m\"\u001b[39m\u001b[38;5;124mInvestorsName\u001b[39m\u001b[38;5;124m\"\u001b[39m])]\n\u001b[0;32m      4\u001b[0m wordcloud \u001b[38;5;241m=\u001b[39m WordCloud(max_font_size\u001b[38;5;241m=\u001b[39m\u001b[38;5;241m50\u001b[39m, width\u001b[38;5;241m=\u001b[39m\u001b[38;5;241m600\u001b[39m, height\u001b[38;5;241m=\u001b[39m\u001b[38;5;241m300\u001b[39m, background_color \u001b[38;5;241m=\u001b[39m \u001b[38;5;124m'\u001b[39m\u001b[38;5;124mcyan\u001b[39m\u001b[38;5;124m'\u001b[39m)\u001b[38;5;241m.\u001b[39mgenerate(\u001b[38;5;124m'\u001b[39m\u001b[38;5;124m \u001b[39m\u001b[38;5;124m'\u001b[39m\u001b[38;5;241m.\u001b[39mjoin(names))\n",
      "\u001b[1;31mModuleNotFoundError\u001b[0m: No module named 'wordcloud'"
     ]
    }
   ],
   "source": [
    "from wordcloud import WordCloud\n",
    "\n",
    "names = data[\"InvestorsName\"][~pd.isnull(data[\"InvestorsName\"])]\n",
    "wordcloud = WordCloud(max_font_size=50, width=600, height=300, background_color = 'cyan').generate(' '.join(names))\n",
    "plt.figure(figsize=(15,8))\n",
    "plt.imshow(wordcloud)\n",
    "plt.title(\"Wordcloud for Investor Names\", fontsize=35)\n",
    "plt.axis(\"off\")\n",
    "plt.show()"
   ]
  },
  {
   "cell_type": "code",
   "execution_count": 25,
   "id": "19897d7f",
   "metadata": {},
   "outputs": [
    {
     "name": "stdout",
     "output_type": "stream",
     "text": [
      "InvestorsName\n",
      "Undisclosed Investors       136\n",
      "Ratan Tata                   25\n",
      "Indian Angel Network         24\n",
      "Kalaari Capital              16\n",
      "Sequoia Capital              15\n",
      "Group of Angel Investors     15\n",
      "Accel Partners               12\n",
      "Venture Catalysts            11\n",
      "Brand Capital                11\n",
      "RoundGlass Partners          10\n",
      "Name: count, dtype: int64\n"
     ]
    },
    {
     "ename": "TypeError",
     "evalue": "barplot() takes from 0 to 1 positional arguments but 2 positional arguments (and 1 keyword-only argument) were given",
     "output_type": "error",
     "traceback": [
      "\u001b[1;31m---------------------------------------------------------------------------\u001b[0m",
      "\u001b[1;31mTypeError\u001b[0m                                 Traceback (most recent call last)",
      "Cell \u001b[1;32mIn[25], line 17\u001b[0m\n\u001b[0;32m     14\u001b[0m \u001b[38;5;28mprint\u001b[39m(investors)\n\u001b[0;32m     16\u001b[0m \u001b[38;5;66;03m# lets plot the data\u001b[39;00m\n\u001b[1;32m---> 17\u001b[0m sns\u001b[38;5;241m.\u001b[39mbarplot(investors\u001b[38;5;241m.\u001b[39mindex, investors\u001b[38;5;241m.\u001b[39mvalues, palette \u001b[38;5;241m=\u001b[39m \u001b[38;5;124m'\u001b[39m\u001b[38;5;124mcool\u001b[39m\u001b[38;5;124m'\u001b[39m)\n\u001b[0;32m     18\u001b[0m plt\u001b[38;5;241m.\u001b[39mxticks(rotation\u001b[38;5;241m=\u001b[39m\u001b[38;5;124m'\u001b[39m\u001b[38;5;124mvertical\u001b[39m\u001b[38;5;124m'\u001b[39m)\n\u001b[0;32m     19\u001b[0m plt\u001b[38;5;241m.\u001b[39mxlabel(\u001b[38;5;124m'\u001b[39m\u001b[38;5;124mInvestors Names\u001b[39m\u001b[38;5;124m'\u001b[39m, fontsize\u001b[38;5;241m=\u001b[39m\u001b[38;5;241m12\u001b[39m)\n",
      "\u001b[1;31mTypeError\u001b[0m: barplot() takes from 0 to 1 positional arguments but 2 positional arguments (and 1 keyword-only argument) were given"
     ]
    }
   ],
   "source": [
    "# lets analyze the investors on startups\n",
    "\n",
    "# lets clean the dataset\n",
    "data['InvestorsName'][data['InvestorsName'] == 'Undisclosed investors'] = 'Undisclosed Investors'\n",
    "data['InvestorsName'][data['InvestorsName'] == 'undisclosed Investors'] = 'Undisclosed Investors'\n",
    "data['InvestorsName'][data['InvestorsName'] == 'undisclosed investors'] = 'Undisclosed Investors'\n",
    "data['InvestorsName'][data['InvestorsName'] == 'Undisclosed investor'] = 'Undisclosed Investors'\n",
    "data['InvestorsName'][data['InvestorsName'] == 'Undisclosed Investor'] = 'Undisclosed Investors'\n",
    "data['InvestorsName'][data['InvestorsName'] == 'Undisclosed'] = 'Undisclosed Investors'\n",
    "data['InvestorsName'][data['InvestorsName'] == 'nan'] = 'Undisclosed Investors'\n",
    "\n",
    "# lets check the value counts\n",
    "investors = data['InvestorsName'].value_counts().head(10)\n",
    "print(investors)\n",
    "\n",
    "# lets plot the data\n",
    "sns.barplot(investors.index, investors.values, palette = 'cool')\n",
    "plt.xticks(rotation='vertical')\n",
    "plt.xlabel('Investors Names', fontsize=12)\n",
    "plt.ylabel('Number of fundings made', fontsize=12)\n",
    "plt.title(\"Investors Names with number of funding\", fontsize=16)\n",
    "plt.show()"
   ]
  },
  {
   "cell_type": "code",
   "execution_count": 26,
   "id": "111101ba",
   "metadata": {},
   "outputs": [
    {
     "name": "stdout",
     "output_type": "stream",
     "text": [
      "InvestmentType\n",
      "Private Equity          1356\n",
      "Seed Funding            1355\n",
      "Seed/ Angel Funding       60\n",
      "Seed / Angel Funding      47\n",
      "Seed\\\\nFunding            30\n",
      "Debt Funding              25\n",
      "Series A                  24\n",
      "Seed/Angel Funding        23\n",
      "Series B                  20\n",
      "Series C                  14\n",
      "Name: count, dtype: int64\n"
     ]
    },
    {
     "ename": "TypeError",
     "evalue": "barplot() takes from 0 to 1 positional arguments but 2 positional arguments (and 1 keyword-only argument) were given",
     "output_type": "error",
     "traceback": [
      "\u001b[1;31m---------------------------------------------------------------------------\u001b[0m",
      "\u001b[1;31mTypeError\u001b[0m                                 Traceback (most recent call last)",
      "Cell \u001b[1;32mIn[26], line 11\u001b[0m\n\u001b[0;32m      8\u001b[0m data[\u001b[38;5;124m'\u001b[39m\u001b[38;5;124mInvestmentType\u001b[39m\u001b[38;5;124m'\u001b[39m][data[\u001b[38;5;124m'\u001b[39m\u001b[38;5;124mInvestmentType\u001b[39m\u001b[38;5;124m'\u001b[39m] \u001b[38;5;241m==\u001b[39m \u001b[38;5;124m'\u001b[39m\u001b[38;5;124mPrivateEquity\u001b[39m\u001b[38;5;124m'\u001b[39m] \u001b[38;5;241m=\u001b[39m \u001b[38;5;124m'\u001b[39m\u001b[38;5;124mPrivate Equity\u001b[39m\u001b[38;5;124m'\u001b[39m\n\u001b[0;32m     10\u001b[0m \u001b[38;5;66;03m# lets plot the data\u001b[39;00m\n\u001b[1;32m---> 11\u001b[0m sns\u001b[38;5;241m.\u001b[39mbarplot(investment\u001b[38;5;241m.\u001b[39mindex, investment\u001b[38;5;241m.\u001b[39mvalues, palette \u001b[38;5;241m=\u001b[39m \u001b[38;5;124m'\u001b[39m\u001b[38;5;124msummer\u001b[39m\u001b[38;5;124m'\u001b[39m)\n\u001b[0;32m     12\u001b[0m plt\u001b[38;5;241m.\u001b[39mxticks(rotation\u001b[38;5;241m=\u001b[39m\u001b[38;5;124m'\u001b[39m\u001b[38;5;124mvertical\u001b[39m\u001b[38;5;124m'\u001b[39m)\n\u001b[0;32m     13\u001b[0m plt\u001b[38;5;241m.\u001b[39mxlabel(\u001b[38;5;124m'\u001b[39m\u001b[38;5;124mInvestment Type\u001b[39m\u001b[38;5;124m'\u001b[39m, fontsize\u001b[38;5;241m=\u001b[39m\u001b[38;5;241m12\u001b[39m)\n",
      "\u001b[1;31mTypeError\u001b[0m: barplot() takes from 0 to 1 positional arguments but 2 positional arguments (and 1 keyword-only argument) were given"
     ]
    }
   ],
   "source": [
    "# lets analyze the investment\n",
    "investment = data['InvestmentType'].value_counts().head(10)\n",
    "print(investment)\n",
    "\n",
    "# lets clean the dataset\n",
    "data['InvestmentType'][data['InvestmentType'] == 'SeedFunding'] = 'Seed Funding'\n",
    "data['InvestmentType'][data['InvestmentType'] == 'Crowd funding'] = 'Crowd Funding'\n",
    "data['InvestmentType'][data['InvestmentType'] == 'PrivateEquity'] = 'Private Equity'\n",
    "\n",
    "# lets plot the data\n",
    "sns.barplot(investment.index, investment.values, palette = 'summer')\n",
    "plt.xticks(rotation='vertical')\n",
    "plt.xlabel('Investment Type', fontsize=12)\n",
    "plt.ylabel('Number of fundings made', fontsize=12)\n",
    "plt.title(\"Investment Type with number of funding\", fontsize=16)\n",
    "plt.show()"
   ]
  },
  {
   "cell_type": "code",
   "execution_count": null,
   "id": "751590b3",
   "metadata": {},
   "outputs": [],
   "source": []
  }
 ],
 "metadata": {
  "kernelspec": {
   "display_name": "Python 3 (ipykernel)",
   "language": "python",
   "name": "python3"
  },
  "language_info": {
   "codemirror_mode": {
    "name": "ipython",
    "version": 3
   },
   "file_extension": ".py",
   "mimetype": "text/x-python",
   "name": "python",
   "nbconvert_exporter": "python",
   "pygments_lexer": "ipython3",
   "version": "3.11.5"
  }
 },
 "nbformat": 4,
 "nbformat_minor": 5
}
