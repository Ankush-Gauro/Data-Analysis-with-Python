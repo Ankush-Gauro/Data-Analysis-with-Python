{
 "cells": [
  {
   "cell_type": "code",
   "execution_count": 1,
   "id": "c13a2e4d",
   "metadata": {},
   "outputs": [],
   "source": [
    "# Supress Warnings\n",
    "\n",
    "import warnings\n",
    "warnings.filterwarnings('ignore')"
   ]
  },
  {
   "cell_type": "markdown",
   "id": "7259de37",
   "metadata": {},
   "source": [
    "Importing libraries"
   ]
  },
  {
   "cell_type": "code",
   "execution_count": 2,
   "id": "acf2131d",
   "metadata": {},
   "outputs": [],
   "source": [
    "# lets import the basic Libraries\n",
    "import numpy as np\n",
    "import pandas as pd\n",
    "\n",
    "# for data visualization\n",
    "import matplotlib.pyplot as plt\n",
    "import seaborn as sns\n",
    "\n",
    "# for jupyter notebook widgets\n",
    "import ipywidgets as widgets\n",
    "from ipywidgets import interact\n",
    "from ipywidgets import interact_manual\n",
    "\n",
    "# for Interactive Shells\n",
    "from IPython.display import display\n",
    "\n",
    "# setting up the chart size and background\n",
    "plt.rcParams['figure.figsize'] = (16, 8)\n",
    "plt.style.use('fivethirtyeight')"
   ]
  },
  {
   "cell_type": "markdown",
   "id": "79fc45e2",
   "metadata": {},
   "source": [
    "Reading Data"
   ]
  },
  {
   "cell_type": "code",
   "execution_count": 3,
   "id": "b11a5b1c",
   "metadata": {},
   "outputs": [],
   "source": [
    "data = pd.read_csv('movie_metadata.csv')"
   ]
  },
  {
   "cell_type": "code",
   "execution_count": 4,
   "id": "2ea3fc91",
   "metadata": {},
   "outputs": [
    {
     "name": "stdout",
     "output_type": "stream",
     "text": [
      "(5043, 28)\n"
     ]
    }
   ],
   "source": [
    "print(data.shape)"
   ]
  },
  {
   "cell_type": "code",
   "execution_count": 5,
   "id": "1e31e855",
   "metadata": {},
   "outputs": [
    {
     "name": "stdout",
     "output_type": "stream",
     "text": [
      "<class 'pandas.core.frame.DataFrame'>\n",
      "RangeIndex: 5043 entries, 0 to 5042\n",
      "Data columns (total 28 columns):\n",
      " #   Column                     Non-Null Count  Dtype  \n",
      "---  ------                     --------------  -----  \n",
      " 0   color                      5024 non-null   object \n",
      " 1   director_name              4939 non-null   object \n",
      " 2   num_critic_for_reviews     4993 non-null   float64\n",
      " 3   duration                   5028 non-null   float64\n",
      " 4   director_facebook_likes    4939 non-null   float64\n",
      " 5   actor_3_facebook_likes     5020 non-null   float64\n",
      " 6   actor_2_name               5030 non-null   object \n",
      " 7   actor_1_facebook_likes     5036 non-null   float64\n",
      " 8   gross                      4159 non-null   float64\n",
      " 9   genres                     5043 non-null   object \n",
      " 10  actor_1_name               5036 non-null   object \n",
      " 11  movie_title                5043 non-null   object \n",
      " 12  num_voted_users            5043 non-null   int64  \n",
      " 13  cast_total_facebook_likes  5043 non-null   int64  \n",
      " 14  actor_3_name               5020 non-null   object \n",
      " 15  facenumber_in_poster       5030 non-null   float64\n",
      " 16  plot_keywords              4890 non-null   object \n",
      " 17  movie_imdb_link            5043 non-null   object \n",
      " 18  num_user_for_reviews       5022 non-null   float64\n",
      " 19  language                   5029 non-null   object \n",
      " 20  country                    5038 non-null   object \n",
      " 21  content_rating             4740 non-null   object \n",
      " 22  budget                     4551 non-null   float64\n",
      " 23  title_year                 4935 non-null   float64\n",
      " 24  actor_2_facebook_likes     5030 non-null   float64\n",
      " 25  imdb_score                 5043 non-null   float64\n",
      " 26  aspect_ratio               4714 non-null   float64\n",
      " 27  movie_facebook_likes       5043 non-null   int64  \n",
      "dtypes: float64(13), int64(3), object(12)\n",
      "memory usage: 1.1+ MB\n"
     ]
    }
   ],
   "source": [
    "data.info()\n"
   ]
  },
  {
   "cell_type": "code",
   "execution_count": 6,
   "id": "a6fb780d",
   "metadata": {},
   "outputs": [
    {
     "data": {
      "text/plain": [
       "Index(['director_name', 'num_critic_for_reviews', 'duration', 'actor_2_name',\n",
       "       'gross', 'genres', 'actor_1_name', 'movie_title', 'num_voted_users',\n",
       "       'actor_3_name', 'num_user_for_reviews', 'language', 'budget',\n",
       "       'title_year', 'imdb_score', 'movie_facebook_likes'],\n",
       "      dtype='object')"
      ]
     },
     "execution_count": 6,
     "metadata": {},
     "output_type": "execute_result"
    }
   ],
   "source": [
    "# lets remove unnecassary columns from the dataset\n",
    "\n",
    "# Use the 'drop()' function to drop the unnecessary columns\n",
    "\n",
    "data = data.drop(['color', \n",
    "                      'director_facebook_likes', \n",
    "                      'actor_3_facebook_likes', \n",
    "                      'actor_1_facebook_likes', \n",
    "                      'cast_total_facebook_likes', \n",
    "                      'actor_2_facebook_likes',  \n",
    "                      'facenumber_in_poster', \n",
    "                      'content_rating', \n",
    "                      'country', \n",
    "                      'movie_imdb_link', \n",
    "                      'aspect_ratio',\n",
    "                      'plot_keywords',\n",
    "                      ], \n",
    "                       axis = 1)\n",
    "data.columns"
   ]
  },
  {
   "cell_type": "markdown",
   "id": "442269ea",
   "metadata": {},
   "source": [
    "Missing values imputation"
   ]
  },
  {
   "cell_type": "code",
   "execution_count": 7,
   "id": "909ca1c6",
   "metadata": {},
   "outputs": [
    {
     "data": {
      "text/plain": [
       "director_name              2.06\n",
       "num_critic_for_reviews     0.99\n",
       "duration                   0.30\n",
       "actor_2_name               0.26\n",
       "gross                     17.53\n",
       "genres                     0.00\n",
       "actor_1_name               0.14\n",
       "movie_title                0.00\n",
       "num_voted_users            0.00\n",
       "actor_3_name               0.46\n",
       "num_user_for_reviews       0.42\n",
       "language                   0.28\n",
       "budget                     9.76\n",
       "title_year                 2.14\n",
       "imdb_score                 0.00\n",
       "movie_facebook_likes       0.00\n",
       "dtype: float64"
      ]
     },
     "execution_count": 7,
     "metadata": {},
     "output_type": "execute_result"
    }
   ],
   "source": [
    "round(100*(data.isnull().sum()/len(data.index)), 2)\n"
   ]
  },
  {
   "cell_type": "code",
   "execution_count": 8,
   "id": "8aa8701e",
   "metadata": {},
   "outputs": [
    {
     "data": {
      "text/plain": [
       "director_name              0\n",
       "num_critic_for_reviews     1\n",
       "duration                   1\n",
       "actor_2_name               5\n",
       "gross                      0\n",
       "genres                     0\n",
       "actor_1_name               3\n",
       "movie_title                0\n",
       "num_voted_users            0\n",
       "actor_3_name              10\n",
       "num_user_for_reviews       0\n",
       "language                   4\n",
       "budget                     0\n",
       "title_year                 0\n",
       "imdb_score                 0\n",
       "movie_facebook_likes       0\n",
       "dtype: int64"
      ]
     },
     "execution_count": 8,
     "metadata": {},
     "output_type": "execute_result"
    }
   ],
   "source": [
    "# Since 'gross' and 'budget' columns have large number of NaN values, drop all the rows with NaNs at this column using the\n",
    "# 'isnan' function of NumPy alongwith a negation '~'\n",
    "\n",
    "data = data[~np.isnan(data['gross'])]\n",
    "data = data[~np.isnan(data['budget'])]\n",
    "\n",
    "# Now lets again check the Missing Values column wise\n",
    "data.isnull().sum()"
   ]
  },
  {
   "cell_type": "code",
   "execution_count": 9,
   "id": "3da90e02",
   "metadata": {},
   "outputs": [
    {
     "data": {
      "text/plain": [
       "director_name             0\n",
       "num_critic_for_reviews    1\n",
       "duration                  1\n",
       "actor_2_name              2\n",
       "gross                     0\n",
       "genres                    0\n",
       "actor_1_name              0\n",
       "movie_title               0\n",
       "num_voted_users           0\n",
       "actor_3_name              7\n",
       "num_user_for_reviews      0\n",
       "language                  4\n",
       "budget                    0\n",
       "title_year                0\n",
       "imdb_score                0\n",
       "movie_facebook_likes      0\n",
       "dtype: int64"
      ]
     },
     "execution_count": 9,
     "metadata": {},
     "output_type": "execute_result"
    }
   ],
   "source": [
    "# The rows for which the sum of Null is less than two are retained\n",
    "\n",
    "data = data[data.isnull().sum(axis=1) <= 2]\n",
    "data.isnull().sum()"
   ]
  },
  {
   "cell_type": "code",
   "execution_count": 10,
   "id": "a446858f",
   "metadata": {},
   "outputs": [
    {
     "data": {
      "text/plain": [
       "0"
      ]
     },
     "execution_count": 10,
     "metadata": {},
     "output_type": "execute_result"
    }
   ],
   "source": [
    "# lets impute the missing values\n",
    "\n",
    "# using mean for numerical columns\n",
    "data['num_critic_for_reviews'].fillna(data['num_critic_for_reviews'].mean(), inplace = True)\n",
    "data['duration'].fillna(data['duration'].mean(), inplace = True)\n",
    "\n",
    "# using mode for categorical column\n",
    "data['language'].fillna(data['language'].mode()[0], inplace = True)\n",
    "\n",
    "# As we know that We cannot use statistical values for imputing the missing values of actor names, so we will replace the \n",
    "# actor names with \"Unknown Actor\"\n",
    "\n",
    "data['actor_2_name'].fillna('Unknown Actor', inplace = True)\n",
    "data['actor_3_name'].fillna('Unknown Actor', inplace = True)\n",
    "\n",
    "# as we imputed all the missing values lets check the no. of total missing values in the dataset\n",
    "data.isnull().sum().sum()"
   ]
  },
  {
   "cell_type": "markdown",
   "id": "74c5ca59",
   "metadata": {},
   "source": [
    "Feature Enigneering"
   ]
  },
  {
   "cell_type": "code",
   "execution_count": 11,
   "id": "e0c4ff8c",
   "metadata": {},
   "outputs": [],
   "source": [
    "# Lets convert the gross and budget from $ to Million $ to make our analysis easier\n",
    "\n",
    "data['gross'] = data['gross']/1000000\n",
    "data['budget'] = data['budget']/1000000"
   ]
  },
  {
   "cell_type": "code",
   "execution_count": 12,
   "id": "90bb5592",
   "metadata": {},
   "outputs": [
    {
     "data": {
      "text/html": [
       "<div>\n",
       "<style scoped>\n",
       "    .dataframe tbody tr th:only-of-type {\n",
       "        vertical-align: middle;\n",
       "    }\n",
       "\n",
       "    .dataframe tbody tr th {\n",
       "        vertical-align: top;\n",
       "    }\n",
       "\n",
       "    .dataframe thead th {\n",
       "        text-align: right;\n",
       "    }\n",
       "</style>\n",
       "<table border=\"1\" class=\"dataframe\">\n",
       "  <thead>\n",
       "    <tr style=\"text-align: right;\">\n",
       "      <th></th>\n",
       "      <th>Profit</th>\n",
       "      <th>movie_title</th>\n",
       "    </tr>\n",
       "  </thead>\n",
       "  <tbody>\n",
       "    <tr>\n",
       "      <th>0</th>\n",
       "      <td>523.505847</td>\n",
       "      <td>Avatar</td>\n",
       "    </tr>\n",
       "    <tr>\n",
       "      <th>29</th>\n",
       "      <td>502.177271</td>\n",
       "      <td>Jurassic World</td>\n",
       "    </tr>\n",
       "    <tr>\n",
       "      <th>26</th>\n",
       "      <td>458.672302</td>\n",
       "      <td>Titanic</td>\n",
       "    </tr>\n",
       "    <tr>\n",
       "      <th>3024</th>\n",
       "      <td>449.935665</td>\n",
       "      <td>Star Wars: Episode IV - A New Hope</td>\n",
       "    </tr>\n",
       "    <tr>\n",
       "      <th>3080</th>\n",
       "      <td>424.449459</td>\n",
       "      <td>E.T. the Extra-Terrestrial</td>\n",
       "    </tr>\n",
       "    <tr>\n",
       "      <th>794</th>\n",
       "      <td>403.279547</td>\n",
       "      <td>The Avengers</td>\n",
       "    </tr>\n",
       "    <tr>\n",
       "      <th>17</th>\n",
       "      <td>403.279547</td>\n",
       "      <td>The Avengers</td>\n",
       "    </tr>\n",
       "    <tr>\n",
       "      <th>509</th>\n",
       "      <td>377.783777</td>\n",
       "      <td>The Lion King</td>\n",
       "    </tr>\n",
       "    <tr>\n",
       "      <th>240</th>\n",
       "      <td>359.544677</td>\n",
       "      <td>Star Wars: Episode I - The Phantom Menace</td>\n",
       "    </tr>\n",
       "    <tr>\n",
       "      <th>66</th>\n",
       "      <td>348.316061</td>\n",
       "      <td>The Dark Knight</td>\n",
       "    </tr>\n",
       "  </tbody>\n",
       "</table>\n",
       "</div>"
      ],
      "text/plain": [
       "          Profit                                 movie_title\n",
       "0     523.505847                                     Avatar \n",
       "29    502.177271                             Jurassic World \n",
       "26    458.672302                                    Titanic \n",
       "3024  449.935665         Star Wars: Episode IV - A New Hope \n",
       "3080  424.449459                 E.T. the Extra-Terrestrial \n",
       "794   403.279547                               The Avengers \n",
       "17    403.279547                               The Avengers \n",
       "509   377.783777                              The Lion King \n",
       "240   359.544677  Star Wars: Episode I - The Phantom Menace \n",
       "66    348.316061                            The Dark Knight "
      ]
     },
     "execution_count": 12,
     "metadata": {},
     "output_type": "execute_result"
    }
   ],
   "source": [
    "# lets create a Profit column using the Budget and Gross\n",
    "\n",
    "data['Profit'] = data['gross'] - data['budget']\n",
    "\n",
    "# lets also check the name of Top 10 Profitable Movies\n",
    "data[['Profit','movie_title']].sort_values(by = 'Profit', ascending  = False).head(10)"
   ]
  },
  {
   "cell_type": "code",
   "execution_count": 13,
   "id": "0edc2e69",
   "metadata": {},
   "outputs": [
    {
     "name": "stdout",
     "output_type": "stream",
     "text": [
      "No. of Rows Before Removing Duplicates:  3888\n",
      "No. of Rows After Removing Duplicates:  3853\n"
     ]
    }
   ],
   "source": [
    "# By looking at the above result we can easily analyze that there are some duplicate\n",
    "\n",
    "# lets print the no. of rows before removing Duplicates\n",
    "print(\"No. of Rows Before Removing Duplicates: \",data.shape[0])\n",
    "\n",
    "# so lets remove all the duplicates from the data\n",
    "data.drop_duplicates(subset = None, keep = 'first', inplace = True)\n",
    "\n",
    "# lets print the no. of rows after removing Duplicates\n",
    "print(\"No. of Rows After Removing Duplicates: \",data.shape[0])"
   ]
  },
  {
   "cell_type": "code",
   "execution_count": 14,
   "id": "8d7217be",
   "metadata": {},
   "outputs": [
    {
     "data": {
      "text/html": [
       "<div>\n",
       "<style scoped>\n",
       "    .dataframe tbody tr th:only-of-type {\n",
       "        vertical-align: middle;\n",
       "    }\n",
       "\n",
       "    .dataframe tbody tr th {\n",
       "        vertical-align: top;\n",
       "    }\n",
       "\n",
       "    .dataframe thead th {\n",
       "        text-align: right;\n",
       "    }\n",
       "</style>\n",
       "<table border=\"1\" class=\"dataframe\">\n",
       "  <thead>\n",
       "    <tr style=\"text-align: right;\">\n",
       "      <th></th>\n",
       "      <th>movie_title</th>\n",
       "      <th>Profit</th>\n",
       "    </tr>\n",
       "  </thead>\n",
       "  <tbody>\n",
       "    <tr>\n",
       "      <th>0</th>\n",
       "      <td>Avatar</td>\n",
       "      <td>523.505847</td>\n",
       "    </tr>\n",
       "    <tr>\n",
       "      <th>29</th>\n",
       "      <td>Jurassic World</td>\n",
       "      <td>502.177271</td>\n",
       "    </tr>\n",
       "    <tr>\n",
       "      <th>26</th>\n",
       "      <td>Titanic</td>\n",
       "      <td>458.672302</td>\n",
       "    </tr>\n",
       "    <tr>\n",
       "      <th>3024</th>\n",
       "      <td>Star Wars: Episode IV - A New Hope</td>\n",
       "      <td>449.935665</td>\n",
       "    </tr>\n",
       "    <tr>\n",
       "      <th>3080</th>\n",
       "      <td>E.T. the Extra-Terrestrial</td>\n",
       "      <td>424.449459</td>\n",
       "    </tr>\n",
       "    <tr>\n",
       "      <th>17</th>\n",
       "      <td>The Avengers</td>\n",
       "      <td>403.279547</td>\n",
       "    </tr>\n",
       "    <tr>\n",
       "      <th>509</th>\n",
       "      <td>The Lion King</td>\n",
       "      <td>377.783777</td>\n",
       "    </tr>\n",
       "    <tr>\n",
       "      <th>240</th>\n",
       "      <td>Star Wars: Episode I - The Phantom Menace</td>\n",
       "      <td>359.544677</td>\n",
       "    </tr>\n",
       "    <tr>\n",
       "      <th>66</th>\n",
       "      <td>The Dark Knight</td>\n",
       "      <td>348.316061</td>\n",
       "    </tr>\n",
       "    <tr>\n",
       "      <th>439</th>\n",
       "      <td>The Hunger Games</td>\n",
       "      <td>329.999255</td>\n",
       "    </tr>\n",
       "  </tbody>\n",
       "</table>\n",
       "</div>"
      ],
      "text/plain": [
       "                                     movie_title      Profit\n",
       "0                                        Avatar   523.505847\n",
       "29                               Jurassic World   502.177271\n",
       "26                                      Titanic   458.672302\n",
       "3024         Star Wars: Episode IV - A New Hope   449.935665\n",
       "3080                 E.T. the Extra-Terrestrial   424.449459\n",
       "17                                 The Avengers   403.279547\n",
       "509                               The Lion King   377.783777\n",
       "240   Star Wars: Episode I - The Phantom Menace   359.544677\n",
       "66                              The Dark Knight   348.316061\n",
       "439                            The Hunger Games   329.999255"
      ]
     },
     "execution_count": 14,
     "metadata": {},
     "output_type": "execute_result"
    }
   ],
   "source": [
    "# Lets check the Top 10 Profitable Movies Again\n",
    "\n",
    "data[['movie_title','Profit']].sort_values(by = 'Profit', ascending  = False).head(10)"
   ]
  },
  {
   "cell_type": "code",
   "execution_count": 15,
   "id": "0d375c71",
   "metadata": {},
   "outputs": [
    {
     "data": {
      "text/plain": [
       "language\n",
       "English       3674\n",
       "French          37\n",
       "Spanish         26\n",
       "Mandarin        14\n",
       "German          13\n",
       "Japanese        12\n",
       "Hindi           10\n",
       "Cantonese        8\n",
       "Italian          7\n",
       "Portuguese       5\n",
       "Korean           5\n",
       "Norwegian        4\n",
       "Thai             3\n",
       "Hebrew           3\n",
       "Persian          3\n",
       "Danish           3\n",
       "Dutch            3\n",
       "Dari             2\n",
       "Indonesian       2\n",
       "Aboriginal       2\n",
       "Arabic           1\n",
       "Russian          1\n",
       "Vietnamese       1\n",
       "Dzongkha         1\n",
       "Romanian         1\n",
       "Zulu             1\n",
       "Bosnian          1\n",
       "Czech            1\n",
       "Icelandic        1\n",
       "Hungarian        1\n",
       "Mongolian        1\n",
       "Aramaic          1\n",
       "Telugu           1\n",
       "Kazakh           1\n",
       "Maya             1\n",
       "Filipino         1\n",
       "Swedish          1\n",
       "Name: count, dtype: int64"
      ]
     },
     "execution_count": 15,
     "metadata": {},
     "output_type": "execute_result"
    }
   ],
   "source": [
    "# lets check the values in the language column\n",
    "data['language'].value_counts()"
   ]
  },
  {
   "cell_type": "code",
   "execution_count": 16,
   "id": "e874c512",
   "metadata": {},
   "outputs": [
    {
     "data": {
      "text/plain": [
       "language\n",
       "English    3674\n",
       "Foreign     179\n",
       "Name: count, dtype: int64"
      ]
     },
     "execution_count": 16,
     "metadata": {},
     "output_type": "execute_result"
    }
   ],
   "source": [
    "# Looking at the above output we can easily observe that out of 3,500 movies only 150 movies are of other languages\n",
    "\n",
    "# so it is better to keep only two languages that is English and Foreign\n",
    "def language(x):\n",
    "    if x == 'English':\n",
    "        return 'English'\n",
    "    else:\n",
    "        return 'Foreign'\n",
    "\n",
    "# lets apply the function on the language column\n",
    "data['language'] = data['language'].apply(language)\n",
    "\n",
    "# lets check the values again\n",
    "data['language'].value_counts()"
   ]
  },
  {
   "cell_type": "code",
   "execution_count": 17,
   "id": "5519e405",
   "metadata": {},
   "outputs": [
    {
     "data": {
      "text/plain": [
       "duration\n",
       "Short    2936\n",
       "Long      917\n",
       "Name: count, dtype: int64"
      ]
     },
     "execution_count": 17,
     "metadata": {},
     "output_type": "execute_result"
    }
   ],
   "source": [
    "# The Duration of Movies is not varying a lot but we know that most of the users either like watching long movies or short \n",
    "# duration movies. we can categorize the movies in two part i.e., short and long.\n",
    "\n",
    "# lets define a function for categorizing Duration of Movies\n",
    "def duration(x):\n",
    "    if x <= 120:\n",
    "        return 'Short'\n",
    "    else:\n",
    "        return 'Long'\n",
    "    \n",
    "# lets apply this function on the duration column\n",
    "data['duration'] = data['duration'].apply(duration)\n",
    "\n",
    "# lets check the values of Duration column\n",
    "data['duration'].value_counts()"
   ]
  },
  {
   "cell_type": "code",
   "execution_count": 18,
   "id": "33e87bda",
   "metadata": {},
   "outputs": [
    {
     "data": {
      "text/plain": [
       "genres\n",
       "Drama                                     153\n",
       "Comedy|Drama|Romance                      151\n",
       "Comedy|Drama                              147\n",
       "Comedy                                    145\n",
       "Comedy|Romance                            135\n",
       "                                         ... \n",
       "Action|Crime|Drama|Thriller|War             1\n",
       "Adventure|Comedy|Family|Musical             1\n",
       "Action|Adventure|Family|Fantasy|Sci-Fi      1\n",
       "Action|Drama|Mystery|Thriller|War           1\n",
       "Comedy|Crime|Horror                         1\n",
       "Name: count, Length: 762, dtype: int64"
      ]
     },
     "execution_count": 18,
     "metadata": {},
     "output_type": "execute_result"
    }
   ],
   "source": [
    "# lets also check the values in the Genres Column\n",
    "\n",
    "data['genres'].value_counts()"
   ]
  },
  {
   "cell_type": "code",
   "execution_count": 19,
   "id": "752c7f84",
   "metadata": {},
   "outputs": [
    {
     "data": {
      "text/plain": [
       "['Action', 'Adventure', 'Fantasy', 'Sci-Fi']"
      ]
     },
     "execution_count": 19,
     "metadata": {},
     "output_type": "execute_result"
    }
   ],
   "source": [
    "data['genres'].str.split('|')[0]"
   ]
  },
  {
   "cell_type": "code",
   "execution_count": 20,
   "id": "82231a28",
   "metadata": {},
   "outputs": [
    {
     "data": {
      "text/html": [
       "<div>\n",
       "<style scoped>\n",
       "    .dataframe tbody tr th:only-of-type {\n",
       "        vertical-align: middle;\n",
       "    }\n",
       "\n",
       "    .dataframe tbody tr th {\n",
       "        vertical-align: top;\n",
       "    }\n",
       "\n",
       "    .dataframe thead th {\n",
       "        text-align: right;\n",
       "    }\n",
       "</style>\n",
       "<table border=\"1\" class=\"dataframe\">\n",
       "  <thead>\n",
       "    <tr style=\"text-align: right;\">\n",
       "      <th></th>\n",
       "      <th>genres</th>\n",
       "      <th>Genre1</th>\n",
       "      <th>Genre2</th>\n",
       "      <th>Genre3</th>\n",
       "      <th>Genre4</th>\n",
       "    </tr>\n",
       "  </thead>\n",
       "  <tbody>\n",
       "    <tr>\n",
       "      <th>0</th>\n",
       "      <td>Action|Adventure|Fantasy|Sci-Fi</td>\n",
       "      <td>Action</td>\n",
       "      <td>Adventure</td>\n",
       "      <td>Fantasy</td>\n",
       "      <td>Sci-Fi</td>\n",
       "    </tr>\n",
       "    <tr>\n",
       "      <th>1</th>\n",
       "      <td>Action|Adventure|Fantasy</td>\n",
       "      <td>Action</td>\n",
       "      <td>Adventure</td>\n",
       "      <td>Fantasy</td>\n",
       "      <td>Action</td>\n",
       "    </tr>\n",
       "    <tr>\n",
       "      <th>2</th>\n",
       "      <td>Action|Adventure|Thriller</td>\n",
       "      <td>Action</td>\n",
       "      <td>Adventure</td>\n",
       "      <td>Thriller</td>\n",
       "      <td>Action</td>\n",
       "    </tr>\n",
       "    <tr>\n",
       "      <th>3</th>\n",
       "      <td>Action|Thriller</td>\n",
       "      <td>Action</td>\n",
       "      <td>Thriller</td>\n",
       "      <td>Action</td>\n",
       "      <td>Action</td>\n",
       "    </tr>\n",
       "    <tr>\n",
       "      <th>5</th>\n",
       "      <td>Action|Adventure|Sci-Fi</td>\n",
       "      <td>Action</td>\n",
       "      <td>Adventure</td>\n",
       "      <td>Sci-Fi</td>\n",
       "      <td>Action</td>\n",
       "    </tr>\n",
       "  </tbody>\n",
       "</table>\n",
       "</div>"
      ],
      "text/plain": [
       "                            genres  Genre1     Genre2    Genre3  Genre4\n",
       "0  Action|Adventure|Fantasy|Sci-Fi  Action  Adventure   Fantasy  Sci-Fi\n",
       "1         Action|Adventure|Fantasy  Action  Adventure   Fantasy  Action\n",
       "2        Action|Adventure|Thriller  Action  Adventure  Thriller  Action\n",
       "3                  Action|Thriller  Action   Thriller    Action  Action\n",
       "5          Action|Adventure|Sci-Fi  Action  Adventure    Sci-Fi  Action"
      ]
     },
     "execution_count": 20,
     "metadata": {},
     "output_type": "execute_result"
    }
   ],
   "source": [
    "# we can see from the above output that most of the movies are having a lot of genres\n",
    "# also, a movie can have so many genres so lets keep four genres\n",
    "\n",
    "data['Moviegenres'] = data['genres'].str.split('|')\n",
    "data['Genre1'] = data['Moviegenres'].apply(lambda x: x[0])\n",
    "\n",
    "# Some of the movies have only one genre. In such cases, assign the same genre to 'genre_2' as well\n",
    "data['Genre2'] = data['Moviegenres'].apply(lambda x: x[1] if len(x) > 1 else x[0])\n",
    "data['Genre3'] = data['Moviegenres'].apply(lambda x: x[2] if len(x) > 2 else x[0])\n",
    "data['Genre4'] = data['Moviegenres'].apply(lambda x: x[3] if len(x) > 3 else x[0])\n",
    "\n",
    "# lets check the head of the  data\n",
    "data[['genres','Genre1','Genre2','Genre3','Genre4']].head(5)"
   ]
  },
  {
   "cell_type": "markdown",
   "id": "b5b05f86",
   "metadata": {},
   "source": [
    "Data Visualization"
   ]
  },
  {
   "cell_type": "code",
   "execution_count": 21,
   "id": "387f8061",
   "metadata": {},
   "outputs": [
    {
     "name": "stdout",
     "output_type": "stream",
     "text": [
      "   index                          movie_title  Social_Media_Popularity\n",
      "0     10  Batman v Superman: Dawn of Justice               1599.794424\n",
      "1    150                        Ghostbusters               1076.336425\n",
      "2   1582                        Ghostbusters               1075.827482\n",
      "3     96                        Interstellar               1024.560802\n",
      "4   3015               10 Days in a Madhouse                828.025478\n",
      "5    945                      Into the Woods                692.937200\n",
      "6     73                       Suicide Squad                652.816996\n",
      "7   1190                Fifty Shades of Grey                624.306881\n",
      "8    108                            Warcraft                622.790277\n",
      "9     92        Independence Day: Resurgence                599.274128\n"
     ]
    },
    {
     "ename": "TypeError",
     "evalue": "barplot() takes from 0 to 1 positional arguments but 2 positional arguments (and 1 keyword-only argument) were given",
     "output_type": "error",
     "traceback": [
      "\u001b[1;31m---------------------------------------------------------------------------\u001b[0m",
      "\u001b[1;31mTypeError\u001b[0m                                 Traceback (most recent call last)",
      "Cell \u001b[1;32mIn[21], line 12\u001b[0m\n\u001b[0;32m      8\u001b[0m x \u001b[38;5;241m=\u001b[39m data[[\u001b[38;5;124m'\u001b[39m\u001b[38;5;124mmovie_title\u001b[39m\u001b[38;5;124m'\u001b[39m,\u001b[38;5;124m'\u001b[39m\u001b[38;5;124mSocial_Media_Popularity\u001b[39m\u001b[38;5;124m'\u001b[39m]]\u001b[38;5;241m.\u001b[39msort_values(by \u001b[38;5;241m=\u001b[39m \u001b[38;5;124m'\u001b[39m\u001b[38;5;124mSocial_Media_Popularity\u001b[39m\u001b[38;5;124m'\u001b[39m,\n\u001b[0;32m      9\u001b[0m                                                                 ascending \u001b[38;5;241m=\u001b[39m \u001b[38;5;28;01mFalse\u001b[39;00m)\u001b[38;5;241m.\u001b[39mhead(\u001b[38;5;241m10\u001b[39m)\u001b[38;5;241m.\u001b[39mreset_index()\n\u001b[0;32m     10\u001b[0m \u001b[38;5;28mprint\u001b[39m(x)\n\u001b[1;32m---> 12\u001b[0m sns\u001b[38;5;241m.\u001b[39mbarplot(x[\u001b[38;5;124m'\u001b[39m\u001b[38;5;124mmovie_title\u001b[39m\u001b[38;5;124m'\u001b[39m], x[\u001b[38;5;124m'\u001b[39m\u001b[38;5;124mSocial_Media_Popularity\u001b[39m\u001b[38;5;124m'\u001b[39m], palette \u001b[38;5;241m=\u001b[39m \u001b[38;5;124m'\u001b[39m\u001b[38;5;124mmagma\u001b[39m\u001b[38;5;124m'\u001b[39m)\n\u001b[0;32m     13\u001b[0m plt\u001b[38;5;241m.\u001b[39mtitle(\u001b[38;5;124m'\u001b[39m\u001b[38;5;124mTop 10 Most Popular Movies on Social Media\u001b[39m\u001b[38;5;124m'\u001b[39m, fontsize \u001b[38;5;241m=\u001b[39m \u001b[38;5;241m20\u001b[39m)\n\u001b[0;32m     14\u001b[0m plt\u001b[38;5;241m.\u001b[39mxticks(rotation \u001b[38;5;241m=\u001b[39m \u001b[38;5;241m90\u001b[39m, fontsize \u001b[38;5;241m=\u001b[39m \u001b[38;5;241m14\u001b[39m)\n",
      "\u001b[1;31mTypeError\u001b[0m: barplot() takes from 0 to 1 positional arguments but 2 positional arguments (and 1 keyword-only argument) were given"
     ]
    }
   ],
   "source": [
    "# lets also calculate the Social Media Popularity of a Movie \n",
    "\n",
    "# to calculate popularity of a movie, we can aggregate No. of voted users, No. of Users for Reviews, and Facebook Likes.\n",
    "data['Social_Media_Popularity'] = (data['num_user_for_reviews']/\n",
    "                                   data['num_voted_users'])*data['movie_facebook_likes']\n",
    "\n",
    "# lets also check the Top 10 Most Popular Movies on Social Media\n",
    "x = data[['movie_title','Social_Media_Popularity']].sort_values(by = 'Social_Media_Popularity',\n",
    "                                                                ascending = False).head(10).reset_index()\n",
    "print(x)\n",
    "\n",
    "sns.barplot(x['movie_title'], x['Social_Media_Popularity'], palette = 'magma')\n",
    "plt.title('Top 10 Most Popular Movies on Social Media', fontsize = 20)\n",
    "plt.xticks(rotation = 90, fontsize = 14)\n",
    "plt.xlabel(' ')\n",
    "plt.show()"
   ]
  },
  {
   "cell_type": "code",
   "execution_count": 22,
   "id": "b193b854",
   "metadata": {},
   "outputs": [
    {
     "data": {
      "text/html": [
       "<style type=\"text/css\">\n",
       "#T_444b3_row0_col0, #T_444b3_row8_col1, #T_444b3_row11_col2 {\n",
       "  background-color: #fc7f00;\n",
       "  color: #f1f1f1;\n",
       "}\n",
       "#T_444b3_row0_col1 {\n",
       "  background-color: #ffbb00;\n",
       "  color: #000000;\n",
       "}\n",
       "#T_444b3_row0_col2, #T_444b3_row1_col2, #T_444b3_row4_col2, #T_444b3_row5_col2, #T_444b3_row6_col2, #T_444b3_row7_col2, #T_444b3_row9_col2, #T_444b3_row10_col2, #T_444b3_row15_col0, #T_444b3_row15_col1, #T_444b3_row15_col2 {\n",
       "  background-color: #e4ff7a;\n",
       "  color: #000000;\n",
       "}\n",
       "#T_444b3_row1_col0, #T_444b3_row8_col0 {\n",
       "  background-color: #ffb500;\n",
       "  color: #000000;\n",
       "}\n",
       "#T_444b3_row1_col1 {\n",
       "  background-color: #ffb300;\n",
       "  color: #000000;\n",
       "}\n",
       "#T_444b3_row2_col0 {\n",
       "  background-color: #ffc002;\n",
       "  color: #000000;\n",
       "}\n",
       "#T_444b3_row2_col1 {\n",
       "  background-color: #ffb100;\n",
       "  color: #000000;\n",
       "}\n",
       "#T_444b3_row2_col2, #T_444b3_row13_col2 {\n",
       "  background-color: #e7fd71;\n",
       "  color: #000000;\n",
       "}\n",
       "#T_444b3_row3_col0 {\n",
       "  background-color: #ffd911;\n",
       "  color: #000000;\n",
       "}\n",
       "#T_444b3_row3_col1 {\n",
       "  background-color: #fee91d;\n",
       "  color: #000000;\n",
       "}\n",
       "#T_444b3_row3_col2, #T_444b3_row12_col2, #T_444b3_row14_col2 {\n",
       "  background-color: #e4ff78;\n",
       "  color: #000000;\n",
       "}\n",
       "#T_444b3_row4_col0 {\n",
       "  background-color: #ffc907;\n",
       "  color: #000000;\n",
       "}\n",
       "#T_444b3_row4_col1 {\n",
       "  background-color: #ffe81a;\n",
       "  color: #000000;\n",
       "}\n",
       "#T_444b3_row5_col0, #T_444b3_row11_col0 {\n",
       "  background-color: #fee91e;\n",
       "  color: #000000;\n",
       "}\n",
       "#T_444b3_row5_col1 {\n",
       "  background-color: #fbeb27;\n",
       "  color: #000000;\n",
       "}\n",
       "#T_444b3_row6_col0 {\n",
       "  background-color: #f5f13e;\n",
       "  color: #000000;\n",
       "}\n",
       "#T_444b3_row6_col1 {\n",
       "  background-color: #eef757;\n",
       "  color: #000000;\n",
       "}\n",
       "#T_444b3_row7_col0 {\n",
       "  background-color: #fe9100;\n",
       "  color: #000000;\n",
       "}\n",
       "#T_444b3_row7_col1 {\n",
       "  background-color: #faec2c;\n",
       "  color: #000000;\n",
       "}\n",
       "#T_444b3_row8_col2 {\n",
       "  background-color: #ff9f00;\n",
       "  color: #000000;\n",
       "}\n",
       "#T_444b3_row9_col0 {\n",
       "  background-color: #f2f348;\n",
       "  color: #000000;\n",
       "}\n",
       "#T_444b3_row9_col1 {\n",
       "  background-color: #ffe418;\n",
       "  color: #000000;\n",
       "}\n",
       "#T_444b3_row10_col0 {\n",
       "  background-color: #ffe518;\n",
       "  color: #000000;\n",
       "}\n",
       "#T_444b3_row10_col1 {\n",
       "  background-color: #fdea21;\n",
       "  color: #000000;\n",
       "}\n",
       "#T_444b3_row11_col1 {\n",
       "  background-color: #ffaf00;\n",
       "  color: #000000;\n",
       "}\n",
       "#T_444b3_row12_col0 {\n",
       "  background-color: #ffe216;\n",
       "  color: #000000;\n",
       "}\n",
       "#T_444b3_row12_col1 {\n",
       "  background-color: #ffdb12;\n",
       "  color: #000000;\n",
       "}\n",
       "#T_444b3_row13_col0 {\n",
       "  background-color: #edf75a;\n",
       "  color: #000000;\n",
       "}\n",
       "#T_444b3_row13_col1 {\n",
       "  background-color: #f3f245;\n",
       "  color: #000000;\n",
       "}\n",
       "#T_444b3_row14_col0 {\n",
       "  background-color: #eff653;\n",
       "  color: #000000;\n",
       "}\n",
       "#T_444b3_row14_col1 {\n",
       "  background-color: #f7ef38;\n",
       "  color: #000000;\n",
       "}\n",
       "#T_444b3_row16_col0 {\n",
       "  background-color: #eafa66;\n",
       "  color: #000000;\n",
       "}\n",
       "#T_444b3_row16_col1 {\n",
       "  background-color: #eff551;\n",
       "  color: #000000;\n",
       "}\n",
       "#T_444b3_row16_col2 {\n",
       "  background-color: #edf759;\n",
       "  color: #000000;\n",
       "}\n",
       "</style>\n",
       "<table id=\"T_444b3\">\n",
       "  <thead>\n",
       "    <tr>\n",
       "      <th class=\"blank level0\" >&nbsp;</th>\n",
       "      <th id=\"T_444b3_level0_col0\" class=\"col_heading level0 col0\" colspan=\"3\">gross</th>\n",
       "    </tr>\n",
       "    <tr>\n",
       "      <th class=\"blank level1\" >&nbsp;</th>\n",
       "      <th id=\"T_444b3_level1_col0\" class=\"col_heading level1 col0\" >max</th>\n",
       "      <th id=\"T_444b3_level1_col1\" class=\"col_heading level1 col1\" >mean</th>\n",
       "      <th id=\"T_444b3_level1_col2\" class=\"col_heading level1 col2\" >min</th>\n",
       "    </tr>\n",
       "    <tr>\n",
       "      <th class=\"index_name level0\" >Genre1</th>\n",
       "      <th class=\"blank col0\" >&nbsp;</th>\n",
       "      <th class=\"blank col1\" >&nbsp;</th>\n",
       "      <th class=\"blank col2\" >&nbsp;</th>\n",
       "    </tr>\n",
       "  </thead>\n",
       "  <tbody>\n",
       "    <tr>\n",
       "      <th id=\"T_444b3_level0_row0\" class=\"row_heading level0 row0\" >Action</th>\n",
       "      <td id=\"T_444b3_row0_col0\" class=\"data row0 col0\" >760.505847</td>\n",
       "      <td id=\"T_444b3_row0_col1\" class=\"data row0 col1\" >76.584686</td>\n",
       "      <td id=\"T_444b3_row0_col2\" class=\"data row0 col2\" >0.000162</td>\n",
       "    </tr>\n",
       "    <tr>\n",
       "      <th id=\"T_444b3_level0_row1\" class=\"row_heading level0 row1\" >Adventure</th>\n",
       "      <td id=\"T_444b3_row1_col0\" class=\"data row1 col0\" >436.471036</td>\n",
       "      <td id=\"T_444b3_row1_col1\" class=\"data row1 col1\" >87.827145</td>\n",
       "      <td id=\"T_444b3_row1_col2\" class=\"data row1 col2\" >0.004091</td>\n",
       "    </tr>\n",
       "    <tr>\n",
       "      <th id=\"T_444b3_level0_row2\" class=\"row_heading level0 row2\" >Animation</th>\n",
       "      <td id=\"T_444b3_row2_col0\" class=\"data row2 col0\" >368.049635</td>\n",
       "      <td id=\"T_444b3_row2_col1\" class=\"data row2 col1\" >89.873480</td>\n",
       "      <td id=\"T_444b3_row2_col2\" class=\"data row2 col2\" >0.071442</td>\n",
       "    </tr>\n",
       "    <tr>\n",
       "      <th id=\"T_444b3_level0_row3\" class=\"row_heading level0 row3\" >Biography</th>\n",
       "      <td id=\"T_444b3_row3_col0\" class=\"data row3 col0\" >255.950375</td>\n",
       "      <td id=\"T_444b3_row3_col1\" class=\"data row3 col1\" >36.431983</td>\n",
       "      <td id=\"T_444b3_row3_col2\" class=\"data row3 col2\" >0.012836</td>\n",
       "    </tr>\n",
       "    <tr>\n",
       "      <th id=\"T_444b3_level0_row4\" class=\"row_heading level0 row4\" >Comedy</th>\n",
       "      <td id=\"T_444b3_row4_col0\" class=\"data row4 col0\" >329.691196</td>\n",
       "      <td id=\"T_444b3_row4_col1\" class=\"data row4 col1\" >37.611935</td>\n",
       "      <td id=\"T_444b3_row4_col2\" class=\"data row4 col2\" >0.000703</td>\n",
       "    </tr>\n",
       "    <tr>\n",
       "      <th id=\"T_444b3_level0_row5\" class=\"row_heading level0 row5\" >Crime</th>\n",
       "      <td id=\"T_444b3_row5_col0\" class=\"data row5 col0\" >183.405771</td>\n",
       "      <td id=\"T_444b3_row5_col1\" class=\"data row5 col1\" >32.223226</td>\n",
       "      <td id=\"T_444b3_row5_col2\" class=\"data row5 col2\" >0.001111</td>\n",
       "    </tr>\n",
       "    <tr>\n",
       "      <th id=\"T_444b3_level0_row6\" class=\"row_heading level0 row6\" >Documentary</th>\n",
       "      <td id=\"T_444b3_row6_col0\" class=\"data row6 col0\" >119.078393</td>\n",
       "      <td id=\"T_444b3_row6_col1\" class=\"data row6 col1\" >13.704278</td>\n",
       "      <td id=\"T_444b3_row6_col2\" class=\"data row6 col2\" >0.005858</td>\n",
       "    </tr>\n",
       "    <tr>\n",
       "      <th id=\"T_444b3_level0_row7\" class=\"row_heading level0 row7\" >Drama</th>\n",
       "      <td id=\"T_444b3_row7_col0\" class=\"data row7 col0\" >658.672302</td>\n",
       "      <td id=\"T_444b3_row7_col1\" class=\"data row7 col1\" >30.778967</td>\n",
       "      <td id=\"T_444b3_row7_col2\" class=\"data row7 col2\" >0.002580</td>\n",
       "    </tr>\n",
       "    <tr>\n",
       "      <th id=\"T_444b3_level0_row8\" class=\"row_heading level0 row8\" >Family</th>\n",
       "      <td id=\"T_444b3_row8_col0\" class=\"data row8 col0\" >434.949459</td>\n",
       "      <td id=\"T_444b3_row8_col1\" class=\"data row8 col1\" >149.160478</td>\n",
       "      <td id=\"T_444b3_row8_col2\" class=\"data row8 col2\" >2.119994</td>\n",
       "    </tr>\n",
       "    <tr>\n",
       "      <th id=\"T_444b3_level0_row9\" class=\"row_heading level0 row9\" >Fantasy</th>\n",
       "      <td id=\"T_444b3_row9_col0\" class=\"data row9 col0\" >100.614858</td>\n",
       "      <td id=\"T_444b3_row9_col1\" class=\"data row9 col1\" >40.483059</td>\n",
       "      <td id=\"T_444b3_row9_col2\" class=\"data row9 col2\" >0.003478</td>\n",
       "    </tr>\n",
       "    <tr>\n",
       "      <th id=\"T_444b3_level0_row10\" class=\"row_heading level0 row10\" >Horror</th>\n",
       "      <td id=\"T_444b3_row10_col0\" class=\"data row10 col0\" >204.565000</td>\n",
       "      <td id=\"T_444b3_row10_col1\" class=\"data row10 col1\" >34.737117</td>\n",
       "      <td id=\"T_444b3_row10_col2\" class=\"data row10 col2\" >0.005725</td>\n",
       "    </tr>\n",
       "    <tr>\n",
       "      <th id=\"T_444b3_level0_row11\" class=\"row_heading level0 row11\" >Musical</th>\n",
       "      <td id=\"T_444b3_row11_col0\" class=\"data row11 col0\" >181.360000</td>\n",
       "      <td id=\"T_444b3_row11_col1\" class=\"data row11 col1\" >92.084000</td>\n",
       "      <td id=\"T_444b3_row11_col2\" class=\"data row11 col2\" >2.808000</td>\n",
       "    </tr>\n",
       "    <tr>\n",
       "      <th id=\"T_444b3_level0_row12\" class=\"row_heading level0 row12\" >Mystery</th>\n",
       "      <td id=\"T_444b3_row12_col0\" class=\"data row12 col0\" >217.536138</td>\n",
       "      <td id=\"T_444b3_row12_col1\" class=\"data row12 col1\" >48.822296</td>\n",
       "      <td id=\"T_444b3_row12_col2\" class=\"data row12 col2\" >0.016066</td>\n",
       "    </tr>\n",
       "    <tr>\n",
       "      <th id=\"T_444b3_level0_row13\" class=\"row_heading level0 row13\" >Romance</th>\n",
       "      <td id=\"T_444b3_row13_col0\" class=\"data row13 col0\" >62.453315</td>\n",
       "      <td id=\"T_444b3_row13_col1\" class=\"data row13 col1\" >20.886339</td>\n",
       "      <td id=\"T_444b3_row13_col2\" class=\"data row13 col2\" >0.076382</td>\n",
       "    </tr>\n",
       "    <tr>\n",
       "      <th id=\"T_444b3_level0_row14\" class=\"row_heading level0 row14\" >Sci-Fi</th>\n",
       "      <td id=\"T_444b3_row14_col0\" class=\"data row14 col0\" >79.568000</td>\n",
       "      <td id=\"T_444b3_row14_col1\" class=\"data row14 col1\" >26.071841</td>\n",
       "      <td id=\"T_444b3_row14_col2\" class=\"data row14 col2\" >0.018195</td>\n",
       "    </tr>\n",
       "    <tr>\n",
       "      <th id=\"T_444b3_level0_row15\" class=\"row_heading level0 row15\" >Thriller</th>\n",
       "      <td id=\"T_444b3_row15_col0\" class=\"data row15 col0\" >0.070071</td>\n",
       "      <td id=\"T_444b3_row15_col1\" class=\"data row15 col1\" >0.040513</td>\n",
       "      <td id=\"T_444b3_row15_col2\" class=\"data row15 col2\" >0.002468</td>\n",
       "    </tr>\n",
       "    <tr>\n",
       "      <th id=\"T_444b3_level0_row16\" class=\"row_heading level0 row16\" >Western</th>\n",
       "      <td id=\"T_444b3_row16_col0\" class=\"data row16 col0\" >41.400000</td>\n",
       "      <td id=\"T_444b3_row16_col1\" class=\"data row16 col1\" >15.914589</td>\n",
       "      <td id=\"T_444b3_row16_col2\" class=\"data row16 col2\" >0.243768</td>\n",
       "    </tr>\n",
       "  </tbody>\n",
       "</table>\n"
      ],
      "text/plain": [
       "<pandas.io.formats.style.Styler at 0x19f97045d90>"
      ]
     },
     "metadata": {},
     "output_type": "display_data"
    },
    {
     "ename": "AttributeError",
     "evalue": "Line2D.set() got an unexpected keyword argument 'colors'",
     "output_type": "error",
     "traceback": [
      "\u001b[1;31m---------------------------------------------------------------------------\u001b[0m",
      "\u001b[1;31mAttributeError\u001b[0m                            Traceback (most recent call last)",
      "Cell \u001b[1;32mIn[22], line 7\u001b[0m\n\u001b[0;32m      4\u001b[0m display(data[[\u001b[38;5;124m'\u001b[39m\u001b[38;5;124mGenre1\u001b[39m\u001b[38;5;124m'\u001b[39m,\u001b[38;5;124m'\u001b[39m\u001b[38;5;124mgross\u001b[39m\u001b[38;5;124m'\u001b[39m,]]\u001b[38;5;241m.\u001b[39mgroupby([\u001b[38;5;124m'\u001b[39m\u001b[38;5;124mGenre1\u001b[39m\u001b[38;5;124m'\u001b[39m])\u001b[38;5;241m.\u001b[39magg([\u001b[38;5;124m'\u001b[39m\u001b[38;5;124mmax\u001b[39m\u001b[38;5;124m'\u001b[39m,\u001b[38;5;124m'\u001b[39m\u001b[38;5;124mmean\u001b[39m\u001b[38;5;124m'\u001b[39m,\u001b[38;5;124m'\u001b[39m\u001b[38;5;124mmin\u001b[39m\u001b[38;5;124m'\u001b[39m])\u001b[38;5;241m.\u001b[39mstyle\u001b[38;5;241m.\u001b[39mbackground_gradient(cmap \u001b[38;5;241m=\u001b[39m \u001b[38;5;124m'\u001b[39m\u001b[38;5;124mWistia\u001b[39m\u001b[38;5;124m'\u001b[39m))\n\u001b[0;32m      6\u001b[0m \u001b[38;5;66;03m# lets plot these values using lineplot\u001b[39;00m\n\u001b[1;32m----> 7\u001b[0m data[[\u001b[38;5;124m'\u001b[39m\u001b[38;5;124mGenre1\u001b[39m\u001b[38;5;124m'\u001b[39m,\u001b[38;5;124m'\u001b[39m\u001b[38;5;124mgross\u001b[39m\u001b[38;5;124m'\u001b[39m,]]\u001b[38;5;241m.\u001b[39mgroupby([\u001b[38;5;124m'\u001b[39m\u001b[38;5;124mGenre1\u001b[39m\u001b[38;5;124m'\u001b[39m])\u001b[38;5;241m.\u001b[39magg([\u001b[38;5;124m'\u001b[39m\u001b[38;5;124mmax\u001b[39m\u001b[38;5;124m'\u001b[39m,\u001b[38;5;124m'\u001b[39m\u001b[38;5;124mmean\u001b[39m\u001b[38;5;124m'\u001b[39m,\u001b[38;5;124m'\u001b[39m\u001b[38;5;124mmin\u001b[39m\u001b[38;5;124m'\u001b[39m])\u001b[38;5;241m.\u001b[39mplot(kind \u001b[38;5;241m=\u001b[39m \u001b[38;5;124m'\u001b[39m\u001b[38;5;124mline\u001b[39m\u001b[38;5;124m'\u001b[39m, colors \u001b[38;5;241m=\u001b[39m [\u001b[38;5;124m'\u001b[39m\u001b[38;5;124mred\u001b[39m\u001b[38;5;124m'\u001b[39m,\u001b[38;5;124m'\u001b[39m\u001b[38;5;124mblack\u001b[39m\u001b[38;5;124m'\u001b[39m,\u001b[38;5;124m'\u001b[39m\u001b[38;5;124mblue\u001b[39m\u001b[38;5;124m'\u001b[39m])\n\u001b[0;32m      8\u001b[0m plt\u001b[38;5;241m.\u001b[39mtitle(\u001b[38;5;124m'\u001b[39m\u001b[38;5;124mWhich Genre is Most Bankable?\u001b[39m\u001b[38;5;124m'\u001b[39m, fontsize \u001b[38;5;241m=\u001b[39m \u001b[38;5;241m20\u001b[39m)\n\u001b[0;32m      9\u001b[0m plt\u001b[38;5;241m.\u001b[39mxticks(np\u001b[38;5;241m.\u001b[39marange(\u001b[38;5;241m17\u001b[39m), [\u001b[38;5;124m'\u001b[39m\u001b[38;5;124mAction\u001b[39m\u001b[38;5;124m'\u001b[39m, \u001b[38;5;124m'\u001b[39m\u001b[38;5;124mAdventure\u001b[39m\u001b[38;5;124m'\u001b[39m, \u001b[38;5;124m'\u001b[39m\u001b[38;5;124mAnimation\u001b[39m\u001b[38;5;124m'\u001b[39m, \u001b[38;5;124m'\u001b[39m\u001b[38;5;124mBiography\u001b[39m\u001b[38;5;124m'\u001b[39m, \u001b[38;5;124m'\u001b[39m\u001b[38;5;124mComedy\u001b[39m\u001b[38;5;124m'\u001b[39m, \u001b[38;5;124m'\u001b[39m\u001b[38;5;124mCrime\u001b[39m\u001b[38;5;124m'\u001b[39m,\n\u001b[0;32m     10\u001b[0m        \u001b[38;5;124m'\u001b[39m\u001b[38;5;124mDocumentary\u001b[39m\u001b[38;5;124m'\u001b[39m, \u001b[38;5;124m'\u001b[39m\u001b[38;5;124mDrama\u001b[39m\u001b[38;5;124m'\u001b[39m, \u001b[38;5;124m'\u001b[39m\u001b[38;5;124mFamily\u001b[39m\u001b[38;5;124m'\u001b[39m, \u001b[38;5;124m'\u001b[39m\u001b[38;5;124mFantasy\u001b[39m\u001b[38;5;124m'\u001b[39m, \u001b[38;5;124m'\u001b[39m\u001b[38;5;124mHorror\u001b[39m\u001b[38;5;124m'\u001b[39m, \u001b[38;5;124m'\u001b[39m\u001b[38;5;124mMusical\u001b[39m\u001b[38;5;124m'\u001b[39m,\n\u001b[0;32m     11\u001b[0m        \u001b[38;5;124m'\u001b[39m\u001b[38;5;124mMystery\u001b[39m\u001b[38;5;124m'\u001b[39m, \u001b[38;5;124m'\u001b[39m\u001b[38;5;124mRomance\u001b[39m\u001b[38;5;124m'\u001b[39m, \u001b[38;5;124m'\u001b[39m\u001b[38;5;124mSci-Fi\u001b[39m\u001b[38;5;124m'\u001b[39m, \u001b[38;5;124m'\u001b[39m\u001b[38;5;124mThriller\u001b[39m\u001b[38;5;124m'\u001b[39m, \u001b[38;5;124m'\u001b[39m\u001b[38;5;124mWestern\u001b[39m\u001b[38;5;124m'\u001b[39m], rotation \u001b[38;5;241m=\u001b[39m \u001b[38;5;241m90\u001b[39m, fontsize \u001b[38;5;241m=\u001b[39m \u001b[38;5;241m15\u001b[39m)\n",
      "File \u001b[1;32m~\\anaconda3\\Lib\\site-packages\\pandas\\plotting\\_core.py:975\u001b[0m, in \u001b[0;36mPlotAccessor.__call__\u001b[1;34m(self, *args, **kwargs)\u001b[0m\n\u001b[0;32m    972\u001b[0m             label_name \u001b[38;5;241m=\u001b[39m label_kw \u001b[38;5;129;01mor\u001b[39;00m data\u001b[38;5;241m.\u001b[39mcolumns\n\u001b[0;32m    973\u001b[0m             data\u001b[38;5;241m.\u001b[39mcolumns \u001b[38;5;241m=\u001b[39m label_name\n\u001b[1;32m--> 975\u001b[0m \u001b[38;5;28;01mreturn\u001b[39;00m plot_backend\u001b[38;5;241m.\u001b[39mplot(data, kind\u001b[38;5;241m=\u001b[39mkind, \u001b[38;5;241m*\u001b[39m\u001b[38;5;241m*\u001b[39mkwargs)\n",
      "File \u001b[1;32m~\\anaconda3\\Lib\\site-packages\\pandas\\plotting\\_matplotlib\\__init__.py:71\u001b[0m, in \u001b[0;36mplot\u001b[1;34m(data, kind, **kwargs)\u001b[0m\n\u001b[0;32m     69\u001b[0m         kwargs[\u001b[38;5;124m\"\u001b[39m\u001b[38;5;124max\u001b[39m\u001b[38;5;124m\"\u001b[39m] \u001b[38;5;241m=\u001b[39m \u001b[38;5;28mgetattr\u001b[39m(ax, \u001b[38;5;124m\"\u001b[39m\u001b[38;5;124mleft_ax\u001b[39m\u001b[38;5;124m\"\u001b[39m, ax)\n\u001b[0;32m     70\u001b[0m plot_obj \u001b[38;5;241m=\u001b[39m PLOT_CLASSES[kind](data, \u001b[38;5;241m*\u001b[39m\u001b[38;5;241m*\u001b[39mkwargs)\n\u001b[1;32m---> 71\u001b[0m plot_obj\u001b[38;5;241m.\u001b[39mgenerate()\n\u001b[0;32m     72\u001b[0m plot_obj\u001b[38;5;241m.\u001b[39mdraw()\n\u001b[0;32m     73\u001b[0m \u001b[38;5;28;01mreturn\u001b[39;00m plot_obj\u001b[38;5;241m.\u001b[39mresult\n",
      "File \u001b[1;32m~\\anaconda3\\Lib\\site-packages\\pandas\\plotting\\_matplotlib\\core.py:448\u001b[0m, in \u001b[0;36mMPLPlot.generate\u001b[1;34m(self)\u001b[0m\n\u001b[0;32m    446\u001b[0m \u001b[38;5;28mself\u001b[39m\u001b[38;5;241m.\u001b[39m_compute_plot_data()\n\u001b[0;32m    447\u001b[0m \u001b[38;5;28mself\u001b[39m\u001b[38;5;241m.\u001b[39m_setup_subplots()\n\u001b[1;32m--> 448\u001b[0m \u001b[38;5;28mself\u001b[39m\u001b[38;5;241m.\u001b[39m_make_plot()\n\u001b[0;32m    449\u001b[0m \u001b[38;5;28mself\u001b[39m\u001b[38;5;241m.\u001b[39m_add_table()\n\u001b[0;32m    450\u001b[0m \u001b[38;5;28mself\u001b[39m\u001b[38;5;241m.\u001b[39m_make_legend()\n",
      "File \u001b[1;32m~\\anaconda3\\Lib\\site-packages\\pandas\\plotting\\_matplotlib\\core.py:1384\u001b[0m, in \u001b[0;36mLinePlot._make_plot\u001b[1;34m(self)\u001b[0m\n\u001b[0;32m   1381\u001b[0m label \u001b[38;5;241m=\u001b[39m \u001b[38;5;28mself\u001b[39m\u001b[38;5;241m.\u001b[39m_mark_right_label(label, index\u001b[38;5;241m=\u001b[39mi)\n\u001b[0;32m   1382\u001b[0m kwds[\u001b[38;5;124m\"\u001b[39m\u001b[38;5;124mlabel\u001b[39m\u001b[38;5;124m\"\u001b[39m] \u001b[38;5;241m=\u001b[39m label\n\u001b[1;32m-> 1384\u001b[0m newlines \u001b[38;5;241m=\u001b[39m plotf(\n\u001b[0;32m   1385\u001b[0m     ax,\n\u001b[0;32m   1386\u001b[0m     x,\n\u001b[0;32m   1387\u001b[0m     y,\n\u001b[0;32m   1388\u001b[0m     style\u001b[38;5;241m=\u001b[39mstyle,\n\u001b[0;32m   1389\u001b[0m     column_num\u001b[38;5;241m=\u001b[39mi,\n\u001b[0;32m   1390\u001b[0m     stacking_id\u001b[38;5;241m=\u001b[39mstacking_id,\n\u001b[0;32m   1391\u001b[0m     is_errorbar\u001b[38;5;241m=\u001b[39mis_errorbar,\n\u001b[0;32m   1392\u001b[0m     \u001b[38;5;241m*\u001b[39m\u001b[38;5;241m*\u001b[39mkwds,\n\u001b[0;32m   1393\u001b[0m )\n\u001b[0;32m   1394\u001b[0m \u001b[38;5;28mself\u001b[39m\u001b[38;5;241m.\u001b[39m_append_legend_handles_labels(newlines[\u001b[38;5;241m0\u001b[39m], label)\n\u001b[0;32m   1396\u001b[0m \u001b[38;5;28;01mif\u001b[39;00m \u001b[38;5;28mself\u001b[39m\u001b[38;5;241m.\u001b[39m_is_ts_plot():\n\u001b[0;32m   1397\u001b[0m     \u001b[38;5;66;03m# reset of xlim should be used for ts data\u001b[39;00m\n\u001b[0;32m   1398\u001b[0m     \u001b[38;5;66;03m# TODO: GH28021, should find a way to change view limit on xaxis\u001b[39;00m\n",
      "File \u001b[1;32m~\\anaconda3\\Lib\\site-packages\\pandas\\plotting\\_matplotlib\\core.py:1413\u001b[0m, in \u001b[0;36mLinePlot._plot\u001b[1;34m(cls, ax, x, y, style, column_num, stacking_id, **kwds)\u001b[0m\n\u001b[0;32m   1411\u001b[0m     \u001b[38;5;28mcls\u001b[39m\u001b[38;5;241m.\u001b[39m_initialize_stacker(ax, stacking_id, \u001b[38;5;28mlen\u001b[39m(y))\n\u001b[0;32m   1412\u001b[0m y_values \u001b[38;5;241m=\u001b[39m \u001b[38;5;28mcls\u001b[39m\u001b[38;5;241m.\u001b[39m_get_stacked_values(ax, stacking_id, y, kwds[\u001b[38;5;124m\"\u001b[39m\u001b[38;5;124mlabel\u001b[39m\u001b[38;5;124m\"\u001b[39m])\n\u001b[1;32m-> 1413\u001b[0m lines \u001b[38;5;241m=\u001b[39m MPLPlot\u001b[38;5;241m.\u001b[39m_plot(ax, x, y_values, style\u001b[38;5;241m=\u001b[39mstyle, \u001b[38;5;241m*\u001b[39m\u001b[38;5;241m*\u001b[39mkwds)\n\u001b[0;32m   1414\u001b[0m \u001b[38;5;28mcls\u001b[39m\u001b[38;5;241m.\u001b[39m_update_stacker(ax, stacking_id, y)\n\u001b[0;32m   1415\u001b[0m \u001b[38;5;28;01mreturn\u001b[39;00m lines\n",
      "File \u001b[1;32m~\\anaconda3\\Lib\\site-packages\\pandas\\plotting\\_matplotlib\\converter.py:96\u001b[0m, in \u001b[0;36mregister_pandas_matplotlib_converters.<locals>.wrapper\u001b[1;34m(*args, **kwargs)\u001b[0m\n\u001b[0;32m     93\u001b[0m \u001b[38;5;129m@functools\u001b[39m\u001b[38;5;241m.\u001b[39mwraps(func)\n\u001b[0;32m     94\u001b[0m \u001b[38;5;28;01mdef\u001b[39;00m \u001b[38;5;21mwrapper\u001b[39m(\u001b[38;5;241m*\u001b[39margs, \u001b[38;5;241m*\u001b[39m\u001b[38;5;241m*\u001b[39mkwargs):\n\u001b[0;32m     95\u001b[0m     \u001b[38;5;28;01mwith\u001b[39;00m pandas_converters():\n\u001b[1;32m---> 96\u001b[0m         \u001b[38;5;28;01mreturn\u001b[39;00m func(\u001b[38;5;241m*\u001b[39margs, \u001b[38;5;241m*\u001b[39m\u001b[38;5;241m*\u001b[39mkwargs)\n",
      "File \u001b[1;32m~\\anaconda3\\Lib\\site-packages\\pandas\\plotting\\_matplotlib\\core.py:885\u001b[0m, in \u001b[0;36mMPLPlot._plot\u001b[1;34m(cls, ax, x, y, style, is_errorbar, **kwds)\u001b[0m\n\u001b[0;32m    882\u001b[0m \u001b[38;5;28;01melse\u001b[39;00m:\n\u001b[0;32m    883\u001b[0m     \u001b[38;5;66;03m# prevent style kwarg from going to errorbar, where it is unsupported\u001b[39;00m\n\u001b[0;32m    884\u001b[0m     args \u001b[38;5;241m=\u001b[39m (x, y, style) \u001b[38;5;28;01mif\u001b[39;00m style \u001b[38;5;129;01mis\u001b[39;00m \u001b[38;5;129;01mnot\u001b[39;00m \u001b[38;5;28;01mNone\u001b[39;00m \u001b[38;5;28;01melse\u001b[39;00m (x, y)\n\u001b[1;32m--> 885\u001b[0m     \u001b[38;5;28;01mreturn\u001b[39;00m ax\u001b[38;5;241m.\u001b[39mplot(\u001b[38;5;241m*\u001b[39margs, \u001b[38;5;241m*\u001b[39m\u001b[38;5;241m*\u001b[39mkwds)\n",
      "File \u001b[1;32m~\\anaconda3\\Lib\\site-packages\\matplotlib\\axes\\_axes.py:1688\u001b[0m, in \u001b[0;36mAxes.plot\u001b[1;34m(self, scalex, scaley, data, *args, **kwargs)\u001b[0m\n\u001b[0;32m   1445\u001b[0m \u001b[38;5;250m\u001b[39m\u001b[38;5;124;03m\"\"\"\u001b[39;00m\n\u001b[0;32m   1446\u001b[0m \u001b[38;5;124;03mPlot y versus x as lines and/or markers.\u001b[39;00m\n\u001b[0;32m   1447\u001b[0m \n\u001b[1;32m   (...)\u001b[0m\n\u001b[0;32m   1685\u001b[0m \u001b[38;5;124;03m(``'green'``) or hex strings (``'#008000'``).\u001b[39;00m\n\u001b[0;32m   1686\u001b[0m \u001b[38;5;124;03m\"\"\"\u001b[39;00m\n\u001b[0;32m   1687\u001b[0m kwargs \u001b[38;5;241m=\u001b[39m cbook\u001b[38;5;241m.\u001b[39mnormalize_kwargs(kwargs, mlines\u001b[38;5;241m.\u001b[39mLine2D)\n\u001b[1;32m-> 1688\u001b[0m lines \u001b[38;5;241m=\u001b[39m [\u001b[38;5;241m*\u001b[39m\u001b[38;5;28mself\u001b[39m\u001b[38;5;241m.\u001b[39m_get_lines(\u001b[38;5;241m*\u001b[39margs, data\u001b[38;5;241m=\u001b[39mdata, \u001b[38;5;241m*\u001b[39m\u001b[38;5;241m*\u001b[39mkwargs)]\n\u001b[0;32m   1689\u001b[0m \u001b[38;5;28;01mfor\u001b[39;00m line \u001b[38;5;129;01min\u001b[39;00m lines:\n\u001b[0;32m   1690\u001b[0m     \u001b[38;5;28mself\u001b[39m\u001b[38;5;241m.\u001b[39madd_line(line)\n",
      "File \u001b[1;32m~\\anaconda3\\Lib\\site-packages\\matplotlib\\axes\\_base.py:311\u001b[0m, in \u001b[0;36m_process_plot_var_args.__call__\u001b[1;34m(self, data, *args, **kwargs)\u001b[0m\n\u001b[0;32m    309\u001b[0m     this \u001b[38;5;241m+\u001b[39m\u001b[38;5;241m=\u001b[39m args[\u001b[38;5;241m0\u001b[39m],\n\u001b[0;32m    310\u001b[0m     args \u001b[38;5;241m=\u001b[39m args[\u001b[38;5;241m1\u001b[39m:]\n\u001b[1;32m--> 311\u001b[0m \u001b[38;5;28;01myield from\u001b[39;00m \u001b[38;5;28mself\u001b[39m\u001b[38;5;241m.\u001b[39m_plot_args(\n\u001b[0;32m    312\u001b[0m     this, kwargs, ambiguous_fmt_datakey\u001b[38;5;241m=\u001b[39mambiguous_fmt_datakey)\n",
      "File \u001b[1;32m~\\anaconda3\\Lib\\site-packages\\matplotlib\\axes\\_base.py:544\u001b[0m, in \u001b[0;36m_process_plot_var_args._plot_args\u001b[1;34m(self, tup, kwargs, return_kwargs, ambiguous_fmt_datakey)\u001b[0m\n\u001b[0;32m    542\u001b[0m     \u001b[38;5;28;01mreturn\u001b[39;00m \u001b[38;5;28mlist\u001b[39m(result)\n\u001b[0;32m    543\u001b[0m \u001b[38;5;28;01melse\u001b[39;00m:\n\u001b[1;32m--> 544\u001b[0m     \u001b[38;5;28;01mreturn\u001b[39;00m [l[\u001b[38;5;241m0\u001b[39m] \u001b[38;5;28;01mfor\u001b[39;00m l \u001b[38;5;129;01min\u001b[39;00m result]\n",
      "File \u001b[1;32m~\\anaconda3\\Lib\\site-packages\\matplotlib\\axes\\_base.py:544\u001b[0m, in \u001b[0;36m<listcomp>\u001b[1;34m(.0)\u001b[0m\n\u001b[0;32m    542\u001b[0m     \u001b[38;5;28;01mreturn\u001b[39;00m \u001b[38;5;28mlist\u001b[39m(result)\n\u001b[0;32m    543\u001b[0m \u001b[38;5;28;01melse\u001b[39;00m:\n\u001b[1;32m--> 544\u001b[0m     \u001b[38;5;28;01mreturn\u001b[39;00m [l[\u001b[38;5;241m0\u001b[39m] \u001b[38;5;28;01mfor\u001b[39;00m l \u001b[38;5;129;01min\u001b[39;00m result]\n",
      "File \u001b[1;32m~\\anaconda3\\Lib\\site-packages\\matplotlib\\axes\\_base.py:537\u001b[0m, in \u001b[0;36m<genexpr>\u001b[1;34m(.0)\u001b[0m\n\u001b[0;32m    534\u001b[0m \u001b[38;5;28;01melse\u001b[39;00m:\n\u001b[0;32m    535\u001b[0m     labels \u001b[38;5;241m=\u001b[39m [label] \u001b[38;5;241m*\u001b[39m n_datasets\n\u001b[1;32m--> 537\u001b[0m result \u001b[38;5;241m=\u001b[39m (make_artist(x[:, j \u001b[38;5;241m%\u001b[39m ncx], y[:, j \u001b[38;5;241m%\u001b[39m ncy], kw,\n\u001b[0;32m    538\u001b[0m                       {\u001b[38;5;241m*\u001b[39m\u001b[38;5;241m*\u001b[39mkwargs, \u001b[38;5;124m'\u001b[39m\u001b[38;5;124mlabel\u001b[39m\u001b[38;5;124m'\u001b[39m: label})\n\u001b[0;32m    539\u001b[0m           \u001b[38;5;28;01mfor\u001b[39;00m j, label \u001b[38;5;129;01min\u001b[39;00m \u001b[38;5;28menumerate\u001b[39m(labels))\n\u001b[0;32m    541\u001b[0m \u001b[38;5;28;01mif\u001b[39;00m return_kwargs:\n\u001b[0;32m    542\u001b[0m     \u001b[38;5;28;01mreturn\u001b[39;00m \u001b[38;5;28mlist\u001b[39m(result)\n",
      "File \u001b[1;32m~\\anaconda3\\Lib\\site-packages\\matplotlib\\axes\\_base.py:351\u001b[0m, in \u001b[0;36m_process_plot_var_args._makeline\u001b[1;34m(self, x, y, kw, kwargs)\u001b[0m\n\u001b[0;32m    349\u001b[0m default_dict \u001b[38;5;241m=\u001b[39m \u001b[38;5;28mself\u001b[39m\u001b[38;5;241m.\u001b[39m_getdefaults(\u001b[38;5;28mset\u001b[39m(), kw)\n\u001b[0;32m    350\u001b[0m \u001b[38;5;28mself\u001b[39m\u001b[38;5;241m.\u001b[39m_setdefaults(default_dict, kw)\n\u001b[1;32m--> 351\u001b[0m seg \u001b[38;5;241m=\u001b[39m mlines\u001b[38;5;241m.\u001b[39mLine2D(x, y, \u001b[38;5;241m*\u001b[39m\u001b[38;5;241m*\u001b[39mkw)\n\u001b[0;32m    352\u001b[0m \u001b[38;5;28;01mreturn\u001b[39;00m seg, kw\n",
      "File \u001b[1;32m~\\anaconda3\\Lib\\site-packages\\matplotlib\\_api\\deprecation.py:454\u001b[0m, in \u001b[0;36mmake_keyword_only.<locals>.wrapper\u001b[1;34m(*args, **kwargs)\u001b[0m\n\u001b[0;32m    448\u001b[0m \u001b[38;5;28;01mif\u001b[39;00m \u001b[38;5;28mlen\u001b[39m(args) \u001b[38;5;241m>\u001b[39m name_idx:\n\u001b[0;32m    449\u001b[0m     warn_deprecated(\n\u001b[0;32m    450\u001b[0m         since, message\u001b[38;5;241m=\u001b[39m\u001b[38;5;124m\"\u001b[39m\u001b[38;5;124mPassing the \u001b[39m\u001b[38;5;132;01m%(name)s\u001b[39;00m\u001b[38;5;124m \u001b[39m\u001b[38;5;132;01m%(obj_type)s\u001b[39;00m\u001b[38;5;124m \u001b[39m\u001b[38;5;124m\"\u001b[39m\n\u001b[0;32m    451\u001b[0m         \u001b[38;5;124m\"\u001b[39m\u001b[38;5;124mpositionally is deprecated since Matplotlib \u001b[39m\u001b[38;5;132;01m%(since)s\u001b[39;00m\u001b[38;5;124m; the \u001b[39m\u001b[38;5;124m\"\u001b[39m\n\u001b[0;32m    452\u001b[0m         \u001b[38;5;124m\"\u001b[39m\u001b[38;5;124mparameter will become keyword-only \u001b[39m\u001b[38;5;132;01m%(removal)s\u001b[39;00m\u001b[38;5;124m.\u001b[39m\u001b[38;5;124m\"\u001b[39m,\n\u001b[0;32m    453\u001b[0m         name\u001b[38;5;241m=\u001b[39mname, obj_type\u001b[38;5;241m=\u001b[39m\u001b[38;5;124mf\u001b[39m\u001b[38;5;124m\"\u001b[39m\u001b[38;5;124mparameter of \u001b[39m\u001b[38;5;132;01m{\u001b[39;00mfunc\u001b[38;5;241m.\u001b[39m\u001b[38;5;18m__name__\u001b[39m\u001b[38;5;132;01m}\u001b[39;00m\u001b[38;5;124m()\u001b[39m\u001b[38;5;124m\"\u001b[39m)\n\u001b[1;32m--> 454\u001b[0m \u001b[38;5;28;01mreturn\u001b[39;00m func(\u001b[38;5;241m*\u001b[39margs, \u001b[38;5;241m*\u001b[39m\u001b[38;5;241m*\u001b[39mkwargs)\n",
      "File \u001b[1;32m~\\anaconda3\\Lib\\site-packages\\matplotlib\\lines.py:395\u001b[0m, in \u001b[0;36mLine2D.__init__\u001b[1;34m(self, xdata, ydata, linewidth, linestyle, color, gapcolor, marker, markersize, markeredgewidth, markeredgecolor, markerfacecolor, markerfacecoloralt, fillstyle, antialiased, dash_capstyle, solid_capstyle, dash_joinstyle, solid_joinstyle, pickradius, drawstyle, markevery, **kwargs)\u001b[0m\n\u001b[0;32m    391\u001b[0m \u001b[38;5;28mself\u001b[39m\u001b[38;5;241m.\u001b[39mset_markeredgewidth(markeredgewidth)\n\u001b[0;32m    393\u001b[0m \u001b[38;5;66;03m# update kwargs before updating data to give the caller a\u001b[39;00m\n\u001b[0;32m    394\u001b[0m \u001b[38;5;66;03m# chance to init axes (and hence unit support)\u001b[39;00m\n\u001b[1;32m--> 395\u001b[0m \u001b[38;5;28mself\u001b[39m\u001b[38;5;241m.\u001b[39m_internal_update(kwargs)\n\u001b[0;32m    396\u001b[0m \u001b[38;5;28mself\u001b[39m\u001b[38;5;241m.\u001b[39m_pickradius \u001b[38;5;241m=\u001b[39m pickradius\n\u001b[0;32m    397\u001b[0m \u001b[38;5;28mself\u001b[39m\u001b[38;5;241m.\u001b[39mind_offset \u001b[38;5;241m=\u001b[39m \u001b[38;5;241m0\u001b[39m\n",
      "File \u001b[1;32m~\\anaconda3\\Lib\\site-packages\\matplotlib\\artist.py:1223\u001b[0m, in \u001b[0;36mArtist._internal_update\u001b[1;34m(self, kwargs)\u001b[0m\n\u001b[0;32m   1216\u001b[0m \u001b[38;5;28;01mdef\u001b[39;00m \u001b[38;5;21m_internal_update\u001b[39m(\u001b[38;5;28mself\u001b[39m, kwargs):\n\u001b[0;32m   1217\u001b[0m \u001b[38;5;250m    \u001b[39m\u001b[38;5;124;03m\"\"\"\u001b[39;00m\n\u001b[0;32m   1218\u001b[0m \u001b[38;5;124;03m    Update artist properties without prenormalizing them, but generating\u001b[39;00m\n\u001b[0;32m   1219\u001b[0m \u001b[38;5;124;03m    errors as if calling `set`.\u001b[39;00m\n\u001b[0;32m   1220\u001b[0m \n\u001b[0;32m   1221\u001b[0m \u001b[38;5;124;03m    The lack of prenormalization is to maintain backcompatibility.\u001b[39;00m\n\u001b[0;32m   1222\u001b[0m \u001b[38;5;124;03m    \"\"\"\u001b[39;00m\n\u001b[1;32m-> 1223\u001b[0m     \u001b[38;5;28;01mreturn\u001b[39;00m \u001b[38;5;28mself\u001b[39m\u001b[38;5;241m.\u001b[39m_update_props(\n\u001b[0;32m   1224\u001b[0m         kwargs, \u001b[38;5;124m\"\u001b[39m\u001b[38;5;132;01m{cls.__name__}\u001b[39;00m\u001b[38;5;124m.set() got an unexpected keyword argument \u001b[39m\u001b[38;5;124m\"\u001b[39m\n\u001b[0;32m   1225\u001b[0m         \u001b[38;5;124m\"\u001b[39m\u001b[38;5;132;01m{prop_name!r}\u001b[39;00m\u001b[38;5;124m\"\u001b[39m)\n",
      "File \u001b[1;32m~\\anaconda3\\Lib\\site-packages\\matplotlib\\artist.py:1197\u001b[0m, in \u001b[0;36mArtist._update_props\u001b[1;34m(self, props, errfmt)\u001b[0m\n\u001b[0;32m   1195\u001b[0m             func \u001b[38;5;241m=\u001b[39m \u001b[38;5;28mgetattr\u001b[39m(\u001b[38;5;28mself\u001b[39m, \u001b[38;5;124mf\u001b[39m\u001b[38;5;124m\"\u001b[39m\u001b[38;5;124mset_\u001b[39m\u001b[38;5;132;01m{\u001b[39;00mk\u001b[38;5;132;01m}\u001b[39;00m\u001b[38;5;124m\"\u001b[39m, \u001b[38;5;28;01mNone\u001b[39;00m)\n\u001b[0;32m   1196\u001b[0m             \u001b[38;5;28;01mif\u001b[39;00m \u001b[38;5;129;01mnot\u001b[39;00m \u001b[38;5;28mcallable\u001b[39m(func):\n\u001b[1;32m-> 1197\u001b[0m                 \u001b[38;5;28;01mraise\u001b[39;00m \u001b[38;5;167;01mAttributeError\u001b[39;00m(\n\u001b[0;32m   1198\u001b[0m                     errfmt\u001b[38;5;241m.\u001b[39mformat(\u001b[38;5;28mcls\u001b[39m\u001b[38;5;241m=\u001b[39m\u001b[38;5;28mtype\u001b[39m(\u001b[38;5;28mself\u001b[39m), prop_name\u001b[38;5;241m=\u001b[39mk))\n\u001b[0;32m   1199\u001b[0m             ret\u001b[38;5;241m.\u001b[39mappend(func(v))\n\u001b[0;32m   1200\u001b[0m \u001b[38;5;28;01mif\u001b[39;00m ret:\n",
      "\u001b[1;31mAttributeError\u001b[0m: Line2D.set() got an unexpected keyword argument 'colors'"
     ]
    },
    {
     "data": {
      "image/png": "[encoded data removed]",
      "text/plain": [
       "<Figure size 1600x800 with 1 Axes>"
      ]
     },
     "metadata": {},
     "output_type": "display_data"
    }
   ],
   "source": [
    "# Lets compare the Gross with Genres\n",
    "\n",
    "# first group the genres and get max, min, and avg gross of the movies of that genre.)\n",
    "display(data[['Genre1','gross',]].groupby(['Genre1']).agg(['max','mean','min']).style.background_gradient(cmap = 'Wistia'))\n",
    "\n",
    "# lets plot these values using lineplot\n",
    "data[['Genre1','gross',]].groupby(['Genre1']).agg(['max','mean','min']).plot(kind = 'line', colors = ['red','black','blue'])\n",
    "plt.title('Which Genre is Most Bankable?', fontsize = 20)\n",
    "plt.xticks(np.arange(17), ['Action', 'Adventure', 'Animation', 'Biography', 'Comedy', 'Crime',\n",
    "       'Documentary', 'Drama', 'Family', 'Fantasy', 'Horror', 'Musical',\n",
    "       'Mystery', 'Romance', 'Sci-Fi', 'Thriller', 'Western'], rotation = 90, fontsize = 15)\n",
    "plt.ylabel('Gross', fontsize = 15)\n",
    "plt.xlabel(' ',)\n",
    "plt.show()\n",
    "\n",
    "print('The Most Profitable Movie from each Genre')\n",
    "display(data.loc[data.groupby(data['Genre1'])['Profit'].idxmax()][['Genre1',\n",
    "                                    'movie_title','gross']].style.background_gradient(cmap = 'copper'))"
   ]
  },
  {
   "cell_type": "code",
   "execution_count": 23,
   "id": "1e51d0ed",
   "metadata": {},
   "outputs": [
    {
     "name": "stdout",
     "output_type": "stream",
     "text": [
      "Most Profitable Years in Box Office\n"
     ]
    },
    {
     "data": {
      "text/html": [
       "<style type=\"text/css\">\n",
       "#T_d7fd8_row0_col0 {\n",
       "  background-color: #00441b;\n",
       "  color: #f1f1f1;\n",
       "}\n",
       "#T_d7fd8_row1_col0 {\n",
       "  background-color: #004c1e;\n",
       "  color: #f1f1f1;\n",
       "}\n",
       "#T_d7fd8_row2_col0 {\n",
       "  background-color: #349d53;\n",
       "  color: #f1f1f1;\n",
       "}\n",
       "#T_d7fd8_row3_col0 {\n",
       "  background-color: #4eb264;\n",
       "  color: #f1f1f1;\n",
       "}\n",
       "#T_d7fd8_row4_col0 {\n",
       "  background-color: #7fc97f;\n",
       "  color: #000000;\n",
       "}\n",
       "#T_d7fd8_row5_col0 {\n",
       "  background-color: #90d18d;\n",
       "  color: #000000;\n",
       "}\n",
       "#T_d7fd8_row6_col0 {\n",
       "  background-color: #bce4b5;\n",
       "  color: #000000;\n",
       "}\n",
       "#T_d7fd8_row7_col0 {\n",
       "  background-color: #e2f4dd;\n",
       "  color: #000000;\n",
       "}\n",
       "#T_d7fd8_row8_col0 {\n",
       "  background-color: #eff9eb;\n",
       "  color: #000000;\n",
       "}\n",
       "#T_d7fd8_row9_col0 {\n",
       "  background-color: #f7fcf5;\n",
       "  color: #000000;\n",
       "}\n",
       "</style>\n",
       "<table id=\"T_d7fd8\">\n",
       "  <thead>\n",
       "    <tr>\n",
       "      <th class=\"blank\" >&nbsp;</th>\n",
       "      <th class=\"blank level0\" >&nbsp;</th>\n",
       "      <th id=\"T_d7fd8_level0_col0\" class=\"col_heading level0 col0\" >Profit</th>\n",
       "    </tr>\n",
       "    <tr>\n",
       "      <th class=\"index_name level0\" >language</th>\n",
       "      <th class=\"index_name level1\" >title_year</th>\n",
       "      <th class=\"blank col0\" >&nbsp;</th>\n",
       "    </tr>\n",
       "  </thead>\n",
       "  <tbody>\n",
       "    <tr>\n",
       "      <th id=\"T_d7fd8_level0_row0\" class=\"row_heading level0 row0\" rowspan=\"10\">English</th>\n",
       "      <th id=\"T_d7fd8_level1_row0\" class=\"row_heading level1 row0\" >2014</th>\n",
       "      <td id=\"T_d7fd8_row0_col0\" class=\"data row0 col0\" >2729.797944</td>\n",
       "    </tr>\n",
       "    <tr>\n",
       "      <th id=\"T_d7fd8_level1_row1\" class=\"row_heading level1 row1\" >2012</th>\n",
       "      <td id=\"T_d7fd8_row1_col0\" class=\"data row1 col0\" >2701.504634</td>\n",
       "    </tr>\n",
       "    <tr>\n",
       "      <th id=\"T_d7fd8_level1_row2\" class=\"row_heading level1 row2\" >2015</th>\n",
       "      <td id=\"T_d7fd8_row2_col0\" class=\"data row2 col0\" >2364.554417</td>\n",
       "    </tr>\n",
       "    <tr>\n",
       "      <th id=\"T_d7fd8_level1_row3\" class=\"row_heading level1 row3\" >2002</th>\n",
       "      <td id=\"T_d7fd8_row3_col0\" class=\"data row3 col0\" >2268.274235</td>\n",
       "    </tr>\n",
       "    <tr>\n",
       "      <th id=\"T_d7fd8_level1_row4\" class=\"row_heading level1 row4\" >2009</th>\n",
       "      <td id=\"T_d7fd8_row4_col0\" class=\"data row4 col0\" >2133.449256</td>\n",
       "    </tr>\n",
       "    <tr>\n",
       "      <th id=\"T_d7fd8_level1_row5\" class=\"row_heading level1 row5\" >2013</th>\n",
       "      <td id=\"T_d7fd8_row5_col0\" class=\"data row5 col0\" >2080.782304</td>\n",
       "    </tr>\n",
       "    <tr>\n",
       "      <th id=\"T_d7fd8_level1_row6\" class=\"row_heading level1 row6\" >2003</th>\n",
       "      <td id=\"T_d7fd8_row6_col0\" class=\"data row6 col0\" >1924.411513</td>\n",
       "    </tr>\n",
       "    <tr>\n",
       "      <th id=\"T_d7fd8_level1_row7\" class=\"row_heading level1 row7\" >2007</th>\n",
       "      <td id=\"T_d7fd8_row7_col0\" class=\"data row7 col0\" >1754.855579</td>\n",
       "    </tr>\n",
       "    <tr>\n",
       "      <th id=\"T_d7fd8_level1_row8\" class=\"row_heading level1 row8\" >2001</th>\n",
       "      <td id=\"T_d7fd8_row8_col0\" class=\"data row8 col0\" >1666.984435</td>\n",
       "    </tr>\n",
       "    <tr>\n",
       "      <th id=\"T_d7fd8_level1_row9\" class=\"row_heading level1 row9\" >1994</th>\n",
       "      <td id=\"T_d7fd8_row9_col0\" class=\"data row9 col0\" >1600.413059</td>\n",
       "    </tr>\n",
       "  </tbody>\n",
       "</table>\n"
      ],
      "text/plain": [
       "<pandas.io.formats.style.Styler at 0x19f985566d0>"
      ]
     },
     "metadata": {},
     "output_type": "display_data"
    },
    {
     "ename": "TypeError",
     "evalue": "lineplot() takes from 0 to 1 positional arguments but 2 positional arguments (and 1 keyword-only argument) were given",
     "output_type": "error",
     "traceback": [
      "\u001b[1;31m---------------------------------------------------------------------------\u001b[0m",
      "\u001b[1;31mTypeError\u001b[0m                                 Traceback (most recent call last)",
      "Cell \u001b[1;32mIn[23], line 10\u001b[0m\n\u001b[0;32m      5\u001b[0m display(data[[\u001b[38;5;124m'\u001b[39m\u001b[38;5;124mtitle_year\u001b[39m\u001b[38;5;124m'\u001b[39m,\u001b[38;5;124m'\u001b[39m\u001b[38;5;124mlanguage\u001b[39m\u001b[38;5;124m'\u001b[39m,\u001b[38;5;124m'\u001b[39m\u001b[38;5;124mProfit\u001b[39m\u001b[38;5;124m'\u001b[39m]]\u001b[38;5;241m.\u001b[39mgroupby([\u001b[38;5;124m'\u001b[39m\u001b[38;5;124mlanguage\u001b[39m\u001b[38;5;124m'\u001b[39m,\n\u001b[0;32m      6\u001b[0m                                     \u001b[38;5;124m'\u001b[39m\u001b[38;5;124mtitle_year\u001b[39m\u001b[38;5;124m'\u001b[39m])\u001b[38;5;241m.\u001b[39magg(\u001b[38;5;124m'\u001b[39m\u001b[38;5;124msum\u001b[39m\u001b[38;5;124m'\u001b[39m)\u001b[38;5;241m.\u001b[39msort_values(by \u001b[38;5;241m=\u001b[39m \u001b[38;5;124m'\u001b[39m\u001b[38;5;124mProfit\u001b[39m\u001b[38;5;124m'\u001b[39m,\n\u001b[0;32m      7\u001b[0m                                      ascending \u001b[38;5;241m=\u001b[39m \u001b[38;5;28;01mFalse\u001b[39;00m)\u001b[38;5;241m.\u001b[39mhead(\u001b[38;5;241m10\u001b[39m)\u001b[38;5;241m.\u001b[39mstyle\u001b[38;5;241m.\u001b[39mbackground_gradient(cmap \u001b[38;5;241m=\u001b[39m \u001b[38;5;124m'\u001b[39m\u001b[38;5;124mGreens\u001b[39m\u001b[38;5;124m'\u001b[39m))\n\u001b[0;32m      9\u001b[0m \u001b[38;5;66;03m# lets plot them\u001b[39;00m\n\u001b[1;32m---> 10\u001b[0m sns\u001b[38;5;241m.\u001b[39mlineplot(data[\u001b[38;5;124m'\u001b[39m\u001b[38;5;124mtitle_year\u001b[39m\u001b[38;5;124m'\u001b[39m], data[\u001b[38;5;124m'\u001b[39m\u001b[38;5;124mProfit\u001b[39m\u001b[38;5;124m'\u001b[39m], hue \u001b[38;5;241m=\u001b[39m data[\u001b[38;5;124m'\u001b[39m\u001b[38;5;124mlanguage\u001b[39m\u001b[38;5;124m'\u001b[39m])\n\u001b[0;32m     11\u001b[0m plt\u001b[38;5;241m.\u001b[39mtitle(\u001b[38;5;124m'\u001b[39m\u001b[38;5;124mTime Series for Box Office Profit for English vs Foreign Movies\u001b[39m\u001b[38;5;124m'\u001b[39m, fontsize \u001b[38;5;241m=\u001b[39m \u001b[38;5;241m20\u001b[39m)\n\u001b[0;32m     12\u001b[0m plt\u001b[38;5;241m.\u001b[39mxticks(fontsize \u001b[38;5;241m=\u001b[39m \u001b[38;5;241m18\u001b[39m)\n",
      "\u001b[1;31mTypeError\u001b[0m: lineplot() takes from 0 to 1 positional arguments but 2 positional arguments (and 1 keyword-only argument) were given"
     ]
    }
   ],
   "source": [
    "# lets convert year into integer\n",
    "data['title_year'] = data['title_year'].astype('int')\n",
    "\n",
    "print('Most Profitable Years in Box Office')\n",
    "display(data[['title_year','language','Profit']].groupby(['language',\n",
    "                                    'title_year']).agg('sum').sort_values(by = 'Profit',\n",
    "                                     ascending = False).head(10).style.background_gradient(cmap = 'Greens'))\n",
    "\n",
    "# lets plot them\n",
    "sns.lineplot(data['title_year'], data['Profit'], hue = data['language'])\n",
    "plt.title('Time Series for Box Office Profit for English vs Foreign Movies', fontsize = 20)\n",
    "plt.xticks(fontsize = 18)\n",
    "plt.xlabel(' ')\n",
    "plt.show()\n",
    "\n",
    "print(\"Movies that Made Huge Losses\")\n",
    "display(data[data['Profit'] < -2000][['movie_title',\n",
    "                        'language','Profit']].style.background_gradient(cmap = 'Reds'))"
   ]
  },
  {
   "cell_type": "code",
   "execution_count": 24,
   "id": "781e3ded",
   "metadata": {},
   "outputs": [
    {
     "data": {
      "text/html": [
       "<style type=\"text/css\">\n",
       "#T_52def_row0_col2, #T_52def_row0_col3 {\n",
       "  background-color: #ffff00;\n",
       "  color: #000000;\n",
       "}\n",
       "#T_52def_row1_col2 {\n",
       "  background-color: #ffa35c;\n",
       "  color: #000000;\n",
       "}\n",
       "#T_52def_row1_col3 {\n",
       "  background-color: #ffd22d;\n",
       "  color: #000000;\n",
       "}\n",
       "#T_52def_row2_col2 {\n",
       "  background-color: #ffa857;\n",
       "  color: #000000;\n",
       "}\n",
       "#T_52def_row2_col3 {\n",
       "  background-color: #ff758a;\n",
       "  color: #f1f1f1;\n",
       "}\n",
       "#T_52def_row3_col2, #T_52def_row4_col3 {\n",
       "  background-color: #ff00ff;\n",
       "  color: #f1f1f1;\n",
       "}\n",
       "#T_52def_row3_col3 {\n",
       "  background-color: #ff639c;\n",
       "  color: #f1f1f1;\n",
       "}\n",
       "#T_52def_row4_col2 {\n",
       "  background-color: #ff8a75;\n",
       "  color: #f1f1f1;\n",
       "}\n",
       "</style>\n",
       "<table id=\"T_52def\">\n",
       "  <thead>\n",
       "    <tr>\n",
       "      <th class=\"blank level0\" >&nbsp;</th>\n",
       "      <th id=\"T_52def_level0_col0\" class=\"col_heading level0 col0\" >movie_title</th>\n",
       "      <th id=\"T_52def_level0_col1\" class=\"col_heading level0 col1\" >duration</th>\n",
       "      <th id=\"T_52def_level0_col2\" class=\"col_heading level0 col2\" >gross</th>\n",
       "      <th id=\"T_52def_level0_col3\" class=\"col_heading level0 col3\" >Profit</th>\n",
       "    </tr>\n",
       "  </thead>\n",
       "  <tbody>\n",
       "    <tr>\n",
       "      <th id=\"T_52def_level0_row0\" class=\"row_heading level0 row0\" >0</th>\n",
       "      <td id=\"T_52def_row0_col0\" class=\"data row0 col0\" >Avatar </td>\n",
       "      <td id=\"T_52def_row0_col1\" class=\"data row0 col1\" >Long</td>\n",
       "      <td id=\"T_52def_row0_col2\" class=\"data row0 col2\" >760.505847</td>\n",
       "      <td id=\"T_52def_row0_col3\" class=\"data row0 col3\" >523.505847</td>\n",
       "    </tr>\n",
       "    <tr>\n",
       "      <th id=\"T_52def_level0_row1\" class=\"row_heading level0 row1\" >29</th>\n",
       "      <td id=\"T_52def_row1_col0\" class=\"data row1 col0\" >Jurassic World </td>\n",
       "      <td id=\"T_52def_row1_col1\" class=\"data row1 col1\" >Long</td>\n",
       "      <td id=\"T_52def_row1_col2\" class=\"data row1 col2\" >652.177271</td>\n",
       "      <td id=\"T_52def_row1_col3\" class=\"data row1 col3\" >502.177271</td>\n",
       "    </tr>\n",
       "    <tr>\n",
       "      <th id=\"T_52def_level0_row2\" class=\"row_heading level0 row2\" >26</th>\n",
       "      <td id=\"T_52def_row2_col0\" class=\"data row2 col0\" >Titanic </td>\n",
       "      <td id=\"T_52def_row2_col1\" class=\"data row2 col1\" >Long</td>\n",
       "      <td id=\"T_52def_row2_col2\" class=\"data row2 col2\" >658.672302</td>\n",
       "      <td id=\"T_52def_row2_col3\" class=\"data row2 col3\" >458.672302</td>\n",
       "    </tr>\n",
       "    <tr>\n",
       "      <th id=\"T_52def_level0_row3\" class=\"row_heading level0 row3\" >3024</th>\n",
       "      <td id=\"T_52def_row3_col0\" class=\"data row3 col0\" >Star Wars: Episode IV - A New Hope </td>\n",
       "      <td id=\"T_52def_row3_col1\" class=\"data row3 col1\" >Long</td>\n",
       "      <td id=\"T_52def_row3_col2\" class=\"data row3 col2\" >460.935665</td>\n",
       "      <td id=\"T_52def_row3_col3\" class=\"data row3 col3\" >449.935665</td>\n",
       "    </tr>\n",
       "    <tr>\n",
       "      <th id=\"T_52def_level0_row4\" class=\"row_heading level0 row4\" >17</th>\n",
       "      <td id=\"T_52def_row4_col0\" class=\"data row4 col0\" >The Avengers </td>\n",
       "      <td id=\"T_52def_row4_col1\" class=\"data row4 col1\" >Long</td>\n",
       "      <td id=\"T_52def_row4_col2\" class=\"data row4 col2\" >623.279547</td>\n",
       "      <td id=\"T_52def_row4_col3\" class=\"data row4 col3\" >403.279547</td>\n",
       "    </tr>\n",
       "  </tbody>\n",
       "</table>\n"
      ],
      "text/plain": [
       "<pandas.io.formats.style.Styler at 0x19f9d5181d0>"
      ]
     },
     "metadata": {},
     "output_type": "display_data"
    },
    {
     "data": {
      "text/html": [
       "<style type=\"text/css\">\n",
       "#T_f8522_row0_col2, #T_f8522_row0_col3 {\n",
       "  background-color: #ffff00;\n",
       "  color: #000000;\n",
       "}\n",
       "#T_f8522_row1_col2 {\n",
       "  background-color: #ffd42b;\n",
       "  color: #000000;\n",
       "}\n",
       "#T_f8522_row1_col3 {\n",
       "  background-color: #ffa956;\n",
       "  color: #000000;\n",
       "}\n",
       "#T_f8522_row2_col2, #T_f8522_row4_col3 {\n",
       "  background-color: #ff00ff;\n",
       "  color: #f1f1f1;\n",
       "}\n",
       "#T_f8522_row2_col3 {\n",
       "  background-color: #ff21de;\n",
       "  color: #f1f1f1;\n",
       "}\n",
       "#T_f8522_row3_col2 {\n",
       "  background-color: #ff11ee;\n",
       "  color: #f1f1f1;\n",
       "}\n",
       "#T_f8522_row3_col3 {\n",
       "  background-color: #ff09f6;\n",
       "  color: #f1f1f1;\n",
       "}\n",
       "#T_f8522_row4_col2 {\n",
       "  background-color: #ff3fc0;\n",
       "  color: #f1f1f1;\n",
       "}\n",
       "</style>\n",
       "<table id=\"T_f8522\">\n",
       "  <thead>\n",
       "    <tr>\n",
       "      <th class=\"blank level0\" >&nbsp;</th>\n",
       "      <th id=\"T_f8522_level0_col0\" class=\"col_heading level0 col0\" >movie_title</th>\n",
       "      <th id=\"T_f8522_level0_col1\" class=\"col_heading level0 col1\" >duration</th>\n",
       "      <th id=\"T_f8522_level0_col2\" class=\"col_heading level0 col2\" >gross</th>\n",
       "      <th id=\"T_f8522_level0_col3\" class=\"col_heading level0 col3\" >Profit</th>\n",
       "    </tr>\n",
       "  </thead>\n",
       "  <tbody>\n",
       "    <tr>\n",
       "      <th id=\"T_f8522_level0_row0\" class=\"row_heading level0 row0\" >3080</th>\n",
       "      <td id=\"T_f8522_row0_col0\" class=\"data row0 col0\" >E.T. the Extra-Terrestrial </td>\n",
       "      <td id=\"T_f8522_row0_col1\" class=\"data row0 col1\" >Short</td>\n",
       "      <td id=\"T_f8522_row0_col2\" class=\"data row0 col2\" >434.949459</td>\n",
       "      <td id=\"T_f8522_row0_col3\" class=\"data row0 col3\" >424.449459</td>\n",
       "    </tr>\n",
       "    <tr>\n",
       "      <th id=\"T_f8522_level0_row1\" class=\"row_heading level0 row1\" >509</th>\n",
       "      <td id=\"T_f8522_row1_col0\" class=\"data row1 col0\" >The Lion King </td>\n",
       "      <td id=\"T_f8522_row1_col1\" class=\"data row1 col1\" >Short</td>\n",
       "      <td id=\"T_f8522_row1_col2\" class=\"data row1 col2\" >422.783777</td>\n",
       "      <td id=\"T_f8522_row1_col3\" class=\"data row1 col3\" >377.783777</td>\n",
       "    </tr>\n",
       "    <tr>\n",
       "      <th id=\"T_f8522_level0_row2\" class=\"row_heading level0 row2\" >812</th>\n",
       "      <td id=\"T_f8522_row2_col0\" class=\"data row2 col0\" >Deadpool </td>\n",
       "      <td id=\"T_f8522_row2_col1\" class=\"data row2 col1\" >Short</td>\n",
       "      <td id=\"T_f8522_row2_col2\" class=\"data row2 col2\" >363.024263</td>\n",
       "      <td id=\"T_f8522_row2_col3\" class=\"data row2 col3\" >305.024263</td>\n",
       "    </tr>\n",
       "    <tr>\n",
       "      <th id=\"T_f8522_level0_row3\" class=\"row_heading level0 row3\" >521</th>\n",
       "      <td id=\"T_f8522_row3_col0\" class=\"data row3 col0\" >Despicable Me 2 </td>\n",
       "      <td id=\"T_f8522_row3_col1\" class=\"data row3 col1\" >Short</td>\n",
       "      <td id=\"T_f8522_row3_col2\" class=\"data row3 col2\" >368.049635</td>\n",
       "      <td id=\"T_f8522_row3_col3\" class=\"data row3 col3\" >292.049635</td>\n",
       "    </tr>\n",
       "    <tr>\n",
       "      <th id=\"T_f8522_level0_row4\" class=\"row_heading level0 row4\" >338</th>\n",
       "      <td id=\"T_f8522_row4_col0\" class=\"data row4 col0\" >Finding Nemo </td>\n",
       "      <td id=\"T_f8522_row4_col1\" class=\"data row4 col1\" >Short</td>\n",
       "      <td id=\"T_f8522_row4_col2\" class=\"data row4 col2\" >380.838870</td>\n",
       "      <td id=\"T_f8522_row4_col3\" class=\"data row4 col3\" >286.838870</td>\n",
       "    </tr>\n",
       "  </tbody>\n",
       "</table>\n"
      ],
      "text/plain": [
       "<pandas.io.formats.style.Styler at 0x19f9d6af650>"
      ]
     },
     "metadata": {},
     "output_type": "display_data"
    },
    {
     "ename": "TypeError",
     "evalue": "barplot() takes from 0 to 1 positional arguments but 2 positional arguments (and 2 keyword-only arguments) were given",
     "output_type": "error",
     "traceback": [
      "\u001b[1;31m---------------------------------------------------------------------------\u001b[0m",
      "\u001b[1;31mTypeError\u001b[0m                                 Traceback (most recent call last)",
      "Cell \u001b[1;32mIn[24], line 7\u001b[0m\n\u001b[0;32m      1\u001b[0m display(data[data[\u001b[38;5;124m'\u001b[39m\u001b[38;5;124mduration\u001b[39m\u001b[38;5;124m'\u001b[39m] \u001b[38;5;241m==\u001b[39m \u001b[38;5;124m'\u001b[39m\u001b[38;5;124mLong\u001b[39m\u001b[38;5;124m'\u001b[39m][[\u001b[38;5;124m'\u001b[39m\u001b[38;5;124mmovie_title\u001b[39m\u001b[38;5;124m'\u001b[39m, \u001b[38;5;124m'\u001b[39m\u001b[38;5;124mduration\u001b[39m\u001b[38;5;124m'\u001b[39m, \u001b[38;5;124m'\u001b[39m\u001b[38;5;124mgross\u001b[39m\u001b[38;5;124m'\u001b[39m,\n\u001b[0;32m      2\u001b[0m                     \u001b[38;5;124m'\u001b[39m\u001b[38;5;124mProfit\u001b[39m\u001b[38;5;124m'\u001b[39m]]\u001b[38;5;241m.\u001b[39msort_values(by \u001b[38;5;241m=\u001b[39m \u001b[38;5;124m'\u001b[39m\u001b[38;5;124mProfit\u001b[39m\u001b[38;5;124m'\u001b[39m,ascending \u001b[38;5;241m=\u001b[39m \u001b[38;5;28;01mFalse\u001b[39;00m)\u001b[38;5;241m.\u001b[39mhead(\u001b[38;5;241m5\u001b[39m)\u001b[38;5;241m.\u001b[39mstyle\u001b[38;5;241m.\u001b[39mbackground_gradient(cmap \u001b[38;5;241m=\u001b[39m \u001b[38;5;124m'\u001b[39m\u001b[38;5;124mspring\u001b[39m\u001b[38;5;124m'\u001b[39m))\n\u001b[0;32m      4\u001b[0m display(data[data[\u001b[38;5;124m'\u001b[39m\u001b[38;5;124mduration\u001b[39m\u001b[38;5;124m'\u001b[39m] \u001b[38;5;241m==\u001b[39m \u001b[38;5;124m'\u001b[39m\u001b[38;5;124mShort\u001b[39m\u001b[38;5;124m'\u001b[39m][[\u001b[38;5;124m'\u001b[39m\u001b[38;5;124mmovie_title\u001b[39m\u001b[38;5;124m'\u001b[39m, \u001b[38;5;124m'\u001b[39m\u001b[38;5;124mduration\u001b[39m\u001b[38;5;124m'\u001b[39m, \u001b[38;5;124m'\u001b[39m\u001b[38;5;124mgross\u001b[39m\u001b[38;5;124m'\u001b[39m,\n\u001b[0;32m      5\u001b[0m                     \u001b[38;5;124m'\u001b[39m\u001b[38;5;124mProfit\u001b[39m\u001b[38;5;124m'\u001b[39m]]\u001b[38;5;241m.\u001b[39msort_values(by \u001b[38;5;241m=\u001b[39m \u001b[38;5;124m'\u001b[39m\u001b[38;5;124mProfit\u001b[39m\u001b[38;5;124m'\u001b[39m,ascending \u001b[38;5;241m=\u001b[39m \u001b[38;5;28;01mFalse\u001b[39;00m)\u001b[38;5;241m.\u001b[39mhead(\u001b[38;5;241m5\u001b[39m)\u001b[38;5;241m.\u001b[39mstyle\u001b[38;5;241m.\u001b[39mbackground_gradient(cmap \u001b[38;5;241m=\u001b[39m \u001b[38;5;124m'\u001b[39m\u001b[38;5;124mspring\u001b[39m\u001b[38;5;124m'\u001b[39m))\n\u001b[1;32m----> 7\u001b[0m sns\u001b[38;5;241m.\u001b[39mbarplot(data[\u001b[38;5;124m'\u001b[39m\u001b[38;5;124mduration\u001b[39m\u001b[38;5;124m'\u001b[39m], data[\u001b[38;5;124m'\u001b[39m\u001b[38;5;124mgross\u001b[39m\u001b[38;5;124m'\u001b[39m], hue \u001b[38;5;241m=\u001b[39m data[\u001b[38;5;124m'\u001b[39m\u001b[38;5;124mlanguage\u001b[39m\u001b[38;5;124m'\u001b[39m], palette \u001b[38;5;241m=\u001b[39m \u001b[38;5;124m'\u001b[39m\u001b[38;5;124mspring\u001b[39m\u001b[38;5;124m'\u001b[39m)\n\u001b[0;32m      8\u001b[0m plt\u001b[38;5;241m.\u001b[39mtitle(\u001b[38;5;124m'\u001b[39m\u001b[38;5;124mGross Comparison\u001b[39m\u001b[38;5;124m'\u001b[39m)\n",
      "\u001b[1;31mTypeError\u001b[0m: barplot() takes from 0 to 1 positional arguments but 2 positional arguments (and 2 keyword-only arguments) were given"
     ]
    }
   ],
   "source": [
    "display(data[data['duration'] == 'Long'][['movie_title', 'duration', 'gross',\n",
    "                    'Profit']].sort_values(by = 'Profit',ascending = False).head(5).style.background_gradient(cmap = 'spring'))\n",
    "\n",
    "display(data[data['duration'] == 'Short'][['movie_title', 'duration', 'gross',\n",
    "                    'Profit']].sort_values(by = 'Profit',ascending = False).head(5).style.background_gradient(cmap = 'spring'))\n",
    "\n",
    "sns.barplot(data['duration'], data['gross'], hue = data['language'], palette = 'spring')\n",
    "plt.title('Gross Comparison')"
   ]
  },
  {
   "cell_type": "code",
   "execution_count": 25,
   "id": "011a9184",
   "metadata": {},
   "outputs": [
    {
     "name": "stdout",
     "output_type": "stream",
     "text": [
      "Average IMDB Score for Long Duration Movies is 7.06\n",
      "Average IMDB Score for Short Duration Movies is 6.28\n",
      "\n",
      "Highest Rated Long Duration Movie\n",
      "                     movie_title  imdb_score\n",
      "1937  The Shawshank Redemption          9.3\n",
      "\n",
      "Highest Rated Short Duration Movie\n",
      "               movie_title  imdb_score\n",
      "3592  The Usual Suspects          8.6\n"
     ]
    },
    {
     "ename": "TypeError",
     "evalue": "boxplot() takes from 0 to 1 positional arguments but 2 positional arguments (and 1 keyword-only argument) were given",
     "output_type": "error",
     "traceback": [
      "\u001b[1;31m---------------------------------------------------------------------------\u001b[0m",
      "\u001b[1;31mTypeError\u001b[0m                                 Traceback (most recent call last)",
      "Cell \u001b[1;32mIn[25], line 9\u001b[0m\n\u001b[0;32m      4\u001b[0m \u001b[38;5;28mprint\u001b[39m(\u001b[38;5;124m\"\u001b[39m\u001b[38;5;130;01m\\n\u001b[39;00m\u001b[38;5;124mHighest Rated Long Duration Movie\u001b[39m\u001b[38;5;130;01m\\n\u001b[39;00m\u001b[38;5;124m\"\u001b[39m, \n\u001b[0;32m      5\u001b[0m     data[data[\u001b[38;5;124m'\u001b[39m\u001b[38;5;124mduration\u001b[39m\u001b[38;5;124m'\u001b[39m] \u001b[38;5;241m==\u001b[39m \u001b[38;5;124m'\u001b[39m\u001b[38;5;124mLong\u001b[39m\u001b[38;5;124m'\u001b[39m][[\u001b[38;5;124m'\u001b[39m\u001b[38;5;124mmovie_title\u001b[39m\u001b[38;5;124m'\u001b[39m,\u001b[38;5;124m'\u001b[39m\u001b[38;5;124mimdb_score\u001b[39m\u001b[38;5;124m'\u001b[39m]]\u001b[38;5;241m.\u001b[39msort_values(by \u001b[38;5;241m=\u001b[39m \u001b[38;5;124m'\u001b[39m\u001b[38;5;124mimdb_score\u001b[39m\u001b[38;5;124m'\u001b[39m, ascending \u001b[38;5;241m=\u001b[39m \u001b[38;5;28;01mFalse\u001b[39;00m)\u001b[38;5;241m.\u001b[39mhead(\u001b[38;5;241m1\u001b[39m))\n\u001b[0;32m      6\u001b[0m \u001b[38;5;28mprint\u001b[39m(\u001b[38;5;124m\"\u001b[39m\u001b[38;5;130;01m\\n\u001b[39;00m\u001b[38;5;124mHighest Rated Short Duration Movie\u001b[39m\u001b[38;5;130;01m\\n\u001b[39;00m\u001b[38;5;124m\"\u001b[39m, \n\u001b[0;32m      7\u001b[0m     data[data[\u001b[38;5;124m'\u001b[39m\u001b[38;5;124mduration\u001b[39m\u001b[38;5;124m'\u001b[39m] \u001b[38;5;241m==\u001b[39m \u001b[38;5;124m'\u001b[39m\u001b[38;5;124mShort\u001b[39m\u001b[38;5;124m'\u001b[39m][[\u001b[38;5;124m'\u001b[39m\u001b[38;5;124mmovie_title\u001b[39m\u001b[38;5;124m'\u001b[39m,\u001b[38;5;124m'\u001b[39m\u001b[38;5;124mimdb_score\u001b[39m\u001b[38;5;124m'\u001b[39m]]\u001b[38;5;241m.\u001b[39msort_values(by \u001b[38;5;241m=\u001b[39m \u001b[38;5;124m'\u001b[39m\u001b[38;5;124mimdb_score\u001b[39m\u001b[38;5;124m'\u001b[39m, ascending \u001b[38;5;241m=\u001b[39m \u001b[38;5;28;01mFalse\u001b[39;00m)\u001b[38;5;241m.\u001b[39mhead(\u001b[38;5;241m1\u001b[39m))\n\u001b[1;32m----> 9\u001b[0m sns\u001b[38;5;241m.\u001b[39mboxplot(data[\u001b[38;5;124m'\u001b[39m\u001b[38;5;124mimdb_score\u001b[39m\u001b[38;5;124m'\u001b[39m], data[\u001b[38;5;124m'\u001b[39m\u001b[38;5;124mduration\u001b[39m\u001b[38;5;124m'\u001b[39m], palette \u001b[38;5;241m=\u001b[39m \u001b[38;5;124m'\u001b[39m\u001b[38;5;124mcopper\u001b[39m\u001b[38;5;124m'\u001b[39m)\n\u001b[0;32m     10\u001b[0m plt\u001b[38;5;241m.\u001b[39mtitle(\u001b[38;5;124m'\u001b[39m\u001b[38;5;124mIMDB Ratings vs Gross\u001b[39m\u001b[38;5;124m'\u001b[39m, fontsize \u001b[38;5;241m=\u001b[39m \u001b[38;5;241m20\u001b[39m)\n\u001b[0;32m     11\u001b[0m plt\u001b[38;5;241m.\u001b[39mxticks(rotation \u001b[38;5;241m=\u001b[39m \u001b[38;5;241m90\u001b[39m)\n",
      "\u001b[1;31mTypeError\u001b[0m: boxplot() takes from 0 to 1 positional arguments but 2 positional arguments (and 1 keyword-only argument) were given"
     ]
    }
   ],
   "source": [
    "print(\"Average IMDB Score for Long Duration Movies is {0:.2f}\".format(data[data['duration'] == 'Long']['imdb_score'].mean()))\n",
    "print(\"Average IMDB Score for Short Duration Movies is {0:.2f}\".format(data[data['duration'] == 'Short']['imdb_score'].mean()))\n",
    "\n",
    "print(\"\\nHighest Rated Long Duration Movie\\n\", \n",
    "    data[data['duration'] == 'Long'][['movie_title','imdb_score']].sort_values(by = 'imdb_score', ascending = False).head(1))\n",
    "print(\"\\nHighest Rated Short Duration Movie\\n\", \n",
    "    data[data['duration'] == 'Short'][['movie_title','imdb_score']].sort_values(by = 'imdb_score', ascending = False).head(1))\n",
    "\n",
    "sns.boxplot(data['imdb_score'], data['duration'], palette = 'copper')\n",
    "plt.title('IMDB Ratings vs Gross', fontsize = 20)\n",
    "plt.xticks(rotation = 90)\n",
    "plt.show()"
   ]
  },
  {
   "cell_type": "code",
   "execution_count": 26,
   "id": "71de4851",
   "metadata": {},
   "outputs": [],
   "source": [
    "def query_actors(x):\n",
    "    a = data[data['actor_1_name'] == x]\n",
    "    b = data[data['actor_2_name'] == x]\n",
    "    c = data[data['actor_3_name'] == x]\n",
    "    x = a.append(b)\n",
    "    y = x.append(c)\n",
    "    \n",
    "    y = y[['movie_title',\n",
    "       'budget',\n",
    "       'gross',\n",
    "       'title_year',\n",
    "       'genres',\n",
    "       'language',\n",
    "       'imdb_score',\n",
    "        ]]\n",
    "    return y"
   ]
  },
  {
   "cell_type": "code",
   "execution_count": 27,
   "id": "4be4f7fa",
   "metadata": {},
   "outputs": [
    {
     "ename": "AttributeError",
     "evalue": "'DataFrame' object has no attribute 'append'",
     "output_type": "error",
     "traceback": [
      "\u001b[1;31m---------------------------------------------------------------------------\u001b[0m",
      "\u001b[1;31mAttributeError\u001b[0m                            Traceback (most recent call last)",
      "\u001b[1;32m~\\AppData\\Local\\Temp\\ipykernel_32200\\687906105.py\u001b[0m in \u001b[0;36m?\u001b[1;34m()\u001b[0m\n\u001b[1;32m----> 1\u001b[1;33m \u001b[0mquery_actors\u001b[0m\u001b[1;33m(\u001b[0m\u001b[1;34m'Meryl Streep'\u001b[0m\u001b[1;33m)\u001b[0m\u001b[1;33m\u001b[0m\u001b[1;33m\u001b[0m\u001b[0m\n\u001b[0m",
      "\u001b[1;32m~\\AppData\\Local\\Temp\\ipykernel_32200\\1437628674.py\u001b[0m in \u001b[0;36m?\u001b[1;34m(x)\u001b[0m\n\u001b[0;32m      1\u001b[0m \u001b[1;32mdef\u001b[0m \u001b[0mquery_actors\u001b[0m\u001b[1;33m(\u001b[0m\u001b[0mx\u001b[0m\u001b[1;33m)\u001b[0m\u001b[1;33m:\u001b[0m\u001b[1;33m\u001b[0m\u001b[1;33m\u001b[0m\u001b[0m\n\u001b[0;32m      2\u001b[0m     \u001b[0ma\u001b[0m \u001b[1;33m=\u001b[0m \u001b[0mdata\u001b[0m\u001b[1;33m[\u001b[0m\u001b[0mdata\u001b[0m\u001b[1;33m[\u001b[0m\u001b[1;34m'actor_1_name'\u001b[0m\u001b[1;33m]\u001b[0m \u001b[1;33m==\u001b[0m \u001b[0mx\u001b[0m\u001b[1;33m]\u001b[0m\u001b[1;33m\u001b[0m\u001b[1;33m\u001b[0m\u001b[0m\n\u001b[0;32m      3\u001b[0m     \u001b[0mb\u001b[0m \u001b[1;33m=\u001b[0m \u001b[0mdata\u001b[0m\u001b[1;33m[\u001b[0m\u001b[0mdata\u001b[0m\u001b[1;33m[\u001b[0m\u001b[1;34m'actor_2_name'\u001b[0m\u001b[1;33m]\u001b[0m \u001b[1;33m==\u001b[0m \u001b[0mx\u001b[0m\u001b[1;33m]\u001b[0m\u001b[1;33m\u001b[0m\u001b[1;33m\u001b[0m\u001b[0m\n\u001b[0;32m      4\u001b[0m     \u001b[0mc\u001b[0m \u001b[1;33m=\u001b[0m \u001b[0mdata\u001b[0m\u001b[1;33m[\u001b[0m\u001b[0mdata\u001b[0m\u001b[1;33m[\u001b[0m\u001b[1;34m'actor_3_name'\u001b[0m\u001b[1;33m]\u001b[0m \u001b[1;33m==\u001b[0m \u001b[0mx\u001b[0m\u001b[1;33m]\u001b[0m\u001b[1;33m\u001b[0m\u001b[1;33m\u001b[0m\u001b[0m\n\u001b[1;32m----> 5\u001b[1;33m     \u001b[0mx\u001b[0m \u001b[1;33m=\u001b[0m \u001b[0ma\u001b[0m\u001b[1;33m.\u001b[0m\u001b[0mappend\u001b[0m\u001b[1;33m(\u001b[0m\u001b[0mb\u001b[0m\u001b[1;33m)\u001b[0m\u001b[1;33m\u001b[0m\u001b[1;33m\u001b[0m\u001b[0m\n\u001b[0m\u001b[0;32m      6\u001b[0m     \u001b[0my\u001b[0m \u001b[1;33m=\u001b[0m \u001b[0mx\u001b[0m\u001b[1;33m.\u001b[0m\u001b[0mappend\u001b[0m\u001b[1;33m(\u001b[0m\u001b[0mc\u001b[0m\u001b[1;33m)\u001b[0m\u001b[1;33m\u001b[0m\u001b[1;33m\u001b[0m\u001b[0m\n\u001b[0;32m      7\u001b[0m \u001b[1;33m\u001b[0m\u001b[0m\n\u001b[0;32m      8\u001b[0m     y = y[['movie_title',\n",
      "\u001b[1;32m~\\anaconda3\\Lib\\site-packages\\pandas\\core\\generic.py\u001b[0m in \u001b[0;36m?\u001b[1;34m(self, name)\u001b[0m\n\u001b[0;32m   5985\u001b[0m             \u001b[1;32mand\u001b[0m \u001b[0mname\u001b[0m \u001b[1;32mnot\u001b[0m \u001b[1;32min\u001b[0m \u001b[0mself\u001b[0m\u001b[1;33m.\u001b[0m\u001b[0m_accessors\u001b[0m\u001b[1;33m\u001b[0m\u001b[1;33m\u001b[0m\u001b[0m\n\u001b[0;32m   5986\u001b[0m             \u001b[1;32mand\u001b[0m \u001b[0mself\u001b[0m\u001b[1;33m.\u001b[0m\u001b[0m_info_axis\u001b[0m\u001b[1;33m.\u001b[0m\u001b[0m_can_hold_identifiers_and_holds_name\u001b[0m\u001b[1;33m(\u001b[0m\u001b[0mname\u001b[0m\u001b[1;33m)\u001b[0m\u001b[1;33m\u001b[0m\u001b[1;33m\u001b[0m\u001b[0m\n\u001b[0;32m   5987\u001b[0m         ):\n\u001b[0;32m   5988\u001b[0m             \u001b[1;32mreturn\u001b[0m \u001b[0mself\u001b[0m\u001b[1;33m[\u001b[0m\u001b[0mname\u001b[0m\u001b[1;33m]\u001b[0m\u001b[1;33m\u001b[0m\u001b[1;33m\u001b[0m\u001b[0m\n\u001b[1;32m-> 5989\u001b[1;33m         \u001b[1;32mreturn\u001b[0m \u001b[0mobject\u001b[0m\u001b[1;33m.\u001b[0m\u001b[0m__getattribute__\u001b[0m\u001b[1;33m(\u001b[0m\u001b[0mself\u001b[0m\u001b[1;33m,\u001b[0m \u001b[0mname\u001b[0m\u001b[1;33m)\u001b[0m\u001b[1;33m\u001b[0m\u001b[1;33m\u001b[0m\u001b[0m\n\u001b[0m",
      "\u001b[1;31mAttributeError\u001b[0m: 'DataFrame' object has no attribute 'append'"
     ]
    }
   ],
   "source": [
    "query_actors('Meryl Streep')"
   ]
  },
  {
   "cell_type": "code",
   "execution_count": 28,
   "id": "55960856",
   "metadata": {},
   "outputs": [
    {
     "ename": "AttributeError",
     "evalue": "'DataFrame' object has no attribute 'append'",
     "output_type": "error",
     "traceback": [
      "\u001b[1;31m---------------------------------------------------------------------------\u001b[0m",
      "\u001b[1;31mAttributeError\u001b[0m                            Traceback (most recent call last)",
      "\u001b[1;32m~\\AppData\\Local\\Temp\\ipykernel_32200\\1162541768.py\u001b[0m in \u001b[0;36m?\u001b[1;34m()\u001b[0m\n\u001b[0;32m     11\u001b[0m     \u001b[0mprint\u001b[0m\u001b[1;33m(\u001b[0m\u001b[1;34m\"Number of 100 Million Movies :\"\u001b[0m\u001b[1;33m,\u001b[0m \u001b[0my\u001b[0m\u001b[1;33m[\u001b[0m\u001b[0my\u001b[0m\u001b[1;33m[\u001b[0m\u001b[1;34m'gross'\u001b[0m\u001b[1;33m]\u001b[0m \u001b[1;33m>\u001b[0m \u001b[1;36m100\u001b[0m\u001b[1;33m]\u001b[0m\u001b[1;33m.\u001b[0m\u001b[0mshape\u001b[0m\u001b[1;33m[\u001b[0m\u001b[1;36m0\u001b[0m\u001b[1;33m]\u001b[0m\u001b[1;33m)\u001b[0m\u001b[1;33m\u001b[0m\u001b[1;33m\u001b[0m\u001b[0m\n\u001b[0;32m     12\u001b[0m     \u001b[0mprint\u001b[0m\u001b[1;33m(\u001b[0m\u001b[1;34m\"Avg IMDB Score : {0:.2f}\"\u001b[0m\u001b[1;33m.\u001b[0m\u001b[0mformat\u001b[0m\u001b[1;33m(\u001b[0m\u001b[0my\u001b[0m\u001b[1;33m[\u001b[0m\u001b[1;34m'imdb_score'\u001b[0m\u001b[1;33m]\u001b[0m\u001b[1;33m.\u001b[0m\u001b[0mmean\u001b[0m\u001b[1;33m(\u001b[0m\u001b[1;33m)\u001b[0m\u001b[1;33m)\u001b[0m\u001b[1;33m)\u001b[0m\u001b[1;33m\u001b[0m\u001b[1;33m\u001b[0m\u001b[0m\n\u001b[0;32m     13\u001b[0m     \u001b[0mprint\u001b[0m\u001b[1;33m(\u001b[0m\u001b[1;34m\"Most Common Genres:\\n\"\u001b[0m\u001b[1;33m,\u001b[0m\u001b[0my\u001b[0m\u001b[1;33m[\u001b[0m\u001b[1;34m'Genre1'\u001b[0m\u001b[1;33m]\u001b[0m\u001b[1;33m.\u001b[0m\u001b[0mvalue_counts\u001b[0m\u001b[1;33m(\u001b[0m\u001b[1;33m)\u001b[0m\u001b[1;33m.\u001b[0m\u001b[0mhead\u001b[0m\u001b[1;33m(\u001b[0m\u001b[1;33m)\u001b[0m\u001b[1;33m)\u001b[0m\u001b[1;33m\u001b[0m\u001b[1;33m\u001b[0m\u001b[0m\n\u001b[0;32m     14\u001b[0m \u001b[1;33m\u001b[0m\u001b[0m\n\u001b[1;32m---> 15\u001b[1;33m \u001b[0mactors_report\u001b[0m\u001b[1;33m(\u001b[0m\u001b[1;34m'Meryl Streep'\u001b[0m\u001b[1;33m)\u001b[0m\u001b[1;33m\u001b[0m\u001b[1;33m\u001b[0m\u001b[0m\n\u001b[0m",
      "\u001b[1;32m~\\AppData\\Local\\Temp\\ipykernel_32200\\1162541768.py\u001b[0m in \u001b[0;36m?\u001b[1;34m(x)\u001b[0m\n\u001b[0;32m      1\u001b[0m \u001b[1;32mdef\u001b[0m \u001b[0mactors_report\u001b[0m\u001b[1;33m(\u001b[0m\u001b[0mx\u001b[0m\u001b[1;33m)\u001b[0m\u001b[1;33m:\u001b[0m\u001b[1;33m\u001b[0m\u001b[1;33m\u001b[0m\u001b[0m\n\u001b[0;32m      2\u001b[0m     \u001b[0ma\u001b[0m \u001b[1;33m=\u001b[0m \u001b[0mdata\u001b[0m\u001b[1;33m[\u001b[0m\u001b[0mdata\u001b[0m\u001b[1;33m[\u001b[0m\u001b[1;34m'actor_1_name'\u001b[0m\u001b[1;33m]\u001b[0m \u001b[1;33m==\u001b[0m \u001b[0mx\u001b[0m\u001b[1;33m]\u001b[0m\u001b[1;33m\u001b[0m\u001b[1;33m\u001b[0m\u001b[0m\n\u001b[0;32m      3\u001b[0m     \u001b[0mb\u001b[0m \u001b[1;33m=\u001b[0m \u001b[0mdata\u001b[0m\u001b[1;33m[\u001b[0m\u001b[0mdata\u001b[0m\u001b[1;33m[\u001b[0m\u001b[1;34m'actor_2_name'\u001b[0m\u001b[1;33m]\u001b[0m \u001b[1;33m==\u001b[0m \u001b[0mx\u001b[0m\u001b[1;33m]\u001b[0m\u001b[1;33m\u001b[0m\u001b[1;33m\u001b[0m\u001b[0m\n\u001b[0;32m      4\u001b[0m     \u001b[0mc\u001b[0m \u001b[1;33m=\u001b[0m \u001b[0mdata\u001b[0m\u001b[1;33m[\u001b[0m\u001b[0mdata\u001b[0m\u001b[1;33m[\u001b[0m\u001b[1;34m'actor_3_name'\u001b[0m\u001b[1;33m]\u001b[0m \u001b[1;33m==\u001b[0m \u001b[0mx\u001b[0m\u001b[1;33m]\u001b[0m\u001b[1;33m\u001b[0m\u001b[1;33m\u001b[0m\u001b[0m\n\u001b[1;32m----> 5\u001b[1;33m     \u001b[0mx\u001b[0m \u001b[1;33m=\u001b[0m \u001b[0ma\u001b[0m\u001b[1;33m.\u001b[0m\u001b[0mappend\u001b[0m\u001b[1;33m(\u001b[0m\u001b[0mb\u001b[0m\u001b[1;33m)\u001b[0m\u001b[1;33m\u001b[0m\u001b[1;33m\u001b[0m\u001b[0m\n\u001b[0m\u001b[0;32m      6\u001b[0m     \u001b[0my\u001b[0m \u001b[1;33m=\u001b[0m \u001b[0mx\u001b[0m\u001b[1;33m.\u001b[0m\u001b[0mappend\u001b[0m\u001b[1;33m(\u001b[0m\u001b[0mc\u001b[0m\u001b[1;33m)\u001b[0m\u001b[1;33m\u001b[0m\u001b[1;33m\u001b[0m\u001b[0m\n\u001b[0;32m      7\u001b[0m     \u001b[0mprint\u001b[0m\u001b[1;33m(\u001b[0m\u001b[1;34m\"Time:\"\u001b[0m\u001b[1;33m,\u001b[0m\u001b[0my\u001b[0m\u001b[1;33m[\u001b[0m\u001b[1;34m'title_year'\u001b[0m\u001b[1;33m]\u001b[0m\u001b[1;33m.\u001b[0m\u001b[0mmin\u001b[0m\u001b[1;33m(\u001b[0m\u001b[1;33m)\u001b[0m\u001b[1;33m,\u001b[0m \u001b[0my\u001b[0m\u001b[1;33m[\u001b[0m\u001b[1;34m'title_year'\u001b[0m\u001b[1;33m]\u001b[0m\u001b[1;33m.\u001b[0m\u001b[0mmax\u001b[0m\u001b[1;33m(\u001b[0m\u001b[1;33m)\u001b[0m\u001b[1;33m)\u001b[0m\u001b[1;33m\u001b[0m\u001b[1;33m\u001b[0m\u001b[0m\n\u001b[0;32m      8\u001b[0m     \u001b[0mprint\u001b[0m\u001b[1;33m(\u001b[0m\u001b[1;34m\"Max Gross : {0:.2f} Millions\"\u001b[0m\u001b[1;33m.\u001b[0m\u001b[0mformat\u001b[0m\u001b[1;33m(\u001b[0m\u001b[0my\u001b[0m\u001b[1;33m[\u001b[0m\u001b[1;34m'gross'\u001b[0m\u001b[1;33m]\u001b[0m\u001b[1;33m.\u001b[0m\u001b[0mmax\u001b[0m\u001b[1;33m(\u001b[0m\u001b[1;33m)\u001b[0m\u001b[1;33m)\u001b[0m\u001b[1;33m)\u001b[0m\u001b[1;33m\u001b[0m\u001b[1;33m\u001b[0m\u001b[0m\n",
      "\u001b[1;32m~\\anaconda3\\Lib\\site-packages\\pandas\\core\\generic.py\u001b[0m in \u001b[0;36m?\u001b[1;34m(self, name)\u001b[0m\n\u001b[0;32m   5985\u001b[0m             \u001b[1;32mand\u001b[0m \u001b[0mname\u001b[0m \u001b[1;32mnot\u001b[0m \u001b[1;32min\u001b[0m \u001b[0mself\u001b[0m\u001b[1;33m.\u001b[0m\u001b[0m_accessors\u001b[0m\u001b[1;33m\u001b[0m\u001b[1;33m\u001b[0m\u001b[0m\n\u001b[0;32m   5986\u001b[0m             \u001b[1;32mand\u001b[0m \u001b[0mself\u001b[0m\u001b[1;33m.\u001b[0m\u001b[0m_info_axis\u001b[0m\u001b[1;33m.\u001b[0m\u001b[0m_can_hold_identifiers_and_holds_name\u001b[0m\u001b[1;33m(\u001b[0m\u001b[0mname\u001b[0m\u001b[1;33m)\u001b[0m\u001b[1;33m\u001b[0m\u001b[1;33m\u001b[0m\u001b[0m\n\u001b[0;32m   5987\u001b[0m         ):\n\u001b[0;32m   5988\u001b[0m             \u001b[1;32mreturn\u001b[0m \u001b[0mself\u001b[0m\u001b[1;33m[\u001b[0m\u001b[0mname\u001b[0m\u001b[1;33m]\u001b[0m\u001b[1;33m\u001b[0m\u001b[1;33m\u001b[0m\u001b[0m\n\u001b[1;32m-> 5989\u001b[1;33m         \u001b[1;32mreturn\u001b[0m \u001b[0mobject\u001b[0m\u001b[1;33m.\u001b[0m\u001b[0m__getattribute__\u001b[0m\u001b[1;33m(\u001b[0m\u001b[0mself\u001b[0m\u001b[1;33m,\u001b[0m \u001b[0mname\u001b[0m\u001b[1;33m)\u001b[0m\u001b[1;33m\u001b[0m\u001b[1;33m\u001b[0m\u001b[0m\n\u001b[0m",
      "\u001b[1;31mAttributeError\u001b[0m: 'DataFrame' object has no attribute 'append'"
     ]
    }
   ],
   "source": [
    "def actors_report(x):\n",
    "    a = data[data['actor_1_name'] == x]\n",
    "    b = data[data['actor_2_name'] == x]\n",
    "    c = data[data['actor_3_name'] == x]\n",
    "    x = a.append(b)\n",
    "    y = x.append(c)\n",
    "    print(\"Time:\",y['title_year'].min(), y['title_year'].max())\n",
    "    print(\"Max Gross : {0:.2f} Millions\".format(y['gross'].max()))\n",
    "    print(\"Avg Gross : {0:.2f} Millions\".format(y['gross'].mean()))\n",
    "    print(\"Min Gross : {0:.2f} Millions\".format(y['gross'].min()))\n",
    "    print(\"Number of 100 Million Movies :\", y[y['gross'] > 100].shape[0])\n",
    "    print(\"Avg IMDB Score : {0:.2f}\".format(y['imdb_score'].mean()))\n",
    "    print(\"Most Common Genres:\\n\",y['Genre1'].value_counts().head())\n",
    "    \n",
    "actors_report('Meryl Streep')"
   ]
  },
  {
   "cell_type": "code",
   "execution_count": 29,
   "id": "4be9d1b4",
   "metadata": {},
   "outputs": [
    {
     "name": "stdout",
     "output_type": "stream",
     "text": [
      "Number of Critics Reviews for Brad Pitt\n"
     ]
    },
    {
     "ename": "AttributeError",
     "evalue": "'DataFrame' object has no attribute 'append'",
     "output_type": "error",
     "traceback": [
      "\u001b[1;31m---------------------------------------------------------------------------\u001b[0m",
      "\u001b[1;31mAttributeError\u001b[0m                            Traceback (most recent call last)",
      "\u001b[1;32m~\\AppData\\Local\\Temp\\ipykernel_32200\\728353059.py\u001b[0m in \u001b[0;36m?\u001b[1;34m()\u001b[0m\n\u001b[0;32m      9\u001b[0m     \u001b[1;32mreturn\u001b[0m \u001b[0my\u001b[0m\u001b[1;33m[\u001b[0m\u001b[1;34m'num_critic_for_reviews'\u001b[0m\u001b[1;33m]\u001b[0m\u001b[1;33m.\u001b[0m\u001b[0msum\u001b[0m\u001b[1;33m(\u001b[0m\u001b[1;33m)\u001b[0m\u001b[1;33m.\u001b[0m\u001b[0mastype\u001b[0m\u001b[1;33m(\u001b[0m\u001b[1;34m'int'\u001b[0m\u001b[1;33m)\u001b[0m\u001b[1;33m\u001b[0m\u001b[1;33m\u001b[0m\u001b[0m\n\u001b[0;32m     10\u001b[0m \u001b[1;33m\u001b[0m\u001b[0m\n\u001b[0;32m     11\u001b[0m \u001b[1;33m\u001b[0m\u001b[0m\n\u001b[0;32m     12\u001b[0m \u001b[0mprint\u001b[0m\u001b[1;33m(\u001b[0m\u001b[1;34m\"Number of Critics Reviews for Brad Pitt\"\u001b[0m\u001b[1;33m)\u001b[0m\u001b[1;33m\u001b[0m\u001b[1;33m\u001b[0m\u001b[0m\n\u001b[1;32m---> 13\u001b[1;33m \u001b[0mdisplay\u001b[0m\u001b[1;33m(\u001b[0m\u001b[0mcritically_acclaimed_actors\u001b[0m\u001b[1;33m(\u001b[0m\u001b[1;34m'Brad Pitt'\u001b[0m\u001b[1;33m)\u001b[0m\u001b[1;33m)\u001b[0m\u001b[1;33m\u001b[0m\u001b[1;33m\u001b[0m\u001b[0m\n\u001b[0m\u001b[0;32m     14\u001b[0m \u001b[1;33m\u001b[0m\u001b[0m\n\u001b[0;32m     15\u001b[0m \u001b[0mprint\u001b[0m\u001b[1;33m(\u001b[0m\u001b[1;34m\"Number of Critics Reviews for Leonardo DiCaprio\"\u001b[0m\u001b[1;33m)\u001b[0m\u001b[1;33m\u001b[0m\u001b[1;33m\u001b[0m\u001b[0m\n\u001b[0;32m     16\u001b[0m \u001b[0mdisplay\u001b[0m\u001b[1;33m(\u001b[0m\u001b[0mcritically_acclaimed_actors\u001b[0m\u001b[1;33m(\u001b[0m\u001b[1;34m'Leonardo DiCaprio'\u001b[0m\u001b[1;33m)\u001b[0m\u001b[1;33m)\u001b[0m\u001b[1;33m\u001b[0m\u001b[1;33m\u001b[0m\u001b[0m\n",
      "\u001b[1;32m~\\AppData\\Local\\Temp\\ipykernel_32200\\728353059.py\u001b[0m in \u001b[0;36m?\u001b[1;34m(m)\u001b[0m\n\u001b[0;32m      3\u001b[0m \u001b[1;32mdef\u001b[0m \u001b[0mcritically_acclaimed_actors\u001b[0m\u001b[1;33m(\u001b[0m\u001b[0mm\u001b[0m\u001b[1;33m)\u001b[0m\u001b[1;33m:\u001b[0m\u001b[1;33m\u001b[0m\u001b[1;33m\u001b[0m\u001b[0m\n\u001b[0;32m      4\u001b[0m     \u001b[0ma\u001b[0m \u001b[1;33m=\u001b[0m \u001b[0mdata\u001b[0m\u001b[1;33m[\u001b[0m\u001b[0mdata\u001b[0m\u001b[1;33m[\u001b[0m\u001b[1;34m'actor_1_name'\u001b[0m\u001b[1;33m]\u001b[0m \u001b[1;33m==\u001b[0m \u001b[0mm\u001b[0m\u001b[1;33m]\u001b[0m\u001b[1;33m\u001b[0m\u001b[1;33m\u001b[0m\u001b[0m\n\u001b[0;32m      5\u001b[0m     \u001b[0mb\u001b[0m \u001b[1;33m=\u001b[0m \u001b[0mdata\u001b[0m\u001b[1;33m[\u001b[0m\u001b[0mdata\u001b[0m\u001b[1;33m[\u001b[0m\u001b[1;34m'actor_2_name'\u001b[0m\u001b[1;33m]\u001b[0m \u001b[1;33m==\u001b[0m \u001b[0mm\u001b[0m\u001b[1;33m]\u001b[0m\u001b[1;33m\u001b[0m\u001b[1;33m\u001b[0m\u001b[0m\n\u001b[0;32m      6\u001b[0m     \u001b[0mc\u001b[0m \u001b[1;33m=\u001b[0m \u001b[0mdata\u001b[0m\u001b[1;33m[\u001b[0m\u001b[0mdata\u001b[0m\u001b[1;33m[\u001b[0m\u001b[1;34m'actor_3_name'\u001b[0m\u001b[1;33m]\u001b[0m \u001b[1;33m==\u001b[0m \u001b[0mm\u001b[0m\u001b[1;33m]\u001b[0m\u001b[1;33m\u001b[0m\u001b[1;33m\u001b[0m\u001b[0m\n\u001b[1;32m----> 7\u001b[1;33m     \u001b[0mx\u001b[0m \u001b[1;33m=\u001b[0m \u001b[0ma\u001b[0m\u001b[1;33m.\u001b[0m\u001b[0mappend\u001b[0m\u001b[1;33m(\u001b[0m\u001b[0mb\u001b[0m\u001b[1;33m)\u001b[0m\u001b[1;33m\u001b[0m\u001b[1;33m\u001b[0m\u001b[0m\n\u001b[0m\u001b[0;32m      8\u001b[0m     \u001b[0my\u001b[0m \u001b[1;33m=\u001b[0m \u001b[0mx\u001b[0m\u001b[1;33m.\u001b[0m\u001b[0mappend\u001b[0m\u001b[1;33m(\u001b[0m\u001b[0mc\u001b[0m\u001b[1;33m)\u001b[0m\u001b[1;33m\u001b[0m\u001b[1;33m\u001b[0m\u001b[0m\n\u001b[0;32m      9\u001b[0m     \u001b[1;32mreturn\u001b[0m \u001b[0my\u001b[0m\u001b[1;33m[\u001b[0m\u001b[1;34m'num_critic_for_reviews'\u001b[0m\u001b[1;33m]\u001b[0m\u001b[1;33m.\u001b[0m\u001b[0msum\u001b[0m\u001b[1;33m(\u001b[0m\u001b[1;33m)\u001b[0m\u001b[1;33m.\u001b[0m\u001b[0mastype\u001b[0m\u001b[1;33m(\u001b[0m\u001b[1;34m'int'\u001b[0m\u001b[1;33m)\u001b[0m\u001b[1;33m\u001b[0m\u001b[1;33m\u001b[0m\u001b[0m\n",
      "\u001b[1;32m~\\anaconda3\\Lib\\site-packages\\pandas\\core\\generic.py\u001b[0m in \u001b[0;36m?\u001b[1;34m(self, name)\u001b[0m\n\u001b[0;32m   5985\u001b[0m             \u001b[1;32mand\u001b[0m \u001b[0mname\u001b[0m \u001b[1;32mnot\u001b[0m \u001b[1;32min\u001b[0m \u001b[0mself\u001b[0m\u001b[1;33m.\u001b[0m\u001b[0m_accessors\u001b[0m\u001b[1;33m\u001b[0m\u001b[1;33m\u001b[0m\u001b[0m\n\u001b[0;32m   5986\u001b[0m             \u001b[1;32mand\u001b[0m \u001b[0mself\u001b[0m\u001b[1;33m.\u001b[0m\u001b[0m_info_axis\u001b[0m\u001b[1;33m.\u001b[0m\u001b[0m_can_hold_identifiers_and_holds_name\u001b[0m\u001b[1;33m(\u001b[0m\u001b[0mname\u001b[0m\u001b[1;33m)\u001b[0m\u001b[1;33m\u001b[0m\u001b[1;33m\u001b[0m\u001b[0m\n\u001b[0;32m   5987\u001b[0m         ):\n\u001b[0;32m   5988\u001b[0m             \u001b[1;32mreturn\u001b[0m \u001b[0mself\u001b[0m\u001b[1;33m[\u001b[0m\u001b[0mname\u001b[0m\u001b[1;33m]\u001b[0m\u001b[1;33m\u001b[0m\u001b[1;33m\u001b[0m\u001b[0m\n\u001b[1;32m-> 5989\u001b[1;33m         \u001b[1;32mreturn\u001b[0m \u001b[0mobject\u001b[0m\u001b[1;33m.\u001b[0m\u001b[0m__getattribute__\u001b[0m\u001b[1;33m(\u001b[0m\u001b[0mself\u001b[0m\u001b[1;33m,\u001b[0m \u001b[0mname\u001b[0m\u001b[1;33m)\u001b[0m\u001b[1;33m\u001b[0m\u001b[1;33m\u001b[0m\u001b[0m\n\u001b[0m",
      "\u001b[1;31mAttributeError\u001b[0m: 'DataFrame' object has no attribute 'append'"
     ]
    }
   ],
   "source": [
    "# Lets compare Brad Pitt, Leonardo Caprio and Tom Cruise\n",
    "\n",
    "def critically_acclaimed_actors(m):\n",
    "    a = data[data['actor_1_name'] == m]\n",
    "    b = data[data['actor_2_name'] == m]\n",
    "    c = data[data['actor_3_name'] == m]\n",
    "    x = a.append(b)\n",
    "    y = x.append(c)\n",
    "    return y['num_critic_for_reviews'].sum().astype('int')\n",
    "\n",
    "\n",
    "print(\"Number of Critics Reviews for Brad Pitt\")\n",
    "display(critically_acclaimed_actors('Brad Pitt'))\n",
    "\n",
    "print(\"Number of Critics Reviews for Leonardo DiCaprio\")\n",
    "display(critically_acclaimed_actors('Leonardo DiCaprio'))\n",
    "\n",
    "print(\"Number of Critics Reviews for Tom Cruise\")\n",
    "display(critically_acclaimed_actors('Tom Cruise'))"
   ]
  },
  {
   "cell_type": "code",
   "execution_count": 30,
   "id": "c366e359",
   "metadata": {},
   "outputs": [
    {
     "ename": "OptionError",
     "evalue": "Pattern matched multiple keys",
     "output_type": "error",
     "traceback": [
      "\u001b[1;31m---------------------------------------------------------------------------\u001b[0m",
      "\u001b[1;31mOptionError\u001b[0m                               Traceback (most recent call last)",
      "Cell \u001b[1;32mIn[30], line 1\u001b[0m\n\u001b[1;32m----> 1\u001b[0m pd\u001b[38;5;241m.\u001b[39mset_option(\u001b[38;5;124m'\u001b[39m\u001b[38;5;124mmax_rows\u001b[39m\u001b[38;5;124m'\u001b[39m, \u001b[38;5;241m3000\u001b[39m)\n\u001b[0;32m      3\u001b[0m \u001b[38;5;129m@interact\u001b[39m\n\u001b[0;32m      4\u001b[0m \u001b[38;5;28;01mdef\u001b[39;00m \u001b[38;5;21mshow_movies_more_than\u001b[39m(column\u001b[38;5;241m=\u001b[39m\u001b[38;5;124m'\u001b[39m\u001b[38;5;124mimdb_score\u001b[39m\u001b[38;5;124m'\u001b[39m, score\u001b[38;5;241m=\u001b[39m\u001b[38;5;241m9.0\u001b[39m):\n\u001b[0;32m      5\u001b[0m     x \u001b[38;5;241m=\u001b[39m data\u001b[38;5;241m.\u001b[39mloc[data[column] \u001b[38;5;241m>\u001b[39m score][[ \u001b[38;5;124m'\u001b[39m\u001b[38;5;124mtitle_year\u001b[39m\u001b[38;5;124m'\u001b[39m,\u001b[38;5;124m'\u001b[39m\u001b[38;5;124mmovie_title\u001b[39m\u001b[38;5;124m'\u001b[39m,\n\u001b[0;32m      6\u001b[0m                                        \u001b[38;5;124m'\u001b[39m\u001b[38;5;124mdirector_name\u001b[39m\u001b[38;5;124m'\u001b[39m,\n\u001b[0;32m      7\u001b[0m                                        \u001b[38;5;124m'\u001b[39m\u001b[38;5;124mactor_1_name\u001b[39m\u001b[38;5;124m'\u001b[39m,\n\u001b[1;32m   (...)\u001b[0m\n\u001b[0;32m     11\u001b[0m                                        \u001b[38;5;124m'\u001b[39m\u001b[38;5;124mimdb_score\u001b[39m\u001b[38;5;124m'\u001b[39m,\n\u001b[0;32m     12\u001b[0m                                     ]]\n",
      "File \u001b[1;32m~\\anaconda3\\Lib\\site-packages\\pandas\\_config\\config.py:261\u001b[0m, in \u001b[0;36mCallableDynamicDoc.__call__\u001b[1;34m(self, *args, **kwds)\u001b[0m\n\u001b[0;32m    260\u001b[0m \u001b[38;5;28;01mdef\u001b[39;00m \u001b[38;5;21m__call__\u001b[39m(\u001b[38;5;28mself\u001b[39m, \u001b[38;5;241m*\u001b[39margs, \u001b[38;5;241m*\u001b[39m\u001b[38;5;241m*\u001b[39mkwds) \u001b[38;5;241m-\u001b[39m\u001b[38;5;241m>\u001b[39m T:\n\u001b[1;32m--> 261\u001b[0m     \u001b[38;5;28;01mreturn\u001b[39;00m \u001b[38;5;28mself\u001b[39m\u001b[38;5;241m.\u001b[39m\u001b[38;5;18m__func__\u001b[39m(\u001b[38;5;241m*\u001b[39margs, \u001b[38;5;241m*\u001b[39m\u001b[38;5;241m*\u001b[39mkwds)\n",
      "File \u001b[1;32m~\\anaconda3\\Lib\\site-packages\\pandas\\_config\\config.py:156\u001b[0m, in \u001b[0;36m_set_option\u001b[1;34m(*args, **kwargs)\u001b[0m\n\u001b[0;32m    153\u001b[0m     \u001b[38;5;28;01mraise\u001b[39;00m \u001b[38;5;167;01mTypeError\u001b[39;00m(\u001b[38;5;124mf\u001b[39m\u001b[38;5;124m'\u001b[39m\u001b[38;5;124m_set_option() got an unexpected keyword argument \u001b[39m\u001b[38;5;124m\"\u001b[39m\u001b[38;5;132;01m{\u001b[39;00mkwarg\u001b[38;5;132;01m}\u001b[39;00m\u001b[38;5;124m\"\u001b[39m\u001b[38;5;124m'\u001b[39m)\n\u001b[0;32m    155\u001b[0m \u001b[38;5;28;01mfor\u001b[39;00m k, v \u001b[38;5;129;01min\u001b[39;00m \u001b[38;5;28mzip\u001b[39m(args[::\u001b[38;5;241m2\u001b[39m], args[\u001b[38;5;241m1\u001b[39m::\u001b[38;5;241m2\u001b[39m]):\n\u001b[1;32m--> 156\u001b[0m     key \u001b[38;5;241m=\u001b[39m _get_single_key(k, silent)\n\u001b[0;32m    158\u001b[0m     o \u001b[38;5;241m=\u001b[39m _get_registered_option(key)\n\u001b[0;32m    159\u001b[0m     \u001b[38;5;28;01mif\u001b[39;00m o \u001b[38;5;129;01mand\u001b[39;00m o\u001b[38;5;241m.\u001b[39mvalidator:\n",
      "File \u001b[1;32m~\\anaconda3\\Lib\\site-packages\\pandas\\_config\\config.py:123\u001b[0m, in \u001b[0;36m_get_single_key\u001b[1;34m(pat, silent)\u001b[0m\n\u001b[0;32m    121\u001b[0m     \u001b[38;5;28;01mraise\u001b[39;00m OptionError(\u001b[38;5;124mf\u001b[39m\u001b[38;5;124m\"\u001b[39m\u001b[38;5;124mNo such keys(s): \u001b[39m\u001b[38;5;132;01m{\u001b[39;00m\u001b[38;5;28mrepr\u001b[39m(pat)\u001b[38;5;132;01m}\u001b[39;00m\u001b[38;5;124m\"\u001b[39m)\n\u001b[0;32m    122\u001b[0m \u001b[38;5;28;01mif\u001b[39;00m \u001b[38;5;28mlen\u001b[39m(keys) \u001b[38;5;241m>\u001b[39m \u001b[38;5;241m1\u001b[39m:\n\u001b[1;32m--> 123\u001b[0m     \u001b[38;5;28;01mraise\u001b[39;00m OptionError(\u001b[38;5;124m\"\u001b[39m\u001b[38;5;124mPattern matched multiple keys\u001b[39m\u001b[38;5;124m\"\u001b[39m)\n\u001b[0;32m    124\u001b[0m key \u001b[38;5;241m=\u001b[39m keys[\u001b[38;5;241m0\u001b[39m]\n\u001b[0;32m    126\u001b[0m \u001b[38;5;28;01mif\u001b[39;00m \u001b[38;5;129;01mnot\u001b[39;00m silent:\n",
      "\u001b[1;31mOptionError\u001b[0m: Pattern matched multiple keys"
     ]
    }
   ],
   "source": [
    "pd.set_option('max_rows', 3000)\n",
    "\n",
    "@interact\n",
    "def show_movies_more_than(column='imdb_score', score=9.0):\n",
    "    x = data.loc[data[column] > score][[ 'title_year','movie_title',\n",
    "                                       'director_name',\n",
    "                                       'actor_1_name',\n",
    "                                       'actor_2_name',\n",
    "                                       'actor_3_name',\n",
    "                                       'Profit',\n",
    "                                       'imdb_score',\n",
    "                                    ]]\n",
    "    x = x.sort_values(by = 'imdb_score', ascending = False)\n",
    "    x = x.drop_duplicates(keep = 'first')\n",
    "    return x"
   ]
  },
  {
   "cell_type": "code",
   "execution_count": 31,
   "id": "491aa109",
   "metadata": {},
   "outputs": [
    {
     "ename": "OptionError",
     "evalue": "Pattern matched multiple keys",
     "output_type": "error",
     "traceback": [
      "\u001b[1;31m---------------------------------------------------------------------------\u001b[0m",
      "\u001b[1;31mOptionError\u001b[0m                               Traceback (most recent call last)",
      "Cell \u001b[1;32mIn[31], line 1\u001b[0m\n\u001b[1;32m----> 1\u001b[0m pd\u001b[38;5;241m.\u001b[39mset_option(\u001b[38;5;124m'\u001b[39m\u001b[38;5;124mmax_rows\u001b[39m\u001b[38;5;124m'\u001b[39m, \u001b[38;5;241m30000\u001b[39m)\n\u001b[0;32m      3\u001b[0m \u001b[38;5;129m@interact\u001b[39m\n\u001b[0;32m      4\u001b[0m \u001b[38;5;28;01mdef\u001b[39;00m \u001b[38;5;21mshow_articles_more_than\u001b[39m(column\u001b[38;5;241m=\u001b[39m[\u001b[38;5;124m'\u001b[39m\u001b[38;5;124mbudget\u001b[39m\u001b[38;5;124m'\u001b[39m,\u001b[38;5;124m'\u001b[39m\u001b[38;5;124mgross\u001b[39m\u001b[38;5;124m'\u001b[39m], x\u001b[38;5;241m=\u001b[39m\u001b[38;5;241m1000\u001b[39m):\n\u001b[0;32m      5\u001b[0m     \u001b[38;5;28;01mreturn\u001b[39;00m data\u001b[38;5;241m.\u001b[39mloc[data[column] \u001b[38;5;241m>\u001b[39m x][[\u001b[38;5;124m'\u001b[39m\u001b[38;5;124mmovie_title\u001b[39m\u001b[38;5;124m'\u001b[39m,\u001b[38;5;124m'\u001b[39m\u001b[38;5;124mduration\u001b[39m\u001b[38;5;124m'\u001b[39m,\u001b[38;5;124m'\u001b[39m\u001b[38;5;124mgross\u001b[39m\u001b[38;5;124m'\u001b[39m,\u001b[38;5;124m'\u001b[39m\u001b[38;5;124mProfit\u001b[39m\u001b[38;5;124m'\u001b[39m,\u001b[38;5;124m'\u001b[39m\u001b[38;5;124mimdb_score\u001b[39m\u001b[38;5;124m'\u001b[39m]]\n",
      "File \u001b[1;32m~\\anaconda3\\Lib\\site-packages\\pandas\\_config\\config.py:261\u001b[0m, in \u001b[0;36mCallableDynamicDoc.__call__\u001b[1;34m(self, *args, **kwds)\u001b[0m\n\u001b[0;32m    260\u001b[0m \u001b[38;5;28;01mdef\u001b[39;00m \u001b[38;5;21m__call__\u001b[39m(\u001b[38;5;28mself\u001b[39m, \u001b[38;5;241m*\u001b[39margs, \u001b[38;5;241m*\u001b[39m\u001b[38;5;241m*\u001b[39mkwds) \u001b[38;5;241m-\u001b[39m\u001b[38;5;241m>\u001b[39m T:\n\u001b[1;32m--> 261\u001b[0m     \u001b[38;5;28;01mreturn\u001b[39;00m \u001b[38;5;28mself\u001b[39m\u001b[38;5;241m.\u001b[39m\u001b[38;5;18m__func__\u001b[39m(\u001b[38;5;241m*\u001b[39margs, \u001b[38;5;241m*\u001b[39m\u001b[38;5;241m*\u001b[39mkwds)\n",
      "File \u001b[1;32m~\\anaconda3\\Lib\\site-packages\\pandas\\_config\\config.py:156\u001b[0m, in \u001b[0;36m_set_option\u001b[1;34m(*args, **kwargs)\u001b[0m\n\u001b[0;32m    153\u001b[0m     \u001b[38;5;28;01mraise\u001b[39;00m \u001b[38;5;167;01mTypeError\u001b[39;00m(\u001b[38;5;124mf\u001b[39m\u001b[38;5;124m'\u001b[39m\u001b[38;5;124m_set_option() got an unexpected keyword argument \u001b[39m\u001b[38;5;124m\"\u001b[39m\u001b[38;5;132;01m{\u001b[39;00mkwarg\u001b[38;5;132;01m}\u001b[39;00m\u001b[38;5;124m\"\u001b[39m\u001b[38;5;124m'\u001b[39m)\n\u001b[0;32m    155\u001b[0m \u001b[38;5;28;01mfor\u001b[39;00m k, v \u001b[38;5;129;01min\u001b[39;00m \u001b[38;5;28mzip\u001b[39m(args[::\u001b[38;5;241m2\u001b[39m], args[\u001b[38;5;241m1\u001b[39m::\u001b[38;5;241m2\u001b[39m]):\n\u001b[1;32m--> 156\u001b[0m     key \u001b[38;5;241m=\u001b[39m _get_single_key(k, silent)\n\u001b[0;32m    158\u001b[0m     o \u001b[38;5;241m=\u001b[39m _get_registered_option(key)\n\u001b[0;32m    159\u001b[0m     \u001b[38;5;28;01mif\u001b[39;00m o \u001b[38;5;129;01mand\u001b[39;00m o\u001b[38;5;241m.\u001b[39mvalidator:\n",
      "File \u001b[1;32m~\\anaconda3\\Lib\\site-packages\\pandas\\_config\\config.py:123\u001b[0m, in \u001b[0;36m_get_single_key\u001b[1;34m(pat, silent)\u001b[0m\n\u001b[0;32m    121\u001b[0m     \u001b[38;5;28;01mraise\u001b[39;00m OptionError(\u001b[38;5;124mf\u001b[39m\u001b[38;5;124m\"\u001b[39m\u001b[38;5;124mNo such keys(s): \u001b[39m\u001b[38;5;132;01m{\u001b[39;00m\u001b[38;5;28mrepr\u001b[39m(pat)\u001b[38;5;132;01m}\u001b[39;00m\u001b[38;5;124m\"\u001b[39m)\n\u001b[0;32m    122\u001b[0m \u001b[38;5;28;01mif\u001b[39;00m \u001b[38;5;28mlen\u001b[39m(keys) \u001b[38;5;241m>\u001b[39m \u001b[38;5;241m1\u001b[39m:\n\u001b[1;32m--> 123\u001b[0m     \u001b[38;5;28;01mraise\u001b[39;00m OptionError(\u001b[38;5;124m\"\u001b[39m\u001b[38;5;124mPattern matched multiple keys\u001b[39m\u001b[38;5;124m\"\u001b[39m)\n\u001b[0;32m    124\u001b[0m key \u001b[38;5;241m=\u001b[39m keys[\u001b[38;5;241m0\u001b[39m]\n\u001b[0;32m    126\u001b[0m \u001b[38;5;28;01mif\u001b[39;00m \u001b[38;5;129;01mnot\u001b[39;00m silent:\n",
      "\u001b[1;31mOptionError\u001b[0m: Pattern matched multiple keys"
     ]
    }
   ],
   "source": [
    "pd.set_option('max_rows', 30000)\n",
    "\n",
    "@interact\n",
    "def show_articles_more_than(column=['budget','gross'], x=1000):\n",
    "    return data.loc[data[column] > x][['movie_title','duration','gross','Profit','imdb_score']]"
   ]
  },
  {
   "cell_type": "markdown",
   "id": "4f20f262",
   "metadata": {},
   "source": [
    "Recommending movies based on actors and languages"
   ]
  },
  {
   "cell_type": "code",
   "execution_count": 32,
   "id": "9849c7c3",
   "metadata": {},
   "outputs": [],
   "source": [
    "def recommend_lang(x):\n",
    "    y = data[['language','movie_title','imdb_score']][data['language'] == x]\n",
    "    y = y.sort_values(by = 'imdb_score', ascending = False)\n",
    "    return y.head(15)\n"
   ]
  },
  {
   "cell_type": "code",
   "execution_count": 33,
   "id": "e5899720",
   "metadata": {},
   "outputs": [
    {
     "data": {
      "text/html": [
       "<div>\n",
       "<style scoped>\n",
       "    .dataframe tbody tr th:only-of-type {\n",
       "        vertical-align: middle;\n",
       "    }\n",
       "\n",
       "    .dataframe tbody tr th {\n",
       "        vertical-align: top;\n",
       "    }\n",
       "\n",
       "    .dataframe thead th {\n",
       "        text-align: right;\n",
       "    }\n",
       "</style>\n",
       "<table border=\"1\" class=\"dataframe\">\n",
       "  <thead>\n",
       "    <tr style=\"text-align: right;\">\n",
       "      <th></th>\n",
       "      <th>language</th>\n",
       "      <th>movie_title</th>\n",
       "      <th>imdb_score</th>\n",
       "    </tr>\n",
       "  </thead>\n",
       "  <tbody>\n",
       "    <tr>\n",
       "      <th>4498</th>\n",
       "      <td>Foreign</td>\n",
       "      <td>The Good, the Bad and the Ugly</td>\n",
       "      <td>8.9</td>\n",
       "    </tr>\n",
       "    <tr>\n",
       "      <th>4029</th>\n",
       "      <td>Foreign</td>\n",
       "      <td>City of God</td>\n",
       "      <td>8.7</td>\n",
       "    </tr>\n",
       "    <tr>\n",
       "      <th>4747</th>\n",
       "      <td>Foreign</td>\n",
       "      <td>Seven Samurai</td>\n",
       "      <td>8.7</td>\n",
       "    </tr>\n",
       "    <tr>\n",
       "      <th>2373</th>\n",
       "      <td>Foreign</td>\n",
       "      <td>Spirited Away</td>\n",
       "      <td>8.6</td>\n",
       "    </tr>\n",
       "    <tr>\n",
       "      <th>4921</th>\n",
       "      <td>Foreign</td>\n",
       "      <td>Children of Heaven</td>\n",
       "      <td>8.5</td>\n",
       "    </tr>\n",
       "    <tr>\n",
       "      <th>4259</th>\n",
       "      <td>Foreign</td>\n",
       "      <td>The Lives of Others</td>\n",
       "      <td>8.5</td>\n",
       "    </tr>\n",
       "    <tr>\n",
       "      <th>4659</th>\n",
       "      <td>Foreign</td>\n",
       "      <td>A Separation</td>\n",
       "      <td>8.4</td>\n",
       "    </tr>\n",
       "    <tr>\n",
       "      <th>1329</th>\n",
       "      <td>Foreign</td>\n",
       "      <td>Baahubali: The Beginning</td>\n",
       "      <td>8.4</td>\n",
       "    </tr>\n",
       "    <tr>\n",
       "      <th>1298</th>\n",
       "      <td>Foreign</td>\n",
       "      <td>Amélie</td>\n",
       "      <td>8.4</td>\n",
       "    </tr>\n",
       "    <tr>\n",
       "      <th>2323</th>\n",
       "      <td>Foreign</td>\n",
       "      <td>Princess Mononoke</td>\n",
       "      <td>8.4</td>\n",
       "    </tr>\n",
       "    <tr>\n",
       "      <th>2970</th>\n",
       "      <td>Foreign</td>\n",
       "      <td>Das Boot</td>\n",
       "      <td>8.4</td>\n",
       "    </tr>\n",
       "    <tr>\n",
       "      <th>4105</th>\n",
       "      <td>Foreign</td>\n",
       "      <td>Oldboy</td>\n",
       "      <td>8.4</td>\n",
       "    </tr>\n",
       "    <tr>\n",
       "      <th>4033</th>\n",
       "      <td>Foreign</td>\n",
       "      <td>The Hunt</td>\n",
       "      <td>8.3</td>\n",
       "    </tr>\n",
       "    <tr>\n",
       "      <th>2829</th>\n",
       "      <td>Foreign</td>\n",
       "      <td>Downfall</td>\n",
       "      <td>8.3</td>\n",
       "    </tr>\n",
       "    <tr>\n",
       "      <th>2734</th>\n",
       "      <td>Foreign</td>\n",
       "      <td>Metropolis</td>\n",
       "      <td>8.3</td>\n",
       "    </tr>\n",
       "  </tbody>\n",
       "</table>\n",
       "</div>"
      ],
      "text/plain": [
       "     language                      movie_title  imdb_score\n",
       "4498  Foreign  The Good, the Bad and the Ugly          8.9\n",
       "4029  Foreign                     City of God          8.7\n",
       "4747  Foreign                   Seven Samurai          8.7\n",
       "2373  Foreign                   Spirited Away          8.6\n",
       "4921  Foreign              Children of Heaven          8.5\n",
       "4259  Foreign             The Lives of Others          8.5\n",
       "4659  Foreign                    A Separation          8.4\n",
       "1329  Foreign        Baahubali: The Beginning          8.4\n",
       "1298  Foreign                          Amélie          8.4\n",
       "2323  Foreign               Princess Mononoke          8.4\n",
       "2970  Foreign                        Das Boot          8.4\n",
       "4105  Foreign                          Oldboy          8.4\n",
       "4033  Foreign                        The Hunt          8.3\n",
       "2829  Foreign                        Downfall          8.3\n",
       "2734  Foreign                      Metropolis          8.3"
      ]
     },
     "execution_count": 33,
     "metadata": {},
     "output_type": "execute_result"
    }
   ],
   "source": [
    "recommend_lang('Foreign')"
   ]
  },
  {
   "cell_type": "code",
   "execution_count": 34,
   "id": "2d00cca2",
   "metadata": {},
   "outputs": [],
   "source": [
    "\n",
    "def recommend_movies_on_actors(x):\n",
    "    a = data[['movie_title','imdb_score']][data['actor_1_name'] == x]\n",
    "    b = data[['movie_title','imdb_score']][data['actor_2_name'] == x]\n",
    "    c = data[['movie_title','imdb_score']][data['actor_3_name'] == x]\n",
    "    a = a.append(b)\n",
    "    a = a.append(c)\n",
    "    a = a.sort_values(by = 'imdb_score', ascending = False)\n",
    "    return a.head(15)"
   ]
  },
  {
   "cell_type": "code",
   "execution_count": 35,
   "id": "993793e9",
   "metadata": {},
   "outputs": [
    {
     "ename": "AttributeError",
     "evalue": "'DataFrame' object has no attribute 'append'",
     "output_type": "error",
     "traceback": [
      "\u001b[1;31m---------------------------------------------------------------------------\u001b[0m",
      "\u001b[1;31mAttributeError\u001b[0m                            Traceback (most recent call last)",
      "\u001b[1;32m~\\AppData\\Local\\Temp\\ipykernel_32200\\709687702.py\u001b[0m in \u001b[0;36m?\u001b[1;34m()\u001b[0m\n\u001b[1;32m----> 1\u001b[1;33m \u001b[0mrecommend_movies_on_actors\u001b[0m\u001b[1;33m(\u001b[0m\u001b[1;34m'Tom Cruise'\u001b[0m\u001b[1;33m)\u001b[0m\u001b[1;33m\u001b[0m\u001b[1;33m\u001b[0m\u001b[0m\n\u001b[0m",
      "\u001b[1;32m~\\AppData\\Local\\Temp\\ipykernel_32200\\998627977.py\u001b[0m in \u001b[0;36m?\u001b[1;34m(x)\u001b[0m\n\u001b[0;32m      1\u001b[0m \u001b[1;32mdef\u001b[0m \u001b[0mrecommend_movies_on_actors\u001b[0m\u001b[1;33m(\u001b[0m\u001b[0mx\u001b[0m\u001b[1;33m)\u001b[0m\u001b[1;33m:\u001b[0m\u001b[1;33m\u001b[0m\u001b[1;33m\u001b[0m\u001b[0m\n\u001b[0;32m      2\u001b[0m     \u001b[0ma\u001b[0m \u001b[1;33m=\u001b[0m \u001b[0mdata\u001b[0m\u001b[1;33m[\u001b[0m\u001b[1;33m[\u001b[0m\u001b[1;34m'movie_title'\u001b[0m\u001b[1;33m,\u001b[0m\u001b[1;34m'imdb_score'\u001b[0m\u001b[1;33m]\u001b[0m\u001b[1;33m]\u001b[0m\u001b[1;33m[\u001b[0m\u001b[0mdata\u001b[0m\u001b[1;33m[\u001b[0m\u001b[1;34m'actor_1_name'\u001b[0m\u001b[1;33m]\u001b[0m \u001b[1;33m==\u001b[0m \u001b[0mx\u001b[0m\u001b[1;33m]\u001b[0m\u001b[1;33m\u001b[0m\u001b[1;33m\u001b[0m\u001b[0m\n\u001b[0;32m      3\u001b[0m     \u001b[0mb\u001b[0m \u001b[1;33m=\u001b[0m \u001b[0mdata\u001b[0m\u001b[1;33m[\u001b[0m\u001b[1;33m[\u001b[0m\u001b[1;34m'movie_title'\u001b[0m\u001b[1;33m,\u001b[0m\u001b[1;34m'imdb_score'\u001b[0m\u001b[1;33m]\u001b[0m\u001b[1;33m]\u001b[0m\u001b[1;33m[\u001b[0m\u001b[0mdata\u001b[0m\u001b[1;33m[\u001b[0m\u001b[1;34m'actor_2_name'\u001b[0m\u001b[1;33m]\u001b[0m \u001b[1;33m==\u001b[0m \u001b[0mx\u001b[0m\u001b[1;33m]\u001b[0m\u001b[1;33m\u001b[0m\u001b[1;33m\u001b[0m\u001b[0m\n\u001b[0;32m      4\u001b[0m     \u001b[0mc\u001b[0m \u001b[1;33m=\u001b[0m \u001b[0mdata\u001b[0m\u001b[1;33m[\u001b[0m\u001b[1;33m[\u001b[0m\u001b[1;34m'movie_title'\u001b[0m\u001b[1;33m,\u001b[0m\u001b[1;34m'imdb_score'\u001b[0m\u001b[1;33m]\u001b[0m\u001b[1;33m]\u001b[0m\u001b[1;33m[\u001b[0m\u001b[0mdata\u001b[0m\u001b[1;33m[\u001b[0m\u001b[1;34m'actor_3_name'\u001b[0m\u001b[1;33m]\u001b[0m \u001b[1;33m==\u001b[0m \u001b[0mx\u001b[0m\u001b[1;33m]\u001b[0m\u001b[1;33m\u001b[0m\u001b[1;33m\u001b[0m\u001b[0m\n\u001b[1;32m----> 5\u001b[1;33m     \u001b[0ma\u001b[0m \u001b[1;33m=\u001b[0m \u001b[0ma\u001b[0m\u001b[1;33m.\u001b[0m\u001b[0mappend\u001b[0m\u001b[1;33m(\u001b[0m\u001b[0mb\u001b[0m\u001b[1;33m)\u001b[0m\u001b[1;33m\u001b[0m\u001b[1;33m\u001b[0m\u001b[0m\n\u001b[0m\u001b[0;32m      6\u001b[0m     \u001b[0ma\u001b[0m \u001b[1;33m=\u001b[0m \u001b[0ma\u001b[0m\u001b[1;33m.\u001b[0m\u001b[0mappend\u001b[0m\u001b[1;33m(\u001b[0m\u001b[0mc\u001b[0m\u001b[1;33m)\u001b[0m\u001b[1;33m\u001b[0m\u001b[1;33m\u001b[0m\u001b[0m\n\u001b[0;32m      7\u001b[0m     \u001b[0ma\u001b[0m \u001b[1;33m=\u001b[0m \u001b[0ma\u001b[0m\u001b[1;33m.\u001b[0m\u001b[0msort_values\u001b[0m\u001b[1;33m(\u001b[0m\u001b[0mby\u001b[0m \u001b[1;33m=\u001b[0m \u001b[1;34m'imdb_score'\u001b[0m\u001b[1;33m,\u001b[0m \u001b[0mascending\u001b[0m \u001b[1;33m=\u001b[0m \u001b[1;32mFalse\u001b[0m\u001b[1;33m)\u001b[0m\u001b[1;33m\u001b[0m\u001b[1;33m\u001b[0m\u001b[0m\n\u001b[0;32m      8\u001b[0m     \u001b[1;32mreturn\u001b[0m \u001b[0ma\u001b[0m\u001b[1;33m.\u001b[0m\u001b[0mhead\u001b[0m\u001b[1;33m(\u001b[0m\u001b[1;36m15\u001b[0m\u001b[1;33m)\u001b[0m\u001b[1;33m\u001b[0m\u001b[1;33m\u001b[0m\u001b[0m\n",
      "\u001b[1;32m~\\anaconda3\\Lib\\site-packages\\pandas\\core\\generic.py\u001b[0m in \u001b[0;36m?\u001b[1;34m(self, name)\u001b[0m\n\u001b[0;32m   5985\u001b[0m             \u001b[1;32mand\u001b[0m \u001b[0mname\u001b[0m \u001b[1;32mnot\u001b[0m \u001b[1;32min\u001b[0m \u001b[0mself\u001b[0m\u001b[1;33m.\u001b[0m\u001b[0m_accessors\u001b[0m\u001b[1;33m\u001b[0m\u001b[1;33m\u001b[0m\u001b[0m\n\u001b[0;32m   5986\u001b[0m             \u001b[1;32mand\u001b[0m \u001b[0mself\u001b[0m\u001b[1;33m.\u001b[0m\u001b[0m_info_axis\u001b[0m\u001b[1;33m.\u001b[0m\u001b[0m_can_hold_identifiers_and_holds_name\u001b[0m\u001b[1;33m(\u001b[0m\u001b[0mname\u001b[0m\u001b[1;33m)\u001b[0m\u001b[1;33m\u001b[0m\u001b[1;33m\u001b[0m\u001b[0m\n\u001b[0;32m   5987\u001b[0m         ):\n\u001b[0;32m   5988\u001b[0m             \u001b[1;32mreturn\u001b[0m \u001b[0mself\u001b[0m\u001b[1;33m[\u001b[0m\u001b[0mname\u001b[0m\u001b[1;33m]\u001b[0m\u001b[1;33m\u001b[0m\u001b[1;33m\u001b[0m\u001b[0m\n\u001b[1;32m-> 5989\u001b[1;33m         \u001b[1;32mreturn\u001b[0m \u001b[0mobject\u001b[0m\u001b[1;33m.\u001b[0m\u001b[0m__getattribute__\u001b[0m\u001b[1;33m(\u001b[0m\u001b[0mself\u001b[0m\u001b[1;33m,\u001b[0m \u001b[0mname\u001b[0m\u001b[1;33m)\u001b[0m\u001b[1;33m\u001b[0m\u001b[1;33m\u001b[0m\u001b[0m\n\u001b[0m",
      "\u001b[1;31mAttributeError\u001b[0m: 'DataFrame' object has no attribute 'append'"
     ]
    }
   ],
   "source": [
    "recommend_movies_on_actors('Tom Cruise')"
   ]
  },
  {
   "cell_type": "markdown",
   "id": "945cbe60",
   "metadata": {},
   "source": [
    "Recommending similar genres"
   ]
  },
  {
   "cell_type": "code",
   "execution_count": 36,
   "id": "8733e097",
   "metadata": {},
   "outputs": [
    {
     "ename": "ModuleNotFoundError",
     "evalue": "No module named 'mlxtend'",
     "output_type": "error",
     "traceback": [
      "\u001b[1;31m---------------------------------------------------------------------------\u001b[0m",
      "\u001b[1;31mModuleNotFoundError\u001b[0m                       Traceback (most recent call last)",
      "Cell \u001b[1;32mIn[36], line 1\u001b[0m\n\u001b[1;32m----> 1\u001b[0m \u001b[38;5;28;01mfrom\u001b[39;00m \u001b[38;5;21;01mmlxtend\u001b[39;00m\u001b[38;5;21;01m.\u001b[39;00m\u001b[38;5;21;01mpreprocessing\u001b[39;00m \u001b[38;5;28;01mimport\u001b[39;00m TransactionEncoder\n\u001b[0;32m      3\u001b[0m x \u001b[38;5;241m=\u001b[39m data[\u001b[38;5;124m'\u001b[39m\u001b[38;5;124mgenres\u001b[39m\u001b[38;5;124m'\u001b[39m]\u001b[38;5;241m.\u001b[39mstr\u001b[38;5;241m.\u001b[39msplit(\u001b[38;5;124m'\u001b[39m\u001b[38;5;124m|\u001b[39m\u001b[38;5;124m'\u001b[39m)\n\u001b[0;32m      4\u001b[0m te \u001b[38;5;241m=\u001b[39m TransactionEncoder()\n",
      "\u001b[1;31mModuleNotFoundError\u001b[0m: No module named 'mlxtend'"
     ]
    }
   ],
   "source": [
    "from mlxtend.preprocessing import TransactionEncoder\n",
    "\n",
    "x = data['genres'].str.split('|')\n",
    "te = TransactionEncoder()\n",
    "x = te.fit_transform(x)\n",
    "x = pd.DataFrame(x, columns = te.columns_)\n",
    "\n",
    "# lets check the head of x\n",
    "x.head()"
   ]
  },
  {
   "cell_type": "code",
   "execution_count": 37,
   "id": "cb191b88",
   "metadata": {},
   "outputs": [
    {
     "ename": "ValueError",
     "evalue": "invalid literal for int() with base 10: 'Batman v Superman: Dawn of Justice\\xa0'",
     "output_type": "error",
     "traceback": [
      "\u001b[1;31m---------------------------------------------------------------------------\u001b[0m",
      "\u001b[1;31mValueError\u001b[0m                                Traceback (most recent call last)",
      "Cell \u001b[1;32mIn[37], line 1\u001b[0m\n\u001b[1;32m----> 1\u001b[0m genres \u001b[38;5;241m=\u001b[39m x\u001b[38;5;241m.\u001b[39mastype(\u001b[38;5;124m'\u001b[39m\u001b[38;5;124mint\u001b[39m\u001b[38;5;124m'\u001b[39m)\n\u001b[0;32m      3\u001b[0m genres\u001b[38;5;241m.\u001b[39mhead()\n",
      "File \u001b[1;32m~\\anaconda3\\Lib\\site-packages\\pandas\\core\\generic.py:6324\u001b[0m, in \u001b[0;36mNDFrame.astype\u001b[1;34m(self, dtype, copy, errors)\u001b[0m\n\u001b[0;32m   6317\u001b[0m     results \u001b[38;5;241m=\u001b[39m [\n\u001b[0;32m   6318\u001b[0m         \u001b[38;5;28mself\u001b[39m\u001b[38;5;241m.\u001b[39miloc[:, i]\u001b[38;5;241m.\u001b[39mastype(dtype, copy\u001b[38;5;241m=\u001b[39mcopy)\n\u001b[0;32m   6319\u001b[0m         \u001b[38;5;28;01mfor\u001b[39;00m i \u001b[38;5;129;01min\u001b[39;00m \u001b[38;5;28mrange\u001b[39m(\u001b[38;5;28mlen\u001b[39m(\u001b[38;5;28mself\u001b[39m\u001b[38;5;241m.\u001b[39mcolumns))\n\u001b[0;32m   6320\u001b[0m     ]\n\u001b[0;32m   6322\u001b[0m \u001b[38;5;28;01melse\u001b[39;00m:\n\u001b[0;32m   6323\u001b[0m     \u001b[38;5;66;03m# else, only a single dtype is given\u001b[39;00m\n\u001b[1;32m-> 6324\u001b[0m     new_data \u001b[38;5;241m=\u001b[39m \u001b[38;5;28mself\u001b[39m\u001b[38;5;241m.\u001b[39m_mgr\u001b[38;5;241m.\u001b[39mastype(dtype\u001b[38;5;241m=\u001b[39mdtype, copy\u001b[38;5;241m=\u001b[39mcopy, errors\u001b[38;5;241m=\u001b[39merrors)\n\u001b[0;32m   6325\u001b[0m     \u001b[38;5;28;01mreturn\u001b[39;00m \u001b[38;5;28mself\u001b[39m\u001b[38;5;241m.\u001b[39m_constructor(new_data)\u001b[38;5;241m.\u001b[39m__finalize__(\u001b[38;5;28mself\u001b[39m, method\u001b[38;5;241m=\u001b[39m\u001b[38;5;124m\"\u001b[39m\u001b[38;5;124mastype\u001b[39m\u001b[38;5;124m\"\u001b[39m)\n\u001b[0;32m   6327\u001b[0m \u001b[38;5;66;03m# GH 33113: handle empty frame or series\u001b[39;00m\n",
      "File \u001b[1;32m~\\anaconda3\\Lib\\site-packages\\pandas\\core\\internals\\managers.py:451\u001b[0m, in \u001b[0;36mBaseBlockManager.astype\u001b[1;34m(self, dtype, copy, errors)\u001b[0m\n\u001b[0;32m    448\u001b[0m \u001b[38;5;28;01melif\u001b[39;00m using_copy_on_write():\n\u001b[0;32m    449\u001b[0m     copy \u001b[38;5;241m=\u001b[39m \u001b[38;5;28;01mFalse\u001b[39;00m\n\u001b[1;32m--> 451\u001b[0m \u001b[38;5;28;01mreturn\u001b[39;00m \u001b[38;5;28mself\u001b[39m\u001b[38;5;241m.\u001b[39mapply(\n\u001b[0;32m    452\u001b[0m     \u001b[38;5;124m\"\u001b[39m\u001b[38;5;124mastype\u001b[39m\u001b[38;5;124m\"\u001b[39m,\n\u001b[0;32m    453\u001b[0m     dtype\u001b[38;5;241m=\u001b[39mdtype,\n\u001b[0;32m    454\u001b[0m     copy\u001b[38;5;241m=\u001b[39mcopy,\n\u001b[0;32m    455\u001b[0m     errors\u001b[38;5;241m=\u001b[39merrors,\n\u001b[0;32m    456\u001b[0m     using_cow\u001b[38;5;241m=\u001b[39musing_copy_on_write(),\n\u001b[0;32m    457\u001b[0m )\n",
      "File \u001b[1;32m~\\anaconda3\\Lib\\site-packages\\pandas\\core\\internals\\managers.py:352\u001b[0m, in \u001b[0;36mBaseBlockManager.apply\u001b[1;34m(self, f, align_keys, **kwargs)\u001b[0m\n\u001b[0;32m    350\u001b[0m         applied \u001b[38;5;241m=\u001b[39m b\u001b[38;5;241m.\u001b[39mapply(f, \u001b[38;5;241m*\u001b[39m\u001b[38;5;241m*\u001b[39mkwargs)\n\u001b[0;32m    351\u001b[0m     \u001b[38;5;28;01melse\u001b[39;00m:\n\u001b[1;32m--> 352\u001b[0m         applied \u001b[38;5;241m=\u001b[39m \u001b[38;5;28mgetattr\u001b[39m(b, f)(\u001b[38;5;241m*\u001b[39m\u001b[38;5;241m*\u001b[39mkwargs)\n\u001b[0;32m    353\u001b[0m     result_blocks \u001b[38;5;241m=\u001b[39m extend_blocks(applied, result_blocks)\n\u001b[0;32m    355\u001b[0m out \u001b[38;5;241m=\u001b[39m \u001b[38;5;28mtype\u001b[39m(\u001b[38;5;28mself\u001b[39m)\u001b[38;5;241m.\u001b[39mfrom_blocks(result_blocks, \u001b[38;5;28mself\u001b[39m\u001b[38;5;241m.\u001b[39maxes)\n",
      "File \u001b[1;32m~\\anaconda3\\Lib\\site-packages\\pandas\\core\\internals\\blocks.py:511\u001b[0m, in \u001b[0;36mBlock.astype\u001b[1;34m(self, dtype, copy, errors, using_cow)\u001b[0m\n\u001b[0;32m    491\u001b[0m \u001b[38;5;250m\u001b[39m\u001b[38;5;124;03m\"\"\"\u001b[39;00m\n\u001b[0;32m    492\u001b[0m \u001b[38;5;124;03mCoerce to the new dtype.\u001b[39;00m\n\u001b[0;32m    493\u001b[0m \n\u001b[1;32m   (...)\u001b[0m\n\u001b[0;32m    507\u001b[0m \u001b[38;5;124;03mBlock\u001b[39;00m\n\u001b[0;32m    508\u001b[0m \u001b[38;5;124;03m\"\"\"\u001b[39;00m\n\u001b[0;32m    509\u001b[0m values \u001b[38;5;241m=\u001b[39m \u001b[38;5;28mself\u001b[39m\u001b[38;5;241m.\u001b[39mvalues\n\u001b[1;32m--> 511\u001b[0m new_values \u001b[38;5;241m=\u001b[39m astype_array_safe(values, dtype, copy\u001b[38;5;241m=\u001b[39mcopy, errors\u001b[38;5;241m=\u001b[39merrors)\n\u001b[0;32m    513\u001b[0m new_values \u001b[38;5;241m=\u001b[39m maybe_coerce_values(new_values)\n\u001b[0;32m    515\u001b[0m refs \u001b[38;5;241m=\u001b[39m \u001b[38;5;28;01mNone\u001b[39;00m\n",
      "File \u001b[1;32m~\\anaconda3\\Lib\\site-packages\\pandas\\core\\dtypes\\astype.py:242\u001b[0m, in \u001b[0;36mastype_array_safe\u001b[1;34m(values, dtype, copy, errors)\u001b[0m\n\u001b[0;32m    239\u001b[0m     dtype \u001b[38;5;241m=\u001b[39m dtype\u001b[38;5;241m.\u001b[39mnumpy_dtype\n\u001b[0;32m    241\u001b[0m \u001b[38;5;28;01mtry\u001b[39;00m:\n\u001b[1;32m--> 242\u001b[0m     new_values \u001b[38;5;241m=\u001b[39m astype_array(values, dtype, copy\u001b[38;5;241m=\u001b[39mcopy)\n\u001b[0;32m    243\u001b[0m \u001b[38;5;28;01mexcept\u001b[39;00m (\u001b[38;5;167;01mValueError\u001b[39;00m, \u001b[38;5;167;01mTypeError\u001b[39;00m):\n\u001b[0;32m    244\u001b[0m     \u001b[38;5;66;03m# e.g. _astype_nansafe can fail on object-dtype of strings\u001b[39;00m\n\u001b[0;32m    245\u001b[0m     \u001b[38;5;66;03m#  trying to convert to float\u001b[39;00m\n\u001b[0;32m    246\u001b[0m     \u001b[38;5;28;01mif\u001b[39;00m errors \u001b[38;5;241m==\u001b[39m \u001b[38;5;124m\"\u001b[39m\u001b[38;5;124mignore\u001b[39m\u001b[38;5;124m\"\u001b[39m:\n",
      "File \u001b[1;32m~\\anaconda3\\Lib\\site-packages\\pandas\\core\\dtypes\\astype.py:187\u001b[0m, in \u001b[0;36mastype_array\u001b[1;34m(values, dtype, copy)\u001b[0m\n\u001b[0;32m    184\u001b[0m     values \u001b[38;5;241m=\u001b[39m values\u001b[38;5;241m.\u001b[39mastype(dtype, copy\u001b[38;5;241m=\u001b[39mcopy)\n\u001b[0;32m    186\u001b[0m \u001b[38;5;28;01melse\u001b[39;00m:\n\u001b[1;32m--> 187\u001b[0m     values \u001b[38;5;241m=\u001b[39m _astype_nansafe(values, dtype, copy\u001b[38;5;241m=\u001b[39mcopy)\n\u001b[0;32m    189\u001b[0m \u001b[38;5;66;03m# in pandas we don't store numpy str dtypes, so convert to object\u001b[39;00m\n\u001b[0;32m    190\u001b[0m \u001b[38;5;28;01mif\u001b[39;00m \u001b[38;5;28misinstance\u001b[39m(dtype, np\u001b[38;5;241m.\u001b[39mdtype) \u001b[38;5;129;01mand\u001b[39;00m \u001b[38;5;28missubclass\u001b[39m(values\u001b[38;5;241m.\u001b[39mdtype\u001b[38;5;241m.\u001b[39mtype, \u001b[38;5;28mstr\u001b[39m):\n",
      "File \u001b[1;32m~\\anaconda3\\Lib\\site-packages\\pandas\\core\\dtypes\\astype.py:138\u001b[0m, in \u001b[0;36m_astype_nansafe\u001b[1;34m(arr, dtype, copy, skipna)\u001b[0m\n\u001b[0;32m    134\u001b[0m     \u001b[38;5;28;01mraise\u001b[39;00m \u001b[38;5;167;01mValueError\u001b[39;00m(msg)\n\u001b[0;32m    136\u001b[0m \u001b[38;5;28;01mif\u001b[39;00m copy \u001b[38;5;129;01mor\u001b[39;00m is_object_dtype(arr\u001b[38;5;241m.\u001b[39mdtype) \u001b[38;5;129;01mor\u001b[39;00m is_object_dtype(dtype):\n\u001b[0;32m    137\u001b[0m     \u001b[38;5;66;03m# Explicit copy, or required since NumPy can't view from / to object.\u001b[39;00m\n\u001b[1;32m--> 138\u001b[0m     \u001b[38;5;28;01mreturn\u001b[39;00m arr\u001b[38;5;241m.\u001b[39mastype(dtype, copy\u001b[38;5;241m=\u001b[39m\u001b[38;5;28;01mTrue\u001b[39;00m)\n\u001b[0;32m    140\u001b[0m \u001b[38;5;28;01mreturn\u001b[39;00m arr\u001b[38;5;241m.\u001b[39mastype(dtype, copy\u001b[38;5;241m=\u001b[39mcopy)\n",
      "\u001b[1;31mValueError\u001b[0m: invalid literal for int() with base 10: 'Batman v Superman: Dawn of Justice\\xa0'"
     ]
    }
   ],
   "source": [
    "genres = x.astype('int')\n",
    "\n",
    "genres.head()"
   ]
  },
  {
   "cell_type": "code",
   "execution_count": 38,
   "id": "7e754f95",
   "metadata": {},
   "outputs": [
    {
     "ename": "NameError",
     "evalue": "name 'genres' is not defined",
     "output_type": "error",
     "traceback": [
      "\u001b[1;31m---------------------------------------------------------------------------\u001b[0m",
      "\u001b[1;31mNameError\u001b[0m                                 Traceback (most recent call last)",
      "Cell \u001b[1;32mIn[38], line 2\u001b[0m\n\u001b[0;32m      1\u001b[0m \u001b[38;5;66;03m# now, lets insert the movie titles in the first column, so that we can better understand the data\u001b[39;00m\n\u001b[1;32m----> 2\u001b[0m genres\u001b[38;5;241m.\u001b[39minsert(\u001b[38;5;241m0\u001b[39m, \u001b[38;5;124m'\u001b[39m\u001b[38;5;124mmovie_title\u001b[39m\u001b[38;5;124m'\u001b[39m, data[\u001b[38;5;124m'\u001b[39m\u001b[38;5;124mmovie_title\u001b[39m\u001b[38;5;124m'\u001b[39m])\n\u001b[0;32m      4\u001b[0m genres\u001b[38;5;241m.\u001b[39mhead()\n",
      "\u001b[1;31mNameError\u001b[0m: name 'genres' is not defined"
     ]
    }
   ],
   "source": [
    "# now, lets insert the movie titles in the first column, so that we can better understand the data\n",
    "genres.insert(0, 'movie_title', data['movie_title'])\n",
    "\n",
    "genres.head()"
   ]
  },
  {
   "cell_type": "code",
   "execution_count": 39,
   "id": "0054a5a5",
   "metadata": {},
   "outputs": [
    {
     "ename": "NameError",
     "evalue": "name 'genres' is not defined",
     "output_type": "error",
     "traceback": [
      "\u001b[1;31m---------------------------------------------------------------------------\u001b[0m",
      "\u001b[1;31mNameError\u001b[0m                                 Traceback (most recent call last)",
      "Cell \u001b[1;32mIn[39], line 2\u001b[0m\n\u001b[0;32m      1\u001b[0m \u001b[38;5;66;03m# lets set these movie titles as index of the data\u001b[39;00m\n\u001b[1;32m----> 2\u001b[0m genres \u001b[38;5;241m=\u001b[39m genres\u001b[38;5;241m.\u001b[39mset_index(\u001b[38;5;124m'\u001b[39m\u001b[38;5;124mmovie_title\u001b[39m\u001b[38;5;124m'\u001b[39m)\n\u001b[0;32m      4\u001b[0m genres\u001b[38;5;241m.\u001b[39mhead()\n",
      "\u001b[1;31mNameError\u001b[0m: name 'genres' is not defined"
     ]
    }
   ],
   "source": [
    "# lets set these movie titles as index of the data\n",
    "genres = genres.set_index('movie_title')\n",
    "\n",
    "genres.head()"
   ]
  },
  {
   "cell_type": "code",
   "execution_count": 40,
   "id": "ed26144b",
   "metadata": {},
   "outputs": [],
   "source": [
    "# making a recommendation engine for getting similar genres\n",
    "\n",
    "def recommendation_genres(gen):\n",
    "    gen = genres[gen]\n",
    "    similar_genres = genres.corrwith(gen)\n",
    "    similar_genres = similar_genres.sort_values(ascending=False)\n",
    "    similar_genres = similar_genres.iloc[1:]\n",
    "    return similar_genres.head(3)"
   ]
  },
  {
   "cell_type": "code",
   "execution_count": 41,
   "id": "a4364b9f",
   "metadata": {},
   "outputs": [
    {
     "ename": "NameError",
     "evalue": "name 'genres' is not defined",
     "output_type": "error",
     "traceback": [
      "\u001b[1;31m---------------------------------------------------------------------------\u001b[0m",
      "\u001b[1;31mNameError\u001b[0m                                 Traceback (most recent call last)",
      "Cell \u001b[1;32mIn[41], line 1\u001b[0m\n\u001b[1;32m----> 1\u001b[0m recommendation_genres(\u001b[38;5;124m'\u001b[39m\u001b[38;5;124mAction\u001b[39m\u001b[38;5;124m'\u001b[39m)\n",
      "Cell \u001b[1;32mIn[40], line 4\u001b[0m, in \u001b[0;36mrecommendation_genres\u001b[1;34m(gen)\u001b[0m\n\u001b[0;32m      3\u001b[0m \u001b[38;5;28;01mdef\u001b[39;00m \u001b[38;5;21mrecommendation_genres\u001b[39m(gen):\n\u001b[1;32m----> 4\u001b[0m     gen \u001b[38;5;241m=\u001b[39m genres[gen]\n\u001b[0;32m      5\u001b[0m     similar_genres \u001b[38;5;241m=\u001b[39m genres\u001b[38;5;241m.\u001b[39mcorrwith(gen)\n\u001b[0;32m      6\u001b[0m     similar_genres \u001b[38;5;241m=\u001b[39m similar_genres\u001b[38;5;241m.\u001b[39msort_values(ascending\u001b[38;5;241m=\u001b[39m\u001b[38;5;28;01mFalse\u001b[39;00m)\n",
      "\u001b[1;31mNameError\u001b[0m: name 'genres' is not defined"
     ]
    }
   ],
   "source": [
    "recommendation_genres('Action')"
   ]
  },
  {
   "cell_type": "markdown",
   "id": "453cda73",
   "metadata": {},
   "source": [
    "Recommending similar movies"
   ]
  },
  {
   "cell_type": "code",
   "execution_count": 42,
   "id": "cf347545",
   "metadata": {},
   "outputs": [
    {
     "ename": "NameError",
     "evalue": "name 'genres' is not defined",
     "output_type": "error",
     "traceback": [
      "\u001b[1;31m---------------------------------------------------------------------------\u001b[0m",
      "\u001b[1;31mNameError\u001b[0m                                 Traceback (most recent call last)",
      "Cell \u001b[1;32mIn[42], line 3\u001b[0m\n\u001b[0;32m      1\u001b[0m \u001b[38;5;66;03m# lets make a sparse matrix to recommend the movies\u001b[39;00m\n\u001b[1;32m----> 3\u001b[0m x \u001b[38;5;241m=\u001b[39m genres\u001b[38;5;241m.\u001b[39mtranspose()\n\u001b[0;32m      4\u001b[0m x\u001b[38;5;241m.\u001b[39mhead()\n",
      "\u001b[1;31mNameError\u001b[0m: name 'genres' is not defined"
     ]
    }
   ],
   "source": [
    "# lets make a sparse matrix to recommend the movies\n",
    "\n",
    "x = genres.transpose()\n",
    "x.head()"
   ]
  },
  {
   "cell_type": "code",
   "execution_count": 43,
   "id": "7960825b",
   "metadata": {},
   "outputs": [],
   "source": [
    "# making a recommendation engine for getting similar movies\n",
    "\n",
    "def recommendation_movie(movie):    \n",
    "    movie = x[movie+'\\xa0']\n",
    "    similar_movies = x.corrwith(movie)\n",
    "    similar_movies = similar_movies.sort_values(ascending=False)\n",
    "    similar_movies = similar_movies.iloc[1:]\n",
    "    return similar_movies.head(20)"
   ]
  },
  {
   "cell_type": "code",
   "execution_count": 44,
   "id": "a5251c9f",
   "metadata": {},
   "outputs": [
    {
     "ename": "KeyError",
     "evalue": "'The Expendables\\xa0'",
     "output_type": "error",
     "traceback": [
      "\u001b[1;31m---------------------------------------------------------------------------\u001b[0m",
      "\u001b[1;31mKeyError\u001b[0m                                  Traceback (most recent call last)",
      "File \u001b[1;32m~\\anaconda3\\Lib\\site-packages\\pandas\\core\\indexes\\base.py:3653\u001b[0m, in \u001b[0;36mIndex.get_loc\u001b[1;34m(self, key)\u001b[0m\n\u001b[0;32m   3652\u001b[0m \u001b[38;5;28;01mtry\u001b[39;00m:\n\u001b[1;32m-> 3653\u001b[0m     \u001b[38;5;28;01mreturn\u001b[39;00m \u001b[38;5;28mself\u001b[39m\u001b[38;5;241m.\u001b[39m_engine\u001b[38;5;241m.\u001b[39mget_loc(casted_key)\n\u001b[0;32m   3654\u001b[0m \u001b[38;5;28;01mexcept\u001b[39;00m \u001b[38;5;167;01mKeyError\u001b[39;00m \u001b[38;5;28;01mas\u001b[39;00m err:\n",
      "File \u001b[1;32m~\\anaconda3\\Lib\\site-packages\\pandas\\_libs\\index.pyx:147\u001b[0m, in \u001b[0;36mpandas._libs.index.IndexEngine.get_loc\u001b[1;34m()\u001b[0m\n",
      "File \u001b[1;32m~\\anaconda3\\Lib\\site-packages\\pandas\\_libs\\index.pyx:176\u001b[0m, in \u001b[0;36mpandas._libs.index.IndexEngine.get_loc\u001b[1;34m()\u001b[0m\n",
      "File \u001b[1;32mpandas\\_libs\\hashtable_class_helper.pxi:7080\u001b[0m, in \u001b[0;36mpandas._libs.hashtable.PyObjectHashTable.get_item\u001b[1;34m()\u001b[0m\n",
      "File \u001b[1;32mpandas\\_libs\\hashtable_class_helper.pxi:7088\u001b[0m, in \u001b[0;36mpandas._libs.hashtable.PyObjectHashTable.get_item\u001b[1;34m()\u001b[0m\n",
      "\u001b[1;31mKeyError\u001b[0m: 'The Expendables\\xa0'",
      "\nThe above exception was the direct cause of the following exception:\n",
      "\u001b[1;31mKeyError\u001b[0m                                  Traceback (most recent call last)",
      "Cell \u001b[1;32mIn[44], line 2\u001b[0m\n\u001b[0;32m      1\u001b[0m \u001b[38;5;66;03m# lets test on some results\u001b[39;00m\n\u001b[1;32m----> 2\u001b[0m recommendation_movie(\u001b[38;5;124m'\u001b[39m\u001b[38;5;124mThe Expendables\u001b[39m\u001b[38;5;124m'\u001b[39m)\n",
      "Cell \u001b[1;32mIn[43], line 4\u001b[0m, in \u001b[0;36mrecommendation_movie\u001b[1;34m(movie)\u001b[0m\n\u001b[0;32m      3\u001b[0m \u001b[38;5;28;01mdef\u001b[39;00m \u001b[38;5;21mrecommendation_movie\u001b[39m(movie):    \n\u001b[1;32m----> 4\u001b[0m     movie \u001b[38;5;241m=\u001b[39m x[movie\u001b[38;5;241m+\u001b[39m\u001b[38;5;124m'\u001b[39m\u001b[38;5;130;01m\\xa0\u001b[39;00m\u001b[38;5;124m'\u001b[39m]\n\u001b[0;32m      5\u001b[0m     similar_movies \u001b[38;5;241m=\u001b[39m x\u001b[38;5;241m.\u001b[39mcorrwith(movie)\n\u001b[0;32m      6\u001b[0m     similar_movies \u001b[38;5;241m=\u001b[39m similar_movies\u001b[38;5;241m.\u001b[39msort_values(ascending\u001b[38;5;241m=\u001b[39m\u001b[38;5;28;01mFalse\u001b[39;00m)\n",
      "File \u001b[1;32m~\\anaconda3\\Lib\\site-packages\\pandas\\core\\frame.py:3761\u001b[0m, in \u001b[0;36mDataFrame.__getitem__\u001b[1;34m(self, key)\u001b[0m\n\u001b[0;32m   3759\u001b[0m \u001b[38;5;28;01mif\u001b[39;00m \u001b[38;5;28mself\u001b[39m\u001b[38;5;241m.\u001b[39mcolumns\u001b[38;5;241m.\u001b[39mnlevels \u001b[38;5;241m>\u001b[39m \u001b[38;5;241m1\u001b[39m:\n\u001b[0;32m   3760\u001b[0m     \u001b[38;5;28;01mreturn\u001b[39;00m \u001b[38;5;28mself\u001b[39m\u001b[38;5;241m.\u001b[39m_getitem_multilevel(key)\n\u001b[1;32m-> 3761\u001b[0m indexer \u001b[38;5;241m=\u001b[39m \u001b[38;5;28mself\u001b[39m\u001b[38;5;241m.\u001b[39mcolumns\u001b[38;5;241m.\u001b[39mget_loc(key)\n\u001b[0;32m   3762\u001b[0m \u001b[38;5;28;01mif\u001b[39;00m is_integer(indexer):\n\u001b[0;32m   3763\u001b[0m     indexer \u001b[38;5;241m=\u001b[39m [indexer]\n",
      "File \u001b[1;32m~\\anaconda3\\Lib\\site-packages\\pandas\\core\\indexes\\base.py:3655\u001b[0m, in \u001b[0;36mIndex.get_loc\u001b[1;34m(self, key)\u001b[0m\n\u001b[0;32m   3653\u001b[0m     \u001b[38;5;28;01mreturn\u001b[39;00m \u001b[38;5;28mself\u001b[39m\u001b[38;5;241m.\u001b[39m_engine\u001b[38;5;241m.\u001b[39mget_loc(casted_key)\n\u001b[0;32m   3654\u001b[0m \u001b[38;5;28;01mexcept\u001b[39;00m \u001b[38;5;167;01mKeyError\u001b[39;00m \u001b[38;5;28;01mas\u001b[39;00m err:\n\u001b[1;32m-> 3655\u001b[0m     \u001b[38;5;28;01mraise\u001b[39;00m \u001b[38;5;167;01mKeyError\u001b[39;00m(key) \u001b[38;5;28;01mfrom\u001b[39;00m \u001b[38;5;21;01merr\u001b[39;00m\n\u001b[0;32m   3656\u001b[0m \u001b[38;5;28;01mexcept\u001b[39;00m \u001b[38;5;167;01mTypeError\u001b[39;00m:\n\u001b[0;32m   3657\u001b[0m     \u001b[38;5;66;03m# If we have a listlike key, _check_indexing_error will raise\u001b[39;00m\n\u001b[0;32m   3658\u001b[0m     \u001b[38;5;66;03m#  InvalidIndexError. Otherwise we fall through and re-raise\u001b[39;00m\n\u001b[0;32m   3659\u001b[0m     \u001b[38;5;66;03m#  the TypeError.\u001b[39;00m\n\u001b[0;32m   3660\u001b[0m     \u001b[38;5;28mself\u001b[39m\u001b[38;5;241m.\u001b[39m_check_indexing_error(key)\n",
      "\u001b[1;31mKeyError\u001b[0m: 'The Expendables\\xa0'"
     ]
    }
   ],
   "source": [
    "# lets test on some results\n",
    "recommendation_movie('The Expendables')"
   ]
  },
  {
   "cell_type": "code",
   "execution_count": null,
   "id": "0620aa57",
   "metadata": {},
   "outputs": [],
   "source": []
  }
 ],
 "metadata": {
  "kernelspec": {
   "display_name": "Python 3 (ipykernel)",
   "language": "python",
   "name": "python3"
  },
  "language_info": {
   "codemirror_mode": {
    "name": "ipython",
    "version": 3
   },
   "file_extension": ".py",
   "mimetype": "text/x-python",
   "name": "python",
   "nbconvert_exporter": "python",
   "pygments_lexer": "ipython3",
   "version": "3.11.5"
  }
 },
 "nbformat": 4,
 "nbformat_minor": 5
}
